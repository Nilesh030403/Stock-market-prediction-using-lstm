{
  "cells": [
    {
      "cell_type": "code",
      "execution_count": null,
      "metadata": {
        "colab": {
          "base_uri": "https://localhost:8080/"
        },
        "id": "ShcmRiXTvtZ-",
        "outputId": "80caf837-4095-4fe9-f18e-7c33245d6e86"
      },
      "outputs": [
        {
          "output_type": "stream",
          "name": "stdout",
          "text": [
            "Looking in indexes: https://pypi.org/simple, https://us-python.pkg.dev/colab-wheels/public/simple/\n",
            "Requirement already satisfied: yfinance in /usr/local/lib/python3.7/dist-packages (0.1.74)\n",
            "Requirement already satisfied: pandas>=0.24.0 in /usr/local/lib/python3.7/dist-packages (from yfinance) (1.3.5)\n",
            "Requirement already satisfied: numpy>=1.15 in /usr/local/lib/python3.7/dist-packages (from yfinance) (1.21.6)\n",
            "Requirement already satisfied: lxml>=4.5.1 in /usr/local/lib/python3.7/dist-packages (from yfinance) (4.9.1)\n",
            "Requirement already satisfied: requests>=2.26 in /usr/local/lib/python3.7/dist-packages (from yfinance) (2.28.1)\n",
            "Requirement already satisfied: multitasking>=0.0.7 in /usr/local/lib/python3.7/dist-packages (from yfinance) (0.0.11)\n",
            "Requirement already satisfied: python-dateutil>=2.7.3 in /usr/local/lib/python3.7/dist-packages (from pandas>=0.24.0->yfinance) (2.8.2)\n",
            "Requirement already satisfied: pytz>=2017.3 in /usr/local/lib/python3.7/dist-packages (from pandas>=0.24.0->yfinance) (2022.2)\n",
            "Requirement already satisfied: six>=1.5 in /usr/local/lib/python3.7/dist-packages (from python-dateutil>=2.7.3->pandas>=0.24.0->yfinance) (1.15.0)\n",
            "Requirement already satisfied: idna<4,>=2.5 in /usr/local/lib/python3.7/dist-packages (from requests>=2.26->yfinance) (2.10)\n",
            "Requirement already satisfied: certifi>=2017.4.17 in /usr/local/lib/python3.7/dist-packages (from requests>=2.26->yfinance) (2022.6.15)\n",
            "Requirement already satisfied: urllib3<1.27,>=1.21.1 in /usr/local/lib/python3.7/dist-packages (from requests>=2.26->yfinance) (1.24.3)\n",
            "Requirement already satisfied: charset-normalizer<3,>=2 in /usr/local/lib/python3.7/dist-packages (from requests>=2.26->yfinance) (2.1.0)\n"
          ]
        }
      ],
      "source": [
        "                                             pip install yfinance"
      ]
    },
    {
      "cell_type": "code",
      "execution_count": null,
      "metadata": {
        "id": "Xk_eFx9Qv470"
      },
      "outputs": [],
      "source": [
        "import yfinance as yf"
      ]
    },
    {
      "cell_type": "code",
      "execution_count": null,
      "metadata": {
        "colab": {
          "base_uri": "https://localhost:8080/"
        },
        "id": "wiALfs_zv8UI",
        "outputId": "ab64286c-f77e-479b-fcca-c979ce5e4f41"
      },
      "outputs": [
        {
          "output_type": "stream",
          "name": "stdout",
          "text": [
            "\r[*********************100%***********************]  1 of 1 completed\n"
          ]
        }
      ],
      "source": [
        "df= yf.download('^DJI', period='5000d', interval='1d')"
      ]
    },
    {
      "cell_type": "code",
      "execution_count": null,
      "metadata": {
        "colab": {
          "base_uri": "https://localhost:8080/",
          "height": 455
        },
        "id": "QV2DT0MNwDuk",
        "outputId": "d4959aba-7fde-4c53-cd56-5a9506b36b7a"
      },
      "outputs": [
        {
          "output_type": "execute_result",
          "data": {
            "text/plain": [
              "                    Open          High           Low         Close  \\\n",
              "Date                                                                 \n",
              "2002-10-08   7425.819824   7622.660156   7331.419922   7501.490234   \n",
              "2002-10-09   7499.959961   7500.029785   7282.390137   7286.270020   \n",
              "2002-10-10   7286.339844   7560.930176   7197.490234   7533.950195   \n",
              "2002-10-11   7540.740234   7901.259766   7540.740234   7850.290039   \n",
              "2002-10-14   7848.209961   7915.000000   7745.700195   7877.399902   \n",
              "...                  ...           ...           ...           ...   \n",
              "2022-08-11  33451.511719  33651.800781  33289.828125  33336.671875   \n",
              "2022-08-12  33430.718750  33767.089844  33398.320312  33761.050781   \n",
              "2022-08-15  33710.699219  33954.710938  33582.960938  33912.441406   \n",
              "2022-08-16  33924.351562  34281.359375  33852.570312  34152.011719   \n",
              "2022-08-17  34029.550781  34161.011719  33828.410156  33980.320312   \n",
              "\n",
              "               Adj Close     Volume  \n",
              "Date                                 \n",
              "2002-10-08   7501.490234  377960000  \n",
              "2002-10-09   7286.270020  377870000  \n",
              "2002-10-10   7533.950195  393740000  \n",
              "2002-10-11   7850.290039  351520000  \n",
              "2002-10-14   7877.399902  228340000  \n",
              "...                  ...        ...  \n",
              "2022-08-11  33336.671875  308030000  \n",
              "2022-08-12  33761.050781  299140000  \n",
              "2022-08-15  33912.441406  262670000  \n",
              "2022-08-16  34152.011719  288670000  \n",
              "2022-08-17  33980.320312  281390000  \n",
              "\n",
              "[5000 rows x 6 columns]"
            ],
            "text/html": [
              "\n",
              "  <div id=\"df-6022513d-042b-4e82-b18d-e9012d9234db\">\n",
              "    <div class=\"colab-df-container\">\n",
              "      <div>\n",
              "<style scoped>\n",
              "    .dataframe tbody tr th:only-of-type {\n",
              "        vertical-align: middle;\n",
              "    }\n",
              "\n",
              "    .dataframe tbody tr th {\n",
              "        vertical-align: top;\n",
              "    }\n",
              "\n",
              "    .dataframe thead th {\n",
              "        text-align: right;\n",
              "    }\n",
              "</style>\n",
              "<table border=\"1\" class=\"dataframe\">\n",
              "  <thead>\n",
              "    <tr style=\"text-align: right;\">\n",
              "      <th></th>\n",
              "      <th>Open</th>\n",
              "      <th>High</th>\n",
              "      <th>Low</th>\n",
              "      <th>Close</th>\n",
              "      <th>Adj Close</th>\n",
              "      <th>Volume</th>\n",
              "    </tr>\n",
              "    <tr>\n",
              "      <th>Date</th>\n",
              "      <th></th>\n",
              "      <th></th>\n",
              "      <th></th>\n",
              "      <th></th>\n",
              "      <th></th>\n",
              "      <th></th>\n",
              "    </tr>\n",
              "  </thead>\n",
              "  <tbody>\n",
              "    <tr>\n",
              "      <th>2002-10-08</th>\n",
              "      <td>7425.819824</td>\n",
              "      <td>7622.660156</td>\n",
              "      <td>7331.419922</td>\n",
              "      <td>7501.490234</td>\n",
              "      <td>7501.490234</td>\n",
              "      <td>377960000</td>\n",
              "    </tr>\n",
              "    <tr>\n",
              "      <th>2002-10-09</th>\n",
              "      <td>7499.959961</td>\n",
              "      <td>7500.029785</td>\n",
              "      <td>7282.390137</td>\n",
              "      <td>7286.270020</td>\n",
              "      <td>7286.270020</td>\n",
              "      <td>377870000</td>\n",
              "    </tr>\n",
              "    <tr>\n",
              "      <th>2002-10-10</th>\n",
              "      <td>7286.339844</td>\n",
              "      <td>7560.930176</td>\n",
              "      <td>7197.490234</td>\n",
              "      <td>7533.950195</td>\n",
              "      <td>7533.950195</td>\n",
              "      <td>393740000</td>\n",
              "    </tr>\n",
              "    <tr>\n",
              "      <th>2002-10-11</th>\n",
              "      <td>7540.740234</td>\n",
              "      <td>7901.259766</td>\n",
              "      <td>7540.740234</td>\n",
              "      <td>7850.290039</td>\n",
              "      <td>7850.290039</td>\n",
              "      <td>351520000</td>\n",
              "    </tr>\n",
              "    <tr>\n",
              "      <th>2002-10-14</th>\n",
              "      <td>7848.209961</td>\n",
              "      <td>7915.000000</td>\n",
              "      <td>7745.700195</td>\n",
              "      <td>7877.399902</td>\n",
              "      <td>7877.399902</td>\n",
              "      <td>228340000</td>\n",
              "    </tr>\n",
              "    <tr>\n",
              "      <th>...</th>\n",
              "      <td>...</td>\n",
              "      <td>...</td>\n",
              "      <td>...</td>\n",
              "      <td>...</td>\n",
              "      <td>...</td>\n",
              "      <td>...</td>\n",
              "    </tr>\n",
              "    <tr>\n",
              "      <th>2022-08-11</th>\n",
              "      <td>33451.511719</td>\n",
              "      <td>33651.800781</td>\n",
              "      <td>33289.828125</td>\n",
              "      <td>33336.671875</td>\n",
              "      <td>33336.671875</td>\n",
              "      <td>308030000</td>\n",
              "    </tr>\n",
              "    <tr>\n",
              "      <th>2022-08-12</th>\n",
              "      <td>33430.718750</td>\n",
              "      <td>33767.089844</td>\n",
              "      <td>33398.320312</td>\n",
              "      <td>33761.050781</td>\n",
              "      <td>33761.050781</td>\n",
              "      <td>299140000</td>\n",
              "    </tr>\n",
              "    <tr>\n",
              "      <th>2022-08-15</th>\n",
              "      <td>33710.699219</td>\n",
              "      <td>33954.710938</td>\n",
              "      <td>33582.960938</td>\n",
              "      <td>33912.441406</td>\n",
              "      <td>33912.441406</td>\n",
              "      <td>262670000</td>\n",
              "    </tr>\n",
              "    <tr>\n",
              "      <th>2022-08-16</th>\n",
              "      <td>33924.351562</td>\n",
              "      <td>34281.359375</td>\n",
              "      <td>33852.570312</td>\n",
              "      <td>34152.011719</td>\n",
              "      <td>34152.011719</td>\n",
              "      <td>288670000</td>\n",
              "    </tr>\n",
              "    <tr>\n",
              "      <th>2022-08-17</th>\n",
              "      <td>34029.550781</td>\n",
              "      <td>34161.011719</td>\n",
              "      <td>33828.410156</td>\n",
              "      <td>33980.320312</td>\n",
              "      <td>33980.320312</td>\n",
              "      <td>281390000</td>\n",
              "    </tr>\n",
              "  </tbody>\n",
              "</table>\n",
              "<p>5000 rows × 6 columns</p>\n",
              "</div>\n",
              "      <button class=\"colab-df-convert\" onclick=\"convertToInteractive('df-6022513d-042b-4e82-b18d-e9012d9234db')\"\n",
              "              title=\"Convert this dataframe to an interactive table.\"\n",
              "              style=\"display:none;\">\n",
              "        \n",
              "  <svg xmlns=\"http://www.w3.org/2000/svg\" height=\"24px\"viewBox=\"0 0 24 24\"\n",
              "       width=\"24px\">\n",
              "    <path d=\"M0 0h24v24H0V0z\" fill=\"none\"/>\n",
              "    <path d=\"M18.56 5.44l.94 2.06.94-2.06 2.06-.94-2.06-.94-.94-2.06-.94 2.06-2.06.94zm-11 1L8.5 8.5l.94-2.06 2.06-.94-2.06-.94L8.5 2.5l-.94 2.06-2.06.94zm10 10l.94 2.06.94-2.06 2.06-.94-2.06-.94-.94-2.06-.94 2.06-2.06.94z\"/><path d=\"M17.41 7.96l-1.37-1.37c-.4-.4-.92-.59-1.43-.59-.52 0-1.04.2-1.43.59L10.3 9.45l-7.72 7.72c-.78.78-.78 2.05 0 2.83L4 21.41c.39.39.9.59 1.41.59.51 0 1.02-.2 1.41-.59l7.78-7.78 2.81-2.81c.8-.78.8-2.07 0-2.86zM5.41 20L4 18.59l7.72-7.72 1.47 1.35L5.41 20z\"/>\n",
              "  </svg>\n",
              "      </button>\n",
              "      \n",
              "  <style>\n",
              "    .colab-df-container {\n",
              "      display:flex;\n",
              "      flex-wrap:wrap;\n",
              "      gap: 12px;\n",
              "    }\n",
              "\n",
              "    .colab-df-convert {\n",
              "      background-color: #E8F0FE;\n",
              "      border: none;\n",
              "      border-radius: 50%;\n",
              "      cursor: pointer;\n",
              "      display: none;\n",
              "      fill: #1967D2;\n",
              "      height: 32px;\n",
              "      padding: 0 0 0 0;\n",
              "      width: 32px;\n",
              "    }\n",
              "\n",
              "    .colab-df-convert:hover {\n",
              "      background-color: #E2EBFA;\n",
              "      box-shadow: 0px 1px 2px rgba(60, 64, 67, 0.3), 0px 1px 3px 1px rgba(60, 64, 67, 0.15);\n",
              "      fill: #174EA6;\n",
              "    }\n",
              "\n",
              "    [theme=dark] .colab-df-convert {\n",
              "      background-color: #3B4455;\n",
              "      fill: #D2E3FC;\n",
              "    }\n",
              "\n",
              "    [theme=dark] .colab-df-convert:hover {\n",
              "      background-color: #434B5C;\n",
              "      box-shadow: 0px 1px 3px 1px rgba(0, 0, 0, 0.15);\n",
              "      filter: drop-shadow(0px 1px 2px rgba(0, 0, 0, 0.3));\n",
              "      fill: #FFFFFF;\n",
              "    }\n",
              "  </style>\n",
              "\n",
              "      <script>\n",
              "        const buttonEl =\n",
              "          document.querySelector('#df-6022513d-042b-4e82-b18d-e9012d9234db button.colab-df-convert');\n",
              "        buttonEl.style.display =\n",
              "          google.colab.kernel.accessAllowed ? 'block' : 'none';\n",
              "\n",
              "        async function convertToInteractive(key) {\n",
              "          const element = document.querySelector('#df-6022513d-042b-4e82-b18d-e9012d9234db');\n",
              "          const dataTable =\n",
              "            await google.colab.kernel.invokeFunction('convertToInteractive',\n",
              "                                                     [key], {});\n",
              "          if (!dataTable) return;\n",
              "\n",
              "          const docLinkHtml = 'Like what you see? Visit the ' +\n",
              "            '<a target=\"_blank\" href=https://colab.research.google.com/notebooks/data_table.ipynb>data table notebook</a>'\n",
              "            + ' to learn more about interactive tables.';\n",
              "          element.innerHTML = '';\n",
              "          dataTable['output_type'] = 'display_data';\n",
              "          await google.colab.output.renderOutput(dataTable, element);\n",
              "          const docLink = document.createElement('div');\n",
              "          docLink.innerHTML = docLinkHtml;\n",
              "          element.appendChild(docLink);\n",
              "        }\n",
              "      </script>\n",
              "    </div>\n",
              "  </div>\n",
              "  "
            ]
          },
          "metadata": {},
          "execution_count": 113
        }
      ],
      "source": [
        "df"
      ]
    },
    {
      "cell_type": "code",
      "execution_count": null,
      "metadata": {
        "id": "DFbn8FjSwFMt",
        "colab": {
          "base_uri": "https://localhost:8080/"
        },
        "outputId": "17082a11-eb7e-481b-b927-7924332e505d"
      },
      "outputs": [
        {
          "output_type": "execute_result",
          "data": {
            "text/plain": [
              "0        7501.490234\n",
              "1        7286.270020\n",
              "2        7533.950195\n",
              "3        7850.290039\n",
              "4        7877.399902\n",
              "            ...     \n",
              "4995    33336.671875\n",
              "4996    33761.050781\n",
              "4997    33912.441406\n",
              "4998    34152.011719\n",
              "4999    33980.320312\n",
              "Name: Close, Length: 5000, dtype: float64"
            ]
          },
          "metadata": {},
          "execution_count": 114
        }
      ],
      "source": [
        "df1=df.reset_index().Close\n",
        "df1"
      ]
    },
    {
      "cell_type": "code",
      "execution_count": null,
      "metadata": {
        "colab": {
          "base_uri": "https://localhost:8080/",
          "height": 282
        },
        "id": "6UCprkr1wugp",
        "outputId": "fd488459-0d94-4ef3-9f7c-29ecd643d6f1"
      },
      "outputs": [
        {
          "output_type": "execute_result",
          "data": {
            "text/plain": [
              "[<matplotlib.lines.Line2D at 0x7fe30bae45d0>]"
            ]
          },
          "metadata": {},
          "execution_count": 115
        },
        {
          "output_type": "display_data",
          "data": {
            "text/plain": [
              "<Figure size 432x288 with 1 Axes>"
            ],
            "image/png": "[encoded data removed]"
          },
          "metadata": {
            "needs_background": "light"
          }
        }
      ],
      "source": [
        "import matplotlib.pyplot as plt\n",
        "plt.plot(df1)"
      ]
    },
    {
      "cell_type": "code",
      "execution_count": null,
      "metadata": {
        "colab": {
          "base_uri": "https://localhost:8080/"
        },
        "id": "51a1Bs15w0ur",
        "outputId": "b55c0ea0-3a3a-4987-f42c-de661660edbc"
      },
      "outputs": [
        {
          "output_type": "execute_result",
          "data": {
            "text/plain": [
              "(5000,)"
            ]
          },
          "metadata": {},
          "execution_count": 116
        }
      ],
      "source": [
        "df1.shape"
      ]
    },
    {
      "cell_type": "code",
      "execution_count": null,
      "metadata": {
        "id": "XgkDnmRgxzjQ"
      },
      "outputs": [],
      "source": [
        "import numpy as np\n",
        "from sklearn.preprocessing import MinMaxScaler #LSTM sensitive to scale of data\n",
        "scaler= MinMaxScaler(feature_range=(0,1))\n",
        "df1= scaler.fit_transform(np.array(df1).reshape(-1,1))"
      ]
    },
    {
      "cell_type": "code",
      "source": [
        "df1"
      ],
      "metadata": {
        "colab": {
          "base_uri": "https://localhost:8080/"
        },
        "id": "K0TUP0KaKG7g",
        "outputId": "bfc91a7f-ba17-43d1-febe-5457657adb8c"
      },
      "execution_count": null,
      "outputs": [
        {
          "output_type": "execute_result",
          "data": {
            "text/plain": [
              "array([[0.03154904],\n",
              "       [0.02443493],\n",
              "       [0.032622  ],\n",
              "       ...,\n",
              "       [0.90456334],\n",
              "       [0.91248234],\n",
              "       [0.90680708]])"
            ]
          },
          "metadata": {},
          "execution_count": 118
        }
      ]
    },
    {
      "cell_type": "code",
      "execution_count": null,
      "metadata": {
        "colab": {
          "base_uri": "https://localhost:8080/"
        },
        "id": "GGLwgSxVy3dn",
        "outputId": "27865fed-6467-47ae-e0a9-6edb0dcf2ce0"
      },
      "outputs": [
        {
          "output_type": "execute_result",
          "data": {
            "text/plain": [
              "(5000, 1)"
            ]
          },
          "metadata": {},
          "execution_count": 119
        }
      ],
      "source": [
        "df1.shape"
      ]
    },
    {
      "cell_type": "code",
      "execution_count": null,
      "metadata": {
        "id": "x-GRTICYy8sg"
      },
      "outputs": [],
      "source": [
        "training_size= int(len(df1)*0.65)\n",
        "test_size=len(df)-training_size\n",
        "train_data, test_data= df1[0:training_size,:], df1[training_size:len(df1),:]"
      ]
    },
    {
      "cell_type": "code",
      "source": [
        "train_data[1,0]"
      ],
      "metadata": {
        "colab": {
          "base_uri": "https://localhost:8080/"
        },
        "id": "3Socig02O_7l",
        "outputId": "eb02e7d8-1164-49e5-e827-dc49f5fad61b"
      },
      "execution_count": null,
      "outputs": [
        {
          "output_type": "execute_result",
          "data": {
            "text/plain": [
              "0.024434932807457344"
            ]
          },
          "metadata": {},
          "execution_count": 121
        }
      ]
    },
    {
      "cell_type": "code",
      "execution_count": null,
      "metadata": {
        "id": "nTFH5NOB3NG6"
      },
      "outputs": [],
      "source": [
        "import numpy\n",
        "def create_dataset(dataset, time_step=1):\n",
        "    dataX, dataY = [], []\n",
        "    for i in range(len(dataset)-time_step-1):\n",
        "        a = dataset[i:(i+time_step), 0]   ###i=0, 0,1,2,3-----99   100 \n",
        "        dataX.append(a)\n",
        "        dataY.append(dataset[i + time_step, 0])\n",
        "    return numpy.array(dataX), numpy.array(dataY)"
      ]
    },
    {
      "cell_type": "code",
      "execution_count": null,
      "metadata": {
        "id": "0kpFFolA593Q"
      },
      "outputs": [],
      "source": [
        "time_step = 5\n",
        "X_train, y_train = create_dataset(train_data, time_step)\n",
        "X_test, ytest = create_dataset(test_data, time_step)"
      ]
    },
    {
      "cell_type": "code",
      "execution_count": null,
      "metadata": {
        "colab": {
          "base_uri": "https://localhost:8080/"
        },
        "id": "sED2iCha5_ax",
        "outputId": "3a07bdea-1d5d-4ba1-f7d0-3a1054890f57"
      },
      "outputs": [
        {
          "output_type": "execute_result",
          "data": {
            "text/plain": [
              "((3244, 5), (3244,))"
            ]
          },
          "metadata": {},
          "execution_count": 124
        }
      ],
      "source": [
        "X_train.shape, y_train.shape"
      ]
    },
    {
      "cell_type": "code",
      "execution_count": null,
      "metadata": {
        "colab": {
          "base_uri": "https://localhost:8080/"
        },
        "id": "-W3mzY_z6DJr",
        "outputId": "ee19b0d6-5fbb-470c-c1f5-dbb68252eb1d"
      },
      "outputs": [
        {
          "output_type": "execute_result",
          "data": {
            "text/plain": [
              "(1744, 5)"
            ]
          },
          "metadata": {},
          "execution_count": 125
        }
      ],
      "source": [
        "X_test.shape"
      ]
    },
    {
      "cell_type": "code",
      "execution_count": null,
      "metadata": {
        "colab": {
          "base_uri": "https://localhost:8080/"
        },
        "id": "1QzXOhGO97S2",
        "outputId": "b8991da1-28d9-481b-998a-180a3777ce04"
      },
      "outputs": [
        {
          "output_type": "execute_result",
          "data": {
            "text/plain": [
              "array([[0.03154904, 0.02443493, 0.032622  , 0.04307862, 0.04397474],\n",
              "       [0.02443493, 0.032622  , 0.04307862, 0.04397474, 0.05647878],\n",
              "       [0.032622  , 0.04307862, 0.04397474, 0.05647878, 0.04921825],\n",
              "       ...,\n",
              "       [0.30821484, 0.30144156, 0.32190491, 0.33411079, 0.33372207],\n",
              "       [0.30144156, 0.32190491, 0.33411079, 0.33372207, 0.32992139],\n",
              "       [0.32190491, 0.33411079, 0.33372207, 0.32992139, 0.31439613]])"
            ]
          },
          "metadata": {},
          "execution_count": 126
        }
      ],
      "source": [
        "X_train"
      ]
    },
    {
      "cell_type": "code",
      "execution_count": null,
      "metadata": {
        "id": "HAjVM4-l6t56"
      },
      "outputs": [],
      "source": [
        "X_train =X_train.reshape(X_train.shape[0],X_train.shape[1] , 1)\n",
        "X_test = X_test.reshape(X_test.shape[0],X_test.shape[1] , 1)\n",
        "#For LSTM"
      ]
    },
    {
      "cell_type": "code",
      "source": [
        "X_train"
      ],
      "metadata": {
        "colab": {
          "base_uri": "https://localhost:8080/"
        },
        "id": "Nps16OOKPkNV",
        "outputId": "7426ce5d-236c-4f60-d089-50d97f79a484"
      },
      "execution_count": null,
      "outputs": [
        {
          "output_type": "execute_result",
          "data": {
            "text/plain": [
              "array([[[0.03154904],\n",
              "        [0.02443493],\n",
              "        [0.032622  ],\n",
              "        [0.04307862],\n",
              "        [0.04397474]],\n",
              "\n",
              "       [[0.02443493],\n",
              "        [0.032622  ],\n",
              "        [0.04307862],\n",
              "        [0.04397474],\n",
              "        [0.05647878]],\n",
              "\n",
              "       [[0.032622  ],\n",
              "        [0.04307862],\n",
              "        [0.04397474],\n",
              "        [0.05647878],\n",
              "        [0.04921825]],\n",
              "\n",
              "       ...,\n",
              "\n",
              "       [[0.30821484],\n",
              "        [0.30144156],\n",
              "        [0.32190491],\n",
              "        [0.33411079],\n",
              "        [0.33372207]],\n",
              "\n",
              "       [[0.30144156],\n",
              "        [0.32190491],\n",
              "        [0.33411079],\n",
              "        [0.33372207],\n",
              "        [0.32992139]],\n",
              "\n",
              "       [[0.32190491],\n",
              "        [0.33411079],\n",
              "        [0.33372207],\n",
              "        [0.32992139],\n",
              "        [0.31439613]]])"
            ]
          },
          "metadata": {},
          "execution_count": 128
        }
      ]
    },
    {
      "cell_type": "code",
      "execution_count": null,
      "metadata": {
        "id": "piaybImN7N8N"
      },
      "outputs": [],
      "source": [
        "from tensorflow.keras.models import Sequential\n",
        "from tensorflow.keras.layers import Dense\n",
        "from tensorflow.keras.layers import LSTM\n",
        "from tensorflow.keras.layers import Bidirectional"
      ]
    },
    {
      "cell_type": "code",
      "execution_count": null,
      "metadata": {
        "id": "2BGlNsNx8XTZ"
      },
      "outputs": [],
      "source": [
        "model=Sequential()\n",
        "model.add(LSTM(50,return_sequences=True,input_shape=(5,1)))\n",
        "model.add(Bidirectional(LSTM(50,return_sequences=True)))\n",
        "model.add(LSTM(50))\n",
        "model.add(Dense(1))\n",
        "model.compile(loss='mean_squared_error',optimizer='adam')"
      ]
    },
    {
      "cell_type": "code",
      "execution_count": null,
      "metadata": {
        "colab": {
          "base_uri": "https://localhost:8080/"
        },
        "id": "qPL0iRj_B44w",
        "outputId": "7a3662ab-0812-4c48-eda0-79931fb407a5"
      },
      "outputs": [
        {
          "output_type": "stream",
          "name": "stdout",
          "text": [
            "Epoch 1/5\n",
            "51/51 [==============================] - 12s 59ms/step - loss: 0.0061 - val_loss: 0.0031\n",
            "Epoch 2/5\n",
            "51/51 [==============================] - 1s 22ms/step - loss: 8.1557e-05 - val_loss: 0.0037\n",
            "Epoch 3/5\n",
            "51/51 [==============================] - 1s 21ms/step - loss: 4.6859e-05 - val_loss: 0.0015\n",
            "Epoch 4/5\n",
            "51/51 [==============================] - 1s 22ms/step - loss: 4.4052e-05 - val_loss: 0.0011\n",
            "Epoch 5/5\n",
            "51/51 [==============================] - 1s 22ms/step - loss: 4.3534e-05 - val_loss: 4.6456e-04\n"
          ]
        },
        {
          "output_type": "execute_result",
          "data": {
            "text/plain": [
              "<keras.callbacks.History at 0x7fe30b727e50>"
            ]
          },
          "metadata": {},
          "execution_count": 131
        }
      ],
      "source": [
        "model.fit(X_train,y_train,validation_data=(X_test,ytest),epochs=5,batch_size=64,verbose=1)"
      ]
    },
    {
      "cell_type": "code",
      "execution_count": null,
      "metadata": {
        "id": "QKQ5q_XzC7T_",
        "colab": {
          "base_uri": "https://localhost:8080/"
        },
        "outputId": "5e237382-5de8-4ef1-bb78-5666169caa74"
      },
      "outputs": [
        {
          "output_type": "stream",
          "name": "stdout",
          "text": [
            "102/102 [==============================] - 2s 5ms/step\n",
            "55/55 [==============================] - 0s 5ms/step\n"
          ]
        }
      ],
      "source": [
        "train_predict=model.predict(X_train)\n",
        "test_predict= model.predict(X_test)"
      ]
    },
    {
      "cell_type": "code",
      "execution_count": null,
      "metadata": {
        "id": "1Bp7ibJfDm6W"
      },
      "outputs": [],
      "source": [
        "train_predict=scaler.inverse_transform(train_predict)\n",
        "test_predict=scaler.inverse_transform(test_predict)"
      ]
    },
    {
      "cell_type": "code",
      "execution_count": null,
      "metadata": {
        "colab": {
          "base_uri": "https://localhost:8080/"
        },
        "id": "4Kl2heGbD39W",
        "outputId": "225bdb25-6902-4080-e81a-e33f6c0a4702"
      },
      "outputs": [
        {
          "output_type": "execute_result",
          "data": {
            "text/plain": [
              "12325.14691075312"
            ]
          },
          "metadata": {},
          "execution_count": 134
        }
      ],
      "source": [
        "import math\n",
        "from sklearn.metrics import mean_squared_error\n",
        "math.sqrt(mean_squared_error(y_train,train_predict))"
      ]
    },
    {
      "cell_type": "code",
      "execution_count": null,
      "metadata": {
        "colab": {
          "base_uri": "https://localhost:8080/"
        },
        "id": "XBjLdLaoETAu",
        "outputId": "c342eee0-cd40-49d9-84e5-ea61999c5f93"
      },
      "outputs": [
        {
          "output_type": "execute_result",
          "data": {
            "text/plain": [
              "26719.40520726251"
            ]
          },
          "metadata": {},
          "execution_count": 135
        }
      ],
      "source": [
        "math.sqrt(mean_squared_error(ytest,test_predict))"
      ]
    },
    {
      "cell_type": "code",
      "execution_count": null,
      "metadata": {
        "colab": {
          "base_uri": "https://localhost:8080/",
          "height": 265
        },
        "id": "ukTIrM4rEt78",
        "outputId": "c4c5f968-6b8e-49de-ddc2-50e3d3193c57"
      },
      "outputs": [
        {
          "output_type": "display_data",
          "data": {
            "text/plain": [
              "<Figure size 432x288 with 1 Axes>"
            ],
            "image/png": "[encoded data removed]"
          },
          "metadata": {
            "needs_background": "light"
          }
        }
      ],
      "source": [
        "### Plotting \n",
        "# shift train predictions for plotting\n",
        "look_back=5\n",
        "trainPredictPlot = numpy.empty_like(df1)\n",
        "trainPredictPlot[:, :] = np.nan\n",
        "trainPredictPlot[look_back:len(train_predict)+look_back, :] = train_predict\n",
        "# shift test predictions for plotting\n",
        "testPredictPlot = numpy.empty_like(df1)\n",
        "testPredictPlot[:, :] = numpy.nan\n",
        "testPredictPlot[len(train_predict)+(look_back*2)+1:len(df1)-1, :] = test_predict\n",
        "# plot baseline and predictions\n",
        "plt.plot(scaler.inverse_transform(df1))\n",
        "plt.plot(trainPredictPlot)\n",
        "plt.plot(testPredictPlot)\n",
        "plt.show()"
      ]
    },
    {
      "cell_type": "code",
      "execution_count": null,
      "metadata": {
        "colab": {
          "base_uri": "https://localhost:8080/"
        },
        "id": "s15BdcPZFYa0",
        "outputId": "35e848ab-a428-4dde-9acf-225240d94bd9"
      },
      "outputs": [
        {
          "output_type": "execute_result",
          "data": {
            "text/plain": [
              "1750"
            ]
          },
          "metadata": {},
          "execution_count": 137
        }
      ],
      "source": [
        "len(test_data)"
      ]
    },
    {
      "cell_type": "code",
      "execution_count": null,
      "metadata": {
        "colab": {
          "base_uri": "https://localhost:8080/"
        },
        "id": "VrMV4Jg6SMDF",
        "outputId": "3c07ee57-75f1-4c85-d851-bf0a98b2e18e"
      },
      "outputs": [
        {
          "output_type": "execute_result",
          "data": {
            "text/plain": [
              "(1, 5)"
            ]
          },
          "metadata": {},
          "execution_count": 138
        }
      ],
      "source": [
        "x_input=test_data[len(test_data)-look_back:].reshape(1,-1)\n",
        "x_input.shape"
      ]
    },
    {
      "cell_type": "code",
      "execution_count": null,
      "metadata": {
        "id": "1Cjop3cGSgcP"
      },
      "outputs": [],
      "source": [
        "temp_input=list(x_input)\n",
        "temp_input=temp_input[0].tolist()"
      ]
    },
    {
      "cell_type": "code",
      "execution_count": null,
      "metadata": {
        "colab": {
          "base_uri": "https://localhost:8080/"
        },
        "id": "qxfxutynS2wT",
        "outputId": "4bc224c3-654a-4a18-98fe-4960295ed68b"
      },
      "outputs": [
        {
          "output_type": "execute_result",
          "data": {
            "text/plain": [
              "[0.8855312694115474,\n",
              " 0.8995591190981429,\n",
              " 0.9045633379699658,\n",
              " 0.9124823374386646,\n",
              " 0.906807076006287]"
            ]
          },
          "metadata": {},
          "execution_count": 140
        }
      ],
      "source": [
        "temp_input"
      ]
    },
    {
      "cell_type": "code",
      "execution_count": null,
      "metadata": {
        "colab": {
          "base_uri": "https://localhost:8080/"
        },
        "id": "Ce86OJtLW8fl",
        "outputId": "7d78d651-0197-4658-9a69-d076a691d754"
      },
      "outputs": [
        {
          "output_type": "stream",
          "name": "stdout",
          "text": [
            "[0.9241546]\n",
            "6\n",
            "1 day input [0.89955912 0.90456334 0.91248234 0.90680708 0.92415458]\n",
            "1 day output [[0.9319263]]\n",
            "2 day input [0.90456334 0.91248234 0.90680708 0.92415458 0.93192631]\n",
            "2 day output [[0.93763256]]\n",
            "3 day input [0.91248234 0.90680708 0.92415458 0.93192631 0.93763256]\n",
            "3 day output [[0.9439489]]\n",
            "4 day input [0.90680708 0.92415458 0.93192631 0.93763256 0.94394892]\n",
            "4 day output [[0.9499891]]\n",
            "5 day input [0.92415458 0.93192631 0.93763256 0.94394892 0.94998908]\n",
            "5 day output [[0.95989984]]\n",
            "6 day input [0.93192631 0.93763256 0.94394892 0.94998908 0.95989984]\n",
            "6 day output [[0.9668245]]\n",
            "7 day input [0.93763256 0.94394892 0.94998908 0.95989984 0.96682447]\n",
            "7 day output [[0.9735897]]\n",
            "8 day input [0.94394892 0.94998908 0.95989984 0.96682447 0.97358972]\n",
            "8 day output [[0.98081374]]\n",
            "9 day input [0.94998908 0.95989984 0.96682447 0.97358972 0.98081374]\n",
            "9 day output [[0.9883302]]\n",
            "10 day input [0.95989984 0.96682447 0.97358972 0.98081374 0.98833019]\n",
            "10 day output [[0.99624085]]\n",
            "11 day input [0.96682447 0.97358972 0.98081374 0.98833019 0.99624085]\n",
            "11 day output [[1.0033956]]\n",
            "12 day input [0.97358972 0.98081374 0.98833019 0.99624085 1.00339556]\n",
            "12 day output [[1.0106736]]\n",
            "13 day input [0.98081374 0.98833019 0.99624085 1.00339556 1.01067364]\n",
            "13 day output [[1.018126]]\n",
            "14 day input [0.98833019 0.99624085 1.00339556 1.01067364 1.01812601]\n",
            "14 day output [[1.0256222]]\n",
            "15 day input [0.99624085 1.00339556 1.01067364 1.01812601 1.02562225]\n",
            "15 day output [[1.0330771]]\n",
            "16 day input [1.00339556 1.01067364 1.01812601 1.02562225 1.03307712]\n",
            "16 day output [[1.0403693]]\n",
            "17 day input [1.01067364 1.01812601 1.02562225 1.03307712 1.04036927]\n",
            "17 day output [[1.0477175]]\n",
            "18 day input [1.01812601 1.02562225 1.03307712 1.04036927 1.04771745]\n",
            "18 day output [[1.0550824]]\n",
            "19 day input [1.02562225 1.03307712 1.04036927 1.04771745 1.05508244]\n",
            "19 day output [[1.0624084]]\n",
            "20 day input [1.03307712 1.04036927 1.04771745 1.05508244 1.06240845]\n",
            "20 day output [[1.0696757]]\n",
            "21 day input [1.04036927 1.04771745 1.05508244 1.06240845 1.06967568]\n",
            "21 day output [[1.0768871]]\n",
            "22 day input [1.04771745 1.05508244 1.06240845 1.06967568 1.07688713]\n",
            "22 day output [[1.0840813]]\n",
            "23 day input [1.05508244 1.06240845 1.06967568 1.07688713 1.08408129]\n",
            "23 day output [[1.0912321]]\n",
            "24 day input [1.06240845 1.06967568 1.07688713 1.08408129 1.09123206]\n",
            "24 day output [[1.0983223]]\n",
            "25 day input [1.06967568 1.07688713 1.08408129 1.09123206 1.09832227]\n",
            "25 day output [[1.1053501]]\n",
            "26 day input [1.07688713 1.08408129 1.09123206 1.09832227 1.10535014]\n",
            "26 day output [[1.1123185]]\n",
            "27 day input [1.08408129 1.09123206 1.09832227 1.10535014 1.11231852]\n",
            "27 day output [[1.1192279]]\n",
            "28 day input [1.09123206 1.09832227 1.10535014 1.11231852 1.11922789]\n",
            "28 day output [[1.1260674]]\n",
            "29 day input [1.09832227 1.10535014 1.11231852 1.11922789 1.1260674 ]\n",
            "29 day output [[1.1328312]]\n"
          ]
        }
      ],
      "source": [
        "from numpy import array\n",
        "\n",
        "lst_output=[]\n",
        "n_steps=look_back\n",
        "i=0\n",
        "while(i<30):\n",
        "    \n",
        "    if(len(temp_input)>n_steps):\n",
        "        #print(temp_input)\n",
        "        x_input=np.array(temp_input[1:])\n",
        "        print(\"{} day input {}\".format(i,x_input))\n",
        "        x_input=x_input.reshape(1,-1)\n",
        "        x_input = x_input.reshape((1, n_steps, 1))\n",
        "        #print(x_input)\n",
        "        yhat = model.predict(x_input, verbose=0)\n",
        "        print(\"{} day output {}\".format(i,yhat))\n",
        "        temp_input.extend(yhat[0].tolist())\n",
        "        temp_input=temp_input[1:]\n",
        "        #print(temp_input)\n",
        "        lst_output.extend(yhat.tolist())\n",
        "        i=i+1\n",
        "    else:\n",
        "        x_input = x_input.reshape((1, n_steps,1))\n",
        "        yhat = model.predict(x_input, verbose=0)\n",
        "        print(yhat[0])\n",
        "        temp_input.extend(yhat[0].tolist())\n",
        "        print(len(temp_input))\n",
        "        lst_output.extend(yhat.tolist())\n",
        "        i=i+1"
      ]
    },
    {
      "cell_type": "code",
      "execution_count": null,
      "metadata": {
        "id": "4kz4su-5Z9m2"
      },
      "outputs": [],
      "source": [
        "day_new=np.arange(1,6)\n",
        "day_pred=np.arange(6,36)"
      ]
    },
    {
      "cell_type": "code",
      "execution_count": null,
      "metadata": {
        "id": "qoPmmedRah_g"
      },
      "outputs": [],
      "source": [
        "import matplotlib.pyplot as plt"
      ]
    },
    {
      "cell_type": "code",
      "execution_count": null,
      "metadata": {
        "colab": {
          "base_uri": "https://localhost:8080/",
          "height": 282
        },
        "id": "MgVv6aZ8bDy0",
        "outputId": "abc9b800-d9fe-470b-9b74-2404f76e0f43"
      },
      "outputs": [
        {
          "output_type": "execute_result",
          "data": {
            "text/plain": [
              "[<matplotlib.lines.Line2D at 0x7fe30b99e210>]"
            ]
          },
          "metadata": {},
          "execution_count": 143
        },
        {
          "output_type": "display_data",
          "data": {
            "text/plain": [
              "<Figure size 432x288 with 1 Axes>"
            ],
            "image/png": "[encoded data removed]"
          },
          "metadata": {
            "needs_background": "light"
          }
        }
      ],
      "source": [
        "plt.plot(day_new,scaler.inverse_transform(df1[len(df1)-5:]))\n",
        "plt.plot(day_pred,scaler.inverse_transform(lst_output))"
      ]
    },
    {
      "cell_type": "code",
      "execution_count": null,
      "metadata": {
        "colab": {
          "base_uri": "https://localhost:8080/"
        },
        "id": "Y_oF2WP2YYel",
        "outputId": "6cec00f3-52b5-4a19-8fc1-e234b2e56e90"
      },
      "outputs": [
        {
          "output_type": "execute_result",
          "data": {
            "text/plain": [
              "[[34505.127377194876],\n",
              " [34740.242418363516],\n",
              " [34912.87132950779],\n",
              " [35103.95774871571],\n",
              " [35286.688160463],\n",
              " [35586.51447477349],\n",
              " [35796.0025029878],\n",
              " [36000.668786715774],\n",
              " [36219.21426539938],\n",
              " [36446.60622069106],\n",
              " [36685.92451032554],\n",
              " [36902.37287276471],\n",
              " [37122.55384967162],\n",
              " [37348.00736991363],\n",
              " [37574.788041966385],\n",
              " [37800.317296414985],\n",
              " [38020.92382743512],\n",
              " [38243.2253621266],\n",
              " [38466.03539791948],\n",
              " [38687.666143924],\n",
              " [38907.51893926901],\n",
              " [39125.68394372426],\n",
              " [39343.32602151495],\n",
              " [39559.65537305805],\n",
              " [39774.15267807979],\n",
              " [39986.76384071831],\n",
              " [40197.575414352585],\n",
              " [40406.60182454577],\n",
              " [40613.51488973596],\n",
              " [40818.13789677445]]"
            ]
          },
          "metadata": {},
          "execution_count": 144
        }
      ],
      "source": [
        "scaler.inverse_transform(lst_output).tolist()"
      ]
    },
    {
      "cell_type": "code",
      "source": [],
      "metadata": {
        "id": "3m3kUCgVjL2y"
      },
      "execution_count": null,
      "outputs": []
    }
  ],
  "metadata": {
    "colab": {
      "provenance": [],
      "toc_visible": true
    },
    "kernelspec": {
      "display_name": "Python 3",
      "name": "python3"
    },
    "language_info": {
      "name": "python"
    }
  },
  "nbformat": 4,
  "nbformat_minor": 0
}