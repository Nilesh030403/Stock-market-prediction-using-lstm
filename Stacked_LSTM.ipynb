{
  "nbformat": 4,
  "nbformat_minor": 0,
  "metadata": {
    "colab": {
      "provenance": [],
      "toc_visible": true
    },
    "kernelspec": {
      "name": "python3",
      "display_name": "Python 3"
    },
    "language_info": {
      "name": "python"
    }
  },
  "cells": [
    {
      "cell_type": "code",
      "execution_count": null,
      "metadata": {
        "colab": {
          "base_uri": "https://localhost:8080/"
        },
        "id": "ShcmRiXTvtZ-",
        "outputId": "8c7c6072-0892-4112-ff5b-271fb405ecc4"
      },
      "outputs": [
        {
          "output_type": "stream",
          "name": "stdout",
          "text": [
            "Looking in indexes: https://pypi.org/simple, https://us-python.pkg.dev/colab-wheels/public/simple/\n",
            "Requirement already satisfied: yfinance in /usr/local/lib/python3.7/dist-packages (0.1.72)\n",
            "Requirement already satisfied: numpy>=1.15 in /usr/local/lib/python3.7/dist-packages (from yfinance) (1.21.6)\n",
            "Requirement already satisfied: multitasking>=0.0.7 in /usr/local/lib/python3.7/dist-packages (from yfinance) (0.0.10)\n",
            "Requirement already satisfied: lxml>=4.5.1 in /usr/local/lib/python3.7/dist-packages (from yfinance) (4.9.1)\n",
            "Requirement already satisfied: requests>=2.26 in /usr/local/lib/python3.7/dist-packages (from yfinance) (2.28.1)\n",
            "Requirement already satisfied: pandas>=0.24.0 in /usr/local/lib/python3.7/dist-packages (from yfinance) (1.3.5)\n",
            "Requirement already satisfied: python-dateutil>=2.7.3 in /usr/local/lib/python3.7/dist-packages (from pandas>=0.24.0->yfinance) (2.8.2)\n",
            "Requirement already satisfied: pytz>=2017.3 in /usr/local/lib/python3.7/dist-packages (from pandas>=0.24.0->yfinance) (2022.1)\n",
            "Requirement already satisfied: six>=1.5 in /usr/local/lib/python3.7/dist-packages (from python-dateutil>=2.7.3->pandas>=0.24.0->yfinance) (1.15.0)\n",
            "Requirement already satisfied: idna<4,>=2.5 in /usr/local/lib/python3.7/dist-packages (from requests>=2.26->yfinance) (2.10)\n",
            "Requirement already satisfied: charset-normalizer<3,>=2 in /usr/local/lib/python3.7/dist-packages (from requests>=2.26->yfinance) (2.0.12)\n",
            "Requirement already satisfied: certifi>=2017.4.17 in /usr/local/lib/python3.7/dist-packages (from requests>=2.26->yfinance) (2022.6.15)\n",
            "Requirement already satisfied: urllib3<1.27,>=1.21.1 in /usr/local/lib/python3.7/dist-packages (from requests>=2.26->yfinance) (1.24.3)\n"
          ]
        }
      ],
      "source": [
        "pip install yfinance"
      ]
    },
    {
      "cell_type": "code",
      "source": [
        "import yfinance as yf"
      ],
      "metadata": {
        "id": "Xk_eFx9Qv470"
      },
      "execution_count": null,
      "outputs": []
    },
    {
      "cell_type": "code",
      "source": [
        "df= yf.download('RELIANCE.NS', period='2000d', interval='1d')"
      ],
      "metadata": {
        "colab": {
          "base_uri": "https://localhost:8080/"
        },
        "id": "wiALfs_zv8UI",
        "outputId": "5c491b0c-9fb1-4278-8d4f-b93d7cd76cc6"
      },
      "execution_count": null,
      "outputs": [
        {
          "output_type": "stream",
          "name": "stdout",
          "text": [
            "\r[*********************100%***********************]  1 of 1 completed\n"
          ]
        }
      ]
    },
    {
      "cell_type": "code",
      "source": [
        "df"
      ],
      "metadata": {
        "colab": {
          "base_uri": "https://localhost:8080/",
          "height": 455
        },
        "id": "QV2DT0MNwDuk",
        "outputId": "a446f42d-a368-4d07-e89d-2a58c5e2bda4"
      },
      "execution_count": null,
      "outputs": [
        {
          "output_type": "execute_result",
          "data": {
            "text/plain": [
              "                   Open         High          Low        Close    Adj Close  \\\n",
              "Date                                                                          \n",
              "2014-05-29   541.120728   541.566467   529.159119   531.734680   506.907227   \n",
              "2014-05-30   537.405945   539.733887   525.023315   527.351257   502.728485   \n",
              "2014-06-02   532.329041   539.015686   527.648438   536.019104   510.991699   \n",
              "2014-06-03   536.563904   545.826111   533.616821   542.557129   517.224548   \n",
              "2014-06-04   541.195007   545.727051   533.072021   533.691162   508.772430   \n",
              "...                 ...          ...          ...          ...          ...   \n",
              "2022-06-30  2580.000000  2615.899902  2566.000000  2595.649902  2595.649902   \n",
              "2022-07-01  2574.899902  2592.000000  2365.000000  2408.699951  2408.699951   \n",
              "2022-07-04  2378.949951  2442.000000  2366.100098  2413.699951  2413.699951   \n",
              "2022-07-05  2423.000000  2464.899902  2417.100098  2433.250000  2433.250000   \n",
              "2022-07-06  2420.100098  2441.949951  2388.000000  2411.850098  2411.850098   \n",
              "\n",
              "              Volume  \n",
              "Date                  \n",
              "2014-05-29  12764704  \n",
              "2014-05-30   7981124  \n",
              "2014-06-02   4064105  \n",
              "2014-06-03   5018511  \n",
              "2014-06-04   4073385  \n",
              "...              ...  \n",
              "2022-06-30  10666627  \n",
              "2022-07-01  37841671  \n",
              "2022-07-04  19317335  \n",
              "2022-07-05   8144239  \n",
              "2022-07-06  11048483  \n",
              "\n",
              "[1999 rows x 6 columns]"
            ],
            "text/html": [
              "\n",
              "  <div id=\"df-39b70aca-ffde-4cca-aec4-e2d292b206df\">\n",
              "    <div class=\"colab-df-container\">\n",
              "      <div>\n",
              "<style scoped>\n",
              "    .dataframe tbody tr th:only-of-type {\n",
              "        vertical-align: middle;\n",
              "    }\n",
              "\n",
              "    .dataframe tbody tr th {\n",
              "        vertical-align: top;\n",
              "    }\n",
              "\n",
              "    .dataframe thead th {\n",
              "        text-align: right;\n",
              "    }\n",
              "</style>\n",
              "<table border=\"1\" class=\"dataframe\">\n",
              "  <thead>\n",
              "    <tr style=\"text-align: right;\">\n",
              "      <th></th>\n",
              "      <th>Open</th>\n",
              "      <th>High</th>\n",
              "      <th>Low</th>\n",
              "      <th>Close</th>\n",
              "      <th>Adj Close</th>\n",
              "      <th>Volume</th>\n",
              "    </tr>\n",
              "    <tr>\n",
              "      <th>Date</th>\n",
              "      <th></th>\n",
              "      <th></th>\n",
              "      <th></th>\n",
              "      <th></th>\n",
              "      <th></th>\n",
              "      <th></th>\n",
              "    </tr>\n",
              "  </thead>\n",
              "  <tbody>\n",
              "    <tr>\n",
              "      <th>2014-05-29</th>\n",
              "      <td>541.120728</td>\n",
              "      <td>541.566467</td>\n",
              "      <td>529.159119</td>\n",
              "      <td>531.734680</td>\n",
              "      <td>506.907227</td>\n",
              "      <td>12764704</td>\n",
              "    </tr>\n",
              "    <tr>\n",
              "      <th>2014-05-30</th>\n",
              "      <td>537.405945</td>\n",
              "      <td>539.733887</td>\n",
              "      <td>525.023315</td>\n",
              "      <td>527.351257</td>\n",
              "      <td>502.728485</td>\n",
              "      <td>7981124</td>\n",
              "    </tr>\n",
              "    <tr>\n",
              "      <th>2014-06-02</th>\n",
              "      <td>532.329041</td>\n",
              "      <td>539.015686</td>\n",
              "      <td>527.648438</td>\n",
              "      <td>536.019104</td>\n",
              "      <td>510.991699</td>\n",
              "      <td>4064105</td>\n",
              "    </tr>\n",
              "    <tr>\n",
              "      <th>2014-06-03</th>\n",
              "      <td>536.563904</td>\n",
              "      <td>545.826111</td>\n",
              "      <td>533.616821</td>\n",
              "      <td>542.557129</td>\n",
              "      <td>517.224548</td>\n",
              "      <td>5018511</td>\n",
              "    </tr>\n",
              "    <tr>\n",
              "      <th>2014-06-04</th>\n",
              "      <td>541.195007</td>\n",
              "      <td>545.727051</td>\n",
              "      <td>533.072021</td>\n",
              "      <td>533.691162</td>\n",
              "      <td>508.772430</td>\n",
              "      <td>4073385</td>\n",
              "    </tr>\n",
              "    <tr>\n",
              "      <th>...</th>\n",
              "      <td>...</td>\n",
              "      <td>...</td>\n",
              "      <td>...</td>\n",
              "      <td>...</td>\n",
              "      <td>...</td>\n",
              "      <td>...</td>\n",
              "    </tr>\n",
              "    <tr>\n",
              "      <th>2022-06-30</th>\n",
              "      <td>2580.000000</td>\n",
              "      <td>2615.899902</td>\n",
              "      <td>2566.000000</td>\n",
              "      <td>2595.649902</td>\n",
              "      <td>2595.649902</td>\n",
              "      <td>10666627</td>\n",
              "    </tr>\n",
              "    <tr>\n",
              "      <th>2022-07-01</th>\n",
              "      <td>2574.899902</td>\n",
              "      <td>2592.000000</td>\n",
              "      <td>2365.000000</td>\n",
              "      <td>2408.699951</td>\n",
              "      <td>2408.699951</td>\n",
              "      <td>37841671</td>\n",
              "    </tr>\n",
              "    <tr>\n",
              "      <th>2022-07-04</th>\n",
              "      <td>2378.949951</td>\n",
              "      <td>2442.000000</td>\n",
              "      <td>2366.100098</td>\n",
              "      <td>2413.699951</td>\n",
              "      <td>2413.699951</td>\n",
              "      <td>19317335</td>\n",
              "    </tr>\n",
              "    <tr>\n",
              "      <th>2022-07-05</th>\n",
              "      <td>2423.000000</td>\n",
              "      <td>2464.899902</td>\n",
              "      <td>2417.100098</td>\n",
              "      <td>2433.250000</td>\n",
              "      <td>2433.250000</td>\n",
              "      <td>8144239</td>\n",
              "    </tr>\n",
              "    <tr>\n",
              "      <th>2022-07-06</th>\n",
              "      <td>2420.100098</td>\n",
              "      <td>2441.949951</td>\n",
              "      <td>2388.000000</td>\n",
              "      <td>2411.850098</td>\n",
              "      <td>2411.850098</td>\n",
              "      <td>11048483</td>\n",
              "    </tr>\n",
              "  </tbody>\n",
              "</table>\n",
              "<p>1999 rows × 6 columns</p>\n",
              "</div>\n",
              "      <button class=\"colab-df-convert\" onclick=\"convertToInteractive('df-39b70aca-ffde-4cca-aec4-e2d292b206df')\"\n",
              "              title=\"Convert this dataframe to an interactive table.\"\n",
              "              style=\"display:none;\">\n",
              "        \n",
              "  <svg xmlns=\"http://www.w3.org/2000/svg\" height=\"24px\"viewBox=\"0 0 24 24\"\n",
              "       width=\"24px\">\n",
              "    <path d=\"M0 0h24v24H0V0z\" fill=\"none\"/>\n",
              "    <path d=\"M18.56 5.44l.94 2.06.94-2.06 2.06-.94-2.06-.94-.94-2.06-.94 2.06-2.06.94zm-11 1L8.5 8.5l.94-2.06 2.06-.94-2.06-.94L8.5 2.5l-.94 2.06-2.06.94zm10 10l.94 2.06.94-2.06 2.06-.94-2.06-.94-.94-2.06-.94 2.06-2.06.94z\"/><path d=\"M17.41 7.96l-1.37-1.37c-.4-.4-.92-.59-1.43-.59-.52 0-1.04.2-1.43.59L10.3 9.45l-7.72 7.72c-.78.78-.78 2.05 0 2.83L4 21.41c.39.39.9.59 1.41.59.51 0 1.02-.2 1.41-.59l7.78-7.78 2.81-2.81c.8-.78.8-2.07 0-2.86zM5.41 20L4 18.59l7.72-7.72 1.47 1.35L5.41 20z\"/>\n",
              "  </svg>\n",
              "      </button>\n",
              "      \n",
              "  <style>\n",
              "    .colab-df-container {\n",
              "      display:flex;\n",
              "      flex-wrap:wrap;\n",
              "      gap: 12px;\n",
              "    }\n",
              "\n",
              "    .colab-df-convert {\n",
              "      background-color: #E8F0FE;\n",
              "      border: none;\n",
              "      border-radius: 50%;\n",
              "      cursor: pointer;\n",
              "      display: none;\n",
              "      fill: #1967D2;\n",
              "      height: 32px;\n",
              "      padding: 0 0 0 0;\n",
              "      width: 32px;\n",
              "    }\n",
              "\n",
              "    .colab-df-convert:hover {\n",
              "      background-color: #E2EBFA;\n",
              "      box-shadow: 0px 1px 2px rgba(60, 64, 67, 0.3), 0px 1px 3px 1px rgba(60, 64, 67, 0.15);\n",
              "      fill: #174EA6;\n",
              "    }\n",
              "\n",
              "    [theme=dark] .colab-df-convert {\n",
              "      background-color: #3B4455;\n",
              "      fill: #D2E3FC;\n",
              "    }\n",
              "\n",
              "    [theme=dark] .colab-df-convert:hover {\n",
              "      background-color: #434B5C;\n",
              "      box-shadow: 0px 1px 3px 1px rgba(0, 0, 0, 0.15);\n",
              "      filter: drop-shadow(0px 1px 2px rgba(0, 0, 0, 0.3));\n",
              "      fill: #FFFFFF;\n",
              "    }\n",
              "  </style>\n",
              "\n",
              "      <script>\n",
              "        const buttonEl =\n",
              "          document.querySelector('#df-39b70aca-ffde-4cca-aec4-e2d292b206df button.colab-df-convert');\n",
              "        buttonEl.style.display =\n",
              "          google.colab.kernel.accessAllowed ? 'block' : 'none';\n",
              "\n",
              "        async function convertToInteractive(key) {\n",
              "          const element = document.querySelector('#df-39b70aca-ffde-4cca-aec4-e2d292b206df');\n",
              "          const dataTable =\n",
              "            await google.colab.kernel.invokeFunction('convertToInteractive',\n",
              "                                                     [key], {});\n",
              "          if (!dataTable) return;\n",
              "\n",
              "          const docLinkHtml = 'Like what you see? Visit the ' +\n",
              "            '<a target=\"_blank\" href=https://colab.research.google.com/notebooks/data_table.ipynb>data table notebook</a>'\n",
              "            + ' to learn more about interactive tables.';\n",
              "          element.innerHTML = '';\n",
              "          dataTable['output_type'] = 'display_data';\n",
              "          await google.colab.output.renderOutput(dataTable, element);\n",
              "          const docLink = document.createElement('div');\n",
              "          docLink.innerHTML = docLinkHtml;\n",
              "          element.appendChild(docLink);\n",
              "        }\n",
              "      </script>\n",
              "    </div>\n",
              "  </div>\n",
              "  "
            ]
          },
          "metadata": {},
          "execution_count": 113
        }
      ]
    },
    {
      "cell_type": "code",
      "source": [
        "df1=df.reset_index().Close"
      ],
      "metadata": {
        "id": "DFbn8FjSwFMt"
      },
      "execution_count": null,
      "outputs": []
    },
    {
      "cell_type": "code",
      "source": [
        "import matplotlib.pyplot as plt\n",
        "plt.plot(df1)"
      ],
      "metadata": {
        "colab": {
          "base_uri": "https://localhost:8080/",
          "height": 282
        },
        "id": "6UCprkr1wugp",
        "outputId": "30f3089b-8b88-48e4-a06b-ea8144a2554d"
      },
      "execution_count": null,
      "outputs": [
        {
          "output_type": "execute_result",
          "data": {
            "text/plain": [
              "[<matplotlib.lines.Line2D at 0x7fd2f12c4990>]"
            ]
          },
          "metadata": {},
          "execution_count": 115
        },
        {
          "output_type": "display_data",
          "data": {
            "text/plain": [
              "<Figure size 432x288 with 1 Axes>"
            ],
            "image/png": "[encoded data removed]"
          },
          "metadata": {
            "needs_background": "light"
          }
        }
      ]
    },
    {
      "cell_type": "code",
      "source": [
        "df1.shape"
      ],
      "metadata": {
        "colab": {
          "base_uri": "https://localhost:8080/"
        },
        "id": "51a1Bs15w0ur",
        "outputId": "598c77a1-1759-4b56-e644-9c062b4bf31d"
      },
      "execution_count": null,
      "outputs": [
        {
          "output_type": "execute_result",
          "data": {
            "text/plain": [
              "(1999,)"
            ]
          },
          "metadata": {},
          "execution_count": 116
        }
      ]
    },
    {
      "cell_type": "code",
      "source": [
        "import numpy as np\n",
        "from sklearn.preprocessing import MinMaxScaler #LSTM sensitive to scale of data\n",
        "scaler= MinMaxScaler(feature_range=(0.25,0.75))\n",
        "df1= scaler.fit_transform(np.array(df1).reshape(-1,1))"
      ],
      "metadata": {
        "id": "XgkDnmRgxzjQ"
      },
      "execution_count": null,
      "outputs": []
    },
    {
      "cell_type": "code",
      "source": [
        "df1.shape"
      ],
      "metadata": {
        "colab": {
          "base_uri": "https://localhost:8080/"
        },
        "id": "GGLwgSxVy3dn",
        "outputId": "6feb509c-e22d-4990-ec55-de70577c6d33"
      },
      "execution_count": null,
      "outputs": [
        {
          "output_type": "execute_result",
          "data": {
            "text/plain": [
              "(1999, 1)"
            ]
          },
          "metadata": {},
          "execution_count": 118
        }
      ]
    },
    {
      "cell_type": "code",
      "source": [
        "df1"
      ],
      "metadata": {
        "colab": {
          "base_uri": "https://localhost:8080/"
        },
        "id": "-shLSpbTy5nx",
        "outputId": "f9a37144-a4f5-4d1a-b2c9-c7132dcdc5b4"
      },
      "execution_count": null,
      "outputs": [
        {
          "output_type": "execute_result",
          "data": {
            "text/plain": [
              "array([[0.27691294],\n",
              "       [0.27600663],\n",
              "       [0.27779878],\n",
              "       ...,\n",
              "       [0.66602505],\n",
              "       [0.67006719],\n",
              "       [0.66564258]])"
            ]
          },
          "metadata": {},
          "execution_count": 119
        }
      ]
    },
    {
      "cell_type": "code",
      "source": [
        "training_size= int(len(df1)*0.65)\n",
        "test_size=len(df)-training_size\n",
        "train_data, test_data= df1[0:training_size,:], df1[training_size:len(df1),:]"
      ],
      "metadata": {
        "id": "x-GRTICYy8sg"
      },
      "execution_count": null,
      "outputs": []
    },
    {
      "cell_type": "code",
      "source": [
        "import numpy\n",
        "def create_dataset(dataset, time_step=1):\n",
        "\tdataX, dataY = [], []\n",
        "\tfor i in range(len(dataset)-time_step-1):\n",
        "\t\ta = dataset[i:(i+time_step), 0]   ###i=0, 0,1,2,3-----99   100 \n",
        "\t\tdataX.append(a)\n",
        "\t\tdataY.append(dataset[i + time_step, 0])\n",
        "\treturn numpy.array(dataX), numpy.array(dataY)"
      ],
      "metadata": {
        "id": "nTFH5NOB3NG6"
      },
      "execution_count": null,
      "outputs": []
    },
    {
      "cell_type": "code",
      "source": [
        "time_step = 100\n",
        "X_train, y_train = create_dataset(train_data, time_step)\n",
        "X_test, ytest = create_dataset(test_data, time_step)"
      ],
      "metadata": {
        "id": "0kpFFolA593Q"
      },
      "execution_count": null,
      "outputs": []
    },
    {
      "cell_type": "code",
      "source": [
        "X_train.shape, y_train.shape"
      ],
      "metadata": {
        "colab": {
          "base_uri": "https://localhost:8080/"
        },
        "id": "sED2iCha5_ax",
        "outputId": "7fbc90e4-4729-4073-eb27-27d3b4a521cc"
      },
      "execution_count": null,
      "outputs": [
        {
          "output_type": "execute_result",
          "data": {
            "text/plain": [
              "((1198, 100), (1198,))"
            ]
          },
          "metadata": {},
          "execution_count": 123
        }
      ]
    },
    {
      "cell_type": "code",
      "source": [
        "X_test.shape"
      ],
      "metadata": {
        "colab": {
          "base_uri": "https://localhost:8080/"
        },
        "id": "-W3mzY_z6DJr",
        "outputId": "dc94de74-77e5-44fa-c7fb-c7a83eb98002"
      },
      "execution_count": null,
      "outputs": [
        {
          "output_type": "execute_result",
          "data": {
            "text/plain": [
              "(599, 100)"
            ]
          },
          "metadata": {},
          "execution_count": 124
        }
      ]
    },
    {
      "cell_type": "code",
      "source": [
        "X_train"
      ],
      "metadata": {
        "colab": {
          "base_uri": "https://localhost:8080/"
        },
        "id": "1QzXOhGO97S2",
        "outputId": "a737a7f0-f202-4703-b5ba-d2e76035bfbf"
      },
      "execution_count": null,
      "outputs": [
        {
          "output_type": "execute_result",
          "data": {
            "text/plain": [
              "array([[0.27691294, 0.27600663, 0.27779878, ..., 0.26214564, 0.2638149 ,\n",
              "        0.26337454],\n",
              "       [0.27600663, 0.27779878, 0.27915057, ..., 0.2638149 , 0.26337454,\n",
              "        0.26262696],\n",
              "       [0.27779878, 0.27915057, 0.27731746, ..., 0.26337454, 0.26262696,\n",
              "        0.26442423],\n",
              "       ...,\n",
              "       [0.43922523, 0.44029029, 0.4396656 , ..., 0.42269652, 0.41406348,\n",
              "        0.41298819],\n",
              "       [0.44029029, 0.4396656 , 0.44281978, ..., 0.41406348, 0.41298819,\n",
              "        0.41246592],\n",
              "       [0.4396656 , 0.44281978, 0.44206195, ..., 0.41298819, 0.41246592,\n",
              "        0.41736104]])"
            ]
          },
          "metadata": {},
          "execution_count": 125
        }
      ]
    },
    {
      "cell_type": "code",
      "source": [
        "X_train =X_train.reshape(X_train.shape[0],X_train.shape[1] , 1)\n",
        "X_test = X_test.reshape(X_test.shape[0],X_test.shape[1] , 1)\n",
        "#For LSTM"
      ],
      "metadata": {
        "id": "HAjVM4-l6t56"
      },
      "execution_count": null,
      "outputs": []
    },
    {
      "cell_type": "code",
      "source": [
        "from tensorflow.keras.models import Sequential\n",
        "from tensorflow.keras.layers import Dense\n",
        "from tensorflow.keras.layers import LSTM"
      ],
      "metadata": {
        "id": "piaybImN7N8N"
      },
      "execution_count": null,
      "outputs": []
    },
    {
      "cell_type": "code",
      "source": [
        "model=Sequential()\n",
        "model.add(LSTM(50,return_sequences=True,input_shape=(100,1)))\n",
        "model.add(LSTM(50,return_sequences=True))\n",
        "model.add(LSTM(50))\n",
        "model.add(Dense(1))\n",
        "model.compile(loss='mean_squared_error',optimizer='adam')"
      ],
      "metadata": {
        "id": "2BGlNsNx8XTZ"
      },
      "execution_count": null,
      "outputs": []
    },
    {
      "cell_type": "code",
      "source": [
        "model.fit(X_train,y_train,validation_data=(X_test,ytest),epochs=100,batch_size=64,verbose=1)"
      ],
      "metadata": {
        "colab": {
          "base_uri": "https://localhost:8080/"
        },
        "id": "qPL0iRj_B44w",
        "outputId": "80065fb1-eeed-4bbf-e896-a6fa6abc0f35"
      },
      "execution_count": null,
      "outputs": [
        {
          "output_type": "stream",
          "name": "stdout",
          "text": [
            "Epoch 1/100\n",
            "19/19 [==============================] - 10s 246ms/step - loss: 0.0193 - val_loss: 0.0310\n",
            "Epoch 2/100\n",
            "19/19 [==============================] - 3s 177ms/step - loss: 0.0015 - val_loss: 0.0218\n",
            "Epoch 3/100\n",
            "19/19 [==============================] - 3s 179ms/step - loss: 7.8552e-04 - val_loss: 0.0125\n",
            "Epoch 4/100\n",
            "19/19 [==============================] - 3s 177ms/step - loss: 5.2395e-04 - val_loss: 0.0073\n",
            "Epoch 5/100\n",
            "19/19 [==============================] - 3s 177ms/step - loss: 2.9675e-04 - val_loss: 0.0031\n",
            "Epoch 6/100\n",
            "19/19 [==============================] - 3s 179ms/step - loss: 1.5033e-04 - val_loss: 0.0011\n",
            "Epoch 7/100\n",
            "19/19 [==============================] - 3s 177ms/step - loss: 8.4820e-05 - val_loss: 7.0506e-04\n",
            "Epoch 8/100\n",
            "19/19 [==============================] - 3s 180ms/step - loss: 6.9601e-05 - val_loss: 7.7641e-04\n",
            "Epoch 9/100\n",
            "19/19 [==============================] - 3s 178ms/step - loss: 6.7891e-05 - val_loss: 7.7332e-04\n",
            "Epoch 10/100\n",
            "19/19 [==============================] - 3s 179ms/step - loss: 6.8752e-05 - val_loss: 7.2864e-04\n",
            "Epoch 11/100\n",
            "19/19 [==============================] - 3s 178ms/step - loss: 6.6745e-05 - val_loss: 7.8546e-04\n",
            "Epoch 12/100\n",
            "19/19 [==============================] - 3s 178ms/step - loss: 6.8649e-05 - val_loss: 7.2917e-04\n",
            "Epoch 13/100\n",
            "19/19 [==============================] - 3s 178ms/step - loss: 6.7168e-05 - val_loss: 7.6861e-04\n",
            "Epoch 14/100\n",
            "19/19 [==============================] - 3s 179ms/step - loss: 6.6911e-05 - val_loss: 7.0527e-04\n",
            "Epoch 15/100\n",
            "19/19 [==============================] - 3s 179ms/step - loss: 6.5799e-05 - val_loss: 6.9320e-04\n",
            "Epoch 16/100\n",
            "19/19 [==============================] - 3s 182ms/step - loss: 6.8828e-05 - val_loss: 7.4498e-04\n",
            "Epoch 17/100\n",
            "19/19 [==============================] - 3s 182ms/step - loss: 6.8418e-05 - val_loss: 7.0855e-04\n",
            "Epoch 18/100\n",
            "19/19 [==============================] - 3s 183ms/step - loss: 6.6498e-05 - val_loss: 7.1055e-04\n",
            "Epoch 19/100\n",
            "19/19 [==============================] - 3s 182ms/step - loss: 6.7445e-05 - val_loss: 6.6968e-04\n",
            "Epoch 20/100\n",
            "19/19 [==============================] - 3s 180ms/step - loss: 6.6287e-05 - val_loss: 6.8094e-04\n",
            "Epoch 21/100\n",
            "19/19 [==============================] - 3s 179ms/step - loss: 6.7235e-05 - val_loss: 6.7141e-04\n",
            "Epoch 22/100\n",
            "19/19 [==============================] - 3s 180ms/step - loss: 6.5191e-05 - val_loss: 6.5585e-04\n",
            "Epoch 23/100\n",
            "19/19 [==============================] - 3s 179ms/step - loss: 7.1329e-05 - val_loss: 6.5439e-04\n",
            "Epoch 24/100\n",
            "19/19 [==============================] - 3s 179ms/step - loss: 7.2133e-05 - val_loss: 6.4409e-04\n",
            "Epoch 25/100\n",
            "19/19 [==============================] - 3s 178ms/step - loss: 6.4234e-05 - val_loss: 6.6367e-04\n",
            "Epoch 26/100\n",
            "19/19 [==============================] - 3s 181ms/step - loss: 6.6404e-05 - val_loss: 6.4295e-04\n",
            "Epoch 27/100\n",
            "19/19 [==============================] - 4s 205ms/step - loss: 6.5760e-05 - val_loss: 6.3572e-04\n",
            "Epoch 28/100\n",
            "19/19 [==============================] - 3s 181ms/step - loss: 6.3985e-05 - val_loss: 6.2904e-04\n",
            "Epoch 29/100\n",
            "19/19 [==============================] - 3s 181ms/step - loss: 6.8809e-05 - val_loss: 7.1967e-04\n",
            "Epoch 30/100\n",
            "19/19 [==============================] - 3s 181ms/step - loss: 8.2874e-05 - val_loss: 6.3382e-04\n",
            "Epoch 31/100\n",
            "19/19 [==============================] - 3s 178ms/step - loss: 6.9564e-05 - val_loss: 6.2057e-04\n",
            "Epoch 32/100\n",
            "19/19 [==============================] - 3s 179ms/step - loss: 6.8985e-05 - val_loss: 6.1576e-04\n",
            "Epoch 33/100\n",
            "19/19 [==============================] - 3s 180ms/step - loss: 7.2287e-05 - val_loss: 6.5023e-04\n",
            "Epoch 34/100\n",
            "19/19 [==============================] - 3s 179ms/step - loss: 6.8770e-05 - val_loss: 6.0557e-04\n",
            "Epoch 35/100\n",
            "19/19 [==============================] - 3s 179ms/step - loss: 6.2738e-05 - val_loss: 6.0227e-04\n",
            "Epoch 36/100\n",
            "19/19 [==============================] - 3s 182ms/step - loss: 6.1118e-05 - val_loss: 5.9709e-04\n",
            "Epoch 37/100\n",
            "19/19 [==============================] - 3s 181ms/step - loss: 6.3032e-05 - val_loss: 5.9392e-04\n",
            "Epoch 38/100\n",
            "19/19 [==============================] - 3s 180ms/step - loss: 6.1148e-05 - val_loss: 6.0656e-04\n",
            "Epoch 39/100\n",
            "19/19 [==============================] - 3s 181ms/step - loss: 6.4124e-05 - val_loss: 5.8329e-04\n",
            "Epoch 40/100\n",
            "19/19 [==============================] - 3s 179ms/step - loss: 6.5769e-05 - val_loss: 5.8361e-04\n",
            "Epoch 41/100\n",
            "19/19 [==============================] - 3s 179ms/step - loss: 6.2371e-05 - val_loss: 5.7243e-04\n",
            "Epoch 42/100\n",
            "19/19 [==============================] - 3s 181ms/step - loss: 6.3428e-05 - val_loss: 5.6471e-04\n",
            "Epoch 43/100\n",
            "19/19 [==============================] - 3s 179ms/step - loss: 7.4256e-05 - val_loss: 7.5585e-04\n",
            "Epoch 44/100\n",
            "19/19 [==============================] - 3s 181ms/step - loss: 9.6742e-05 - val_loss: 6.6758e-04\n",
            "Epoch 45/100\n",
            "19/19 [==============================] - 3s 179ms/step - loss: 6.5491e-05 - val_loss: 5.5502e-04\n",
            "Epoch 46/100\n",
            "19/19 [==============================] - 3s 178ms/step - loss: 6.0420e-05 - val_loss: 5.7080e-04\n",
            "Epoch 47/100\n",
            "19/19 [==============================] - 3s 179ms/step - loss: 5.9342e-05 - val_loss: 5.4846e-04\n",
            "Epoch 48/100\n",
            "19/19 [==============================] - 3s 181ms/step - loss: 6.2257e-05 - val_loss: 5.7227e-04\n",
            "Epoch 49/100\n",
            "19/19 [==============================] - 3s 181ms/step - loss: 5.8540e-05 - val_loss: 5.8795e-04\n",
            "Epoch 50/100\n",
            "19/19 [==============================] - 3s 180ms/step - loss: 6.5309e-05 - val_loss: 5.2781e-04\n",
            "Epoch 51/100\n",
            "19/19 [==============================] - 3s 181ms/step - loss: 6.6158e-05 - val_loss: 5.2420e-04\n",
            "Epoch 52/100\n",
            "19/19 [==============================] - 3s 182ms/step - loss: 7.7702e-05 - val_loss: 6.2492e-04\n",
            "Epoch 53/100\n",
            "19/19 [==============================] - 3s 181ms/step - loss: 5.9283e-05 - val_loss: 5.3935e-04\n",
            "Epoch 54/100\n",
            "19/19 [==============================] - 3s 182ms/step - loss: 6.1978e-05 - val_loss: 5.8141e-04\n",
            "Epoch 55/100\n",
            "19/19 [==============================] - 3s 182ms/step - loss: 5.6288e-05 - val_loss: 4.9995e-04\n",
            "Epoch 56/100\n",
            "19/19 [==============================] - 3s 181ms/step - loss: 5.6071e-05 - val_loss: 5.0357e-04\n",
            "Epoch 57/100\n",
            "19/19 [==============================] - 3s 182ms/step - loss: 5.6966e-05 - val_loss: 7.8349e-04\n",
            "Epoch 58/100\n",
            "19/19 [==============================] - 4s 206ms/step - loss: 7.9334e-05 - val_loss: 5.1984e-04\n",
            "Epoch 59/100\n",
            "19/19 [==============================] - 3s 180ms/step - loss: 5.4118e-05 - val_loss: 4.9917e-04\n",
            "Epoch 60/100\n",
            "19/19 [==============================] - 3s 182ms/step - loss: 6.3562e-05 - val_loss: 6.6450e-04\n",
            "Epoch 61/100\n",
            "19/19 [==============================] - 3s 181ms/step - loss: 6.6362e-05 - val_loss: 4.7753e-04\n",
            "Epoch 62/100\n",
            "19/19 [==============================] - 3s 181ms/step - loss: 6.8197e-05 - val_loss: 7.1718e-04\n",
            "Epoch 63/100\n",
            "19/19 [==============================] - 3s 180ms/step - loss: 7.8208e-05 - val_loss: 4.6573e-04\n",
            "Epoch 64/100\n",
            "19/19 [==============================] - 3s 181ms/step - loss: 8.7205e-05 - val_loss: 5.8374e-04\n",
            "Epoch 65/100\n",
            "19/19 [==============================] - 3s 181ms/step - loss: 6.7607e-05 - val_loss: 7.8135e-04\n",
            "Epoch 66/100\n",
            "19/19 [==============================] - 3s 181ms/step - loss: 6.1529e-05 - val_loss: 5.5320e-04\n",
            "Epoch 67/100\n",
            "19/19 [==============================] - 3s 180ms/step - loss: 5.8910e-05 - val_loss: 5.2791e-04\n",
            "Epoch 68/100\n",
            "19/19 [==============================] - 3s 181ms/step - loss: 5.3177e-05 - val_loss: 6.3551e-04\n",
            "Epoch 69/100\n",
            "19/19 [==============================] - 3s 184ms/step - loss: 5.2664e-05 - val_loss: 5.5271e-04\n",
            "Epoch 70/100\n",
            "19/19 [==============================] - 3s 182ms/step - loss: 5.2812e-05 - val_loss: 6.6859e-04\n",
            "Epoch 71/100\n",
            "19/19 [==============================] - 3s 183ms/step - loss: 5.3361e-05 - val_loss: 6.4812e-04\n",
            "Epoch 72/100\n",
            "19/19 [==============================] - 3s 184ms/step - loss: 5.6589e-05 - val_loss: 7.0073e-04\n",
            "Epoch 73/100\n",
            "19/19 [==============================] - 3s 182ms/step - loss: 5.5676e-05 - val_loss: 4.9991e-04\n",
            "Epoch 74/100\n",
            "19/19 [==============================] - 3s 182ms/step - loss: 7.9398e-05 - val_loss: 4.3518e-04\n",
            "Epoch 75/100\n",
            "19/19 [==============================] - 3s 183ms/step - loss: 5.4436e-05 - val_loss: 7.2873e-04\n",
            "Epoch 76/100\n",
            "19/19 [==============================] - 3s 180ms/step - loss: 5.0009e-05 - val_loss: 6.3808e-04\n",
            "Epoch 77/100\n",
            "19/19 [==============================] - 3s 181ms/step - loss: 6.0221e-05 - val_loss: 5.6841e-04\n",
            "Epoch 78/100\n",
            "19/19 [==============================] - 3s 183ms/step - loss: 5.5961e-05 - val_loss: 8.9518e-04\n",
            "Epoch 79/100\n",
            "19/19 [==============================] - 3s 183ms/step - loss: 5.8051e-05 - val_loss: 8.2793e-04\n",
            "Epoch 80/100\n",
            "19/19 [==============================] - 3s 183ms/step - loss: 4.9160e-05 - val_loss: 7.3957e-04\n",
            "Epoch 81/100\n",
            "19/19 [==============================] - 3s 185ms/step - loss: 6.6097e-05 - val_loss: 0.0013\n",
            "Epoch 82/100\n",
            "19/19 [==============================] - 3s 184ms/step - loss: 6.7769e-05 - val_loss: 5.4130e-04\n",
            "Epoch 83/100\n",
            "19/19 [==============================] - 3s 182ms/step - loss: 5.9468e-05 - val_loss: 6.7363e-04\n",
            "Epoch 84/100\n",
            "19/19 [==============================] - 4s 209ms/step - loss: 5.1642e-05 - val_loss: 7.1616e-04\n",
            "Epoch 85/100\n",
            "19/19 [==============================] - 3s 183ms/step - loss: 5.3505e-05 - val_loss: 9.1740e-04\n",
            "Epoch 86/100\n",
            "19/19 [==============================] - 3s 181ms/step - loss: 4.6770e-05 - val_loss: 8.0838e-04\n",
            "Epoch 87/100\n",
            "19/19 [==============================] - 3s 184ms/step - loss: 4.7405e-05 - val_loss: 6.0498e-04\n",
            "Epoch 88/100\n",
            "19/19 [==============================] - 3s 183ms/step - loss: 4.7732e-05 - val_loss: 9.1953e-04\n",
            "Epoch 89/100\n",
            "19/19 [==============================] - 3s 184ms/step - loss: 6.1157e-05 - val_loss: 8.7688e-04\n",
            "Epoch 90/100\n",
            "19/19 [==============================] - 3s 184ms/step - loss: 4.5699e-05 - val_loss: 7.4912e-04\n",
            "Epoch 91/100\n",
            "19/19 [==============================] - 3s 182ms/step - loss: 5.9527e-05 - val_loss: 8.5500e-04\n",
            "Epoch 92/100\n",
            "19/19 [==============================] - 3s 182ms/step - loss: 5.7812e-05 - val_loss: 7.3400e-04\n",
            "Epoch 93/100\n",
            "19/19 [==============================] - 3s 182ms/step - loss: 4.4808e-05 - val_loss: 0.0010\n",
            "Epoch 94/100\n",
            "19/19 [==============================] - 3s 183ms/step - loss: 5.0623e-05 - val_loss: 9.2236e-04\n",
            "Epoch 95/100\n",
            "19/19 [==============================] - 3s 182ms/step - loss: 5.8761e-05 - val_loss: 7.0915e-04\n",
            "Epoch 96/100\n",
            "19/19 [==============================] - 3s 182ms/step - loss: 5.2050e-05 - val_loss: 5.7370e-04\n",
            "Epoch 97/100\n",
            "19/19 [==============================] - 3s 185ms/step - loss: 6.1037e-05 - val_loss: 0.0012\n",
            "Epoch 98/100\n",
            "19/19 [==============================] - 3s 182ms/step - loss: 4.5860e-05 - val_loss: 7.7878e-04\n",
            "Epoch 99/100\n",
            "19/19 [==============================] - 3s 181ms/step - loss: 4.7012e-05 - val_loss: 7.3031e-04\n",
            "Epoch 100/100\n",
            "19/19 [==============================] - 3s 183ms/step - loss: 4.4784e-05 - val_loss: 0.0011\n"
          ]
        },
        {
          "output_type": "execute_result",
          "data": {
            "text/plain": [
              "<keras.callbacks.History at 0x7fd2ee4874d0>"
            ]
          },
          "metadata": {},
          "execution_count": 129
        }
      ]
    },
    {
      "cell_type": "code",
      "source": [
        "train_predict=model.predict(X_train)\n",
        "test_predict= model.predict(X_test)"
      ],
      "metadata": {
        "id": "QKQ5q_XzC7T_"
      },
      "execution_count": null,
      "outputs": []
    },
    {
      "cell_type": "code",
      "source": [
        "train_predict=scaler.inverse_transform(train_predict)\n",
        "test_predict=scaler.inverse_transform(test_predict)"
      ],
      "metadata": {
        "id": "1Bp7ibJfDm6W"
      },
      "execution_count": null,
      "outputs": []
    },
    {
      "cell_type": "code",
      "source": [
        "import math\n",
        "from sklearn.metrics import mean_squared_error\n",
        "math.sqrt(mean_squared_error(y_train,train_predict))"
      ],
      "metadata": {
        "colab": {
          "base_uri": "https://localhost:8080/"
        },
        "id": "4Kl2heGbD39W",
        "outputId": "5d63b0b1-f86e-44dd-f54b-d667c2ec7173"
      },
      "execution_count": null,
      "outputs": [
        {
          "output_type": "execute_result",
          "data": {
            "text/plain": [
              "803.1717021512699"
            ]
          },
          "metadata": {},
          "execution_count": 132
        }
      ]
    },
    {
      "cell_type": "code",
      "source": [
        "math.sqrt(mean_squared_error(ytest,test_predict))"
      ],
      "metadata": {
        "colab": {
          "base_uri": "https://localhost:8080/"
        },
        "id": "XBjLdLaoETAu",
        "outputId": "15ec8568-38a5-4439-89a7-25263e2f2f17"
      },
      "execution_count": null,
      "outputs": [
        {
          "output_type": "execute_result",
          "data": {
            "text/plain": [
              "2006.3784631926503"
            ]
          },
          "metadata": {},
          "execution_count": 133
        }
      ]
    },
    {
      "cell_type": "code",
      "source": [
        "### Plotting \n",
        "# shift train predictions for plotting\n",
        "look_back=100\n",
        "trainPredictPlot = numpy.empty_like(df1)\n",
        "trainPredictPlot[:, :] = np.nan\n",
        "trainPredictPlot[look_back:len(train_predict)+look_back, :] = train_predict\n",
        "# shift test predictions for plotting\n",
        "testPredictPlot = numpy.empty_like(df1)\n",
        "testPredictPlot[:, :] = numpy.nan\n",
        "testPredictPlot[len(train_predict)+(look_back*2)+1:len(df1)-1, :] = test_predict\n",
        "# plot baseline and predictions\n",
        "plt.plot(scaler.inverse_transform(df1))\n",
        "plt.plot(trainPredictPlot)\n",
        "plt.plot(testPredictPlot)\n",
        "plt.show()"
      ],
      "metadata": {
        "colab": {
          "base_uri": "https://localhost:8080/",
          "height": 265
        },
        "id": "ukTIrM4rEt78",
        "outputId": "f1e1c99a-b910-4a7b-a40d-edd44096d5c8"
      },
      "execution_count": null,
      "outputs": [
        {
          "output_type": "display_data",
          "data": {
            "text/plain": [
              "<Figure size 432x288 with 1 Axes>"
            ],
            "image/png": "[encoded data removed]"
          },
          "metadata": {
            "needs_background": "light"
          }
        }
      ]
    },
    {
      "cell_type": "code",
      "source": [
        "len(test_data)"
      ],
      "metadata": {
        "id": "s15BdcPZFYa0",
        "colab": {
          "base_uri": "https://localhost:8080/"
        },
        "outputId": "75953a27-67b5-4d5d-d428-9badf491980f"
      },
      "execution_count": null,
      "outputs": [
        {
          "output_type": "execute_result",
          "data": {
            "text/plain": [
              "700"
            ]
          },
          "metadata": {},
          "execution_count": 135
        }
      ]
    },
    {
      "cell_type": "code",
      "source": [
        "x_input=test_data[len(test_data)-100:].reshape(1,-1)\n",
        "x_input.shape"
      ],
      "metadata": {
        "colab": {
          "base_uri": "https://localhost:8080/"
        },
        "id": "VrMV4Jg6SMDF",
        "outputId": "d89f119d-39aa-42da-8d26-19f5dd211547"
      },
      "execution_count": null,
      "outputs": [
        {
          "output_type": "execute_result",
          "data": {
            "text/plain": [
              "(1, 100)"
            ]
          },
          "metadata": {},
          "execution_count": 136
        }
      ]
    },
    {
      "cell_type": "code",
      "source": [
        "temp_input=list(x_input)\n",
        "temp_input=temp_input[0].tolist()"
      ],
      "metadata": {
        "id": "1Cjop3cGSgcP"
      },
      "execution_count": null,
      "outputs": []
    },
    {
      "cell_type": "code",
      "source": [
        "temp_input"
      ],
      "metadata": {
        "colab": {
          "base_uri": "https://localhost:8080/"
        },
        "id": "qxfxutynS2wT",
        "outputId": "2a41d26a-4a00-4fbd-d183-0220ca95496f"
      },
      "execution_count": null,
      "outputs": [
        {
          "output_type": "execute_result",
          "data": {
            "text/plain": [
              "[0.6592744085383744,\n",
              " 0.6583129517397601,\n",
              " 0.6504871769794522,\n",
              " 0.666903772924166,\n",
              " 0.6658699809760575,\n",
              " 0.672186459874625,\n",
              " 0.6682373544416016,\n",
              " 0.66317177389587,\n",
              " 0.6609181276402425,\n",
              " 0.6578270998110225,\n",
              " 0.6333675722231512,\n",
              " 0.6391981487148586,\n",
              " 0.6548291031615079,\n",
              " 0.6628926803567541,\n",
              " 0.6587058229669147,\n",
              " 0.6477993179143702,\n",
              " 0.6300180964069042,\n",
              " 0.6291807148333117,\n",
              " 0.6537022800336942,\n",
              " 0.661590092406513,\n",
              " 0.6630167051036537,\n",
              " 0.6670898857616991,\n",
              " 0.6556354406897835,\n",
              " 0.6638851307225628,\n",
              " 0.6800846202625493,\n",
              " 0.6771279651953346,\n",
              " 0.6903088125337178,\n",
              " 0.6919732276657969,\n",
              " 0.7001298360407485,\n",
              " 0.7036861207247397,\n",
              " 0.7090824844069925,\n",
              " 0.7092065596320145,\n",
              " 0.7196271622776991,\n",
              " 0.7117290018897747,\n",
              " 0.7160916241020415,\n",
              " 0.7177146471736984,\n",
              " 0.7099302139956905,\n",
              " 0.7084829052683386,\n",
              " 0.6989306777634406,\n",
              " 0.7077798964567513,\n",
              " 0.7066530733289376,\n",
              " 0.6964909186702801,\n",
              " 0.6945473595209627,\n",
              " 0.6929346844644114,\n",
              " 0.7129799002426105,\n",
              " 0.7290346690054864,\n",
              " 0.7421948707917809,\n",
              " 0.7373773902179709,\n",
              " 0.724186194864482,\n",
              " 0.740861238796223,\n",
              " 0.7414195268306996,\n",
              " 0.75,\n",
              " 0.7438799314759488,\n",
              " 0.7418536891620316,\n",
              " 0.7239070508472437,\n",
              " 0.7130005457946992,\n",
              " 0.7088136884048598,\n",
              " 0.6876519975139525,\n",
              " 0.6786269635200919,\n",
              " 0.6733856686300553,\n",
              " 0.6630683947010592,\n",
              " 0.6686922632812673,\n",
              " 0.6688162880281668,\n",
              " 0.6898952957544744,\n",
              " 0.6917975133214921,\n",
              " 0.6797021475286227,\n",
              " 0.7095993803810468,\n",
              " 0.7059707605475615,\n",
              " 0.7078212885171736,\n",
              " 0.7070252485258811,\n",
              " 0.7018769848155498,\n",
              " 0.6993958841400895,\n",
              " 0.7179421015935312,\n",
              " 0.7112947890803202,\n",
              " 0.7114705539027476,\n",
              " 0.7302442257760223,\n",
              " 0.7416572787875155,\n",
              " 0.7391865261271607,\n",
              " 0.7402616596575691,\n",
              " 0.7301925361786169,\n",
              " 0.7456373777877332,\n",
              " 0.7281662938646998,\n",
              " 0.7175492303663765,\n",
              " 0.7103540787900394,\n",
              " 0.703779151904445,\n",
              " 0.6962738122655528,\n",
              " 0.7024765639542038,\n",
              " 0.6927692676570896,\n",
              " 0.7012567096466847,\n",
              " 0.6850261760613814,\n",
              " 0.6766214172363859,\n",
              " 0.6838786569033565,\n",
              " 0.6823486145332824,\n",
              " 0.6895955061851474,\n",
              " 0.7004399736251811,\n",
              " 0.7036447286643174,\n",
              " 0.6649912578201653,\n",
              " 0.6660250497682738,\n",
              " 0.6700671863810026,\n",
              " 0.6656425770343473]"
            ]
          },
          "metadata": {},
          "execution_count": 138
        }
      ]
    },
    {
      "cell_type": "code",
      "source": [
        "from numpy import array\n",
        "\n",
        "lst_output=[]\n",
        "n_steps=100\n",
        "i=0\n",
        "while(i<30):\n",
        "    \n",
        "    if(len(temp_input)>100):\n",
        "        #print(temp_input)\n",
        "        x_input=np.array(temp_input[1:])\n",
        "        print(\"{} day input {}\".format(i,x_input))\n",
        "        x_input=x_input.reshape(1,-1)\n",
        "        x_input = x_input.reshape((1, n_steps, 1))\n",
        "        #print(x_input)\n",
        "        yhat = model.predict(x_input, verbose=0)\n",
        "        print(\"{} day output {}\".format(i,yhat))\n",
        "        temp_input.extend(yhat[0].tolist())\n",
        "        temp_input=temp_input[1:]\n",
        "        #print(temp_input)\n",
        "        lst_output.extend(yhat.tolist())\n",
        "        i=i+1\n",
        "    else:\n",
        "        x_input = x_input.reshape((1, n_steps,1))\n",
        "        yhat = model.predict(x_input, verbose=0)\n",
        "        print(yhat[0])\n",
        "        temp_input.extend(yhat[0].tolist())\n",
        "        print(len(temp_input))\n",
        "        lst_output.extend(yhat.tolist())\n",
        "        i=i+1"
      ],
      "metadata": {
        "colab": {
          "base_uri": "https://localhost:8080/"
        },
        "id": "Ce86OJtLW8fl",
        "outputId": "7beb312c-6f8d-4cf6-f4cc-2d6fafbd3946"
      },
      "execution_count": null,
      "outputs": [
        {
          "output_type": "stream",
          "name": "stdout",
          "text": [
            "[0.63817513]\n",
            "101\n",
            "1 day input [0.65831295 0.65048718 0.66690377 0.66586998 0.67218646 0.66823735\n",
            " 0.66317177 0.66091813 0.6578271  0.63336757 0.63919815 0.6548291\n",
            " 0.66289268 0.65870582 0.64779932 0.6300181  0.62918071 0.65370228\n",
            " 0.66159009 0.66301671 0.66708989 0.65563544 0.66388513 0.68008462\n",
            " 0.67712797 0.69030881 0.69197323 0.70012984 0.70368612 0.70908248\n",
            " 0.70920656 0.71962716 0.711729   0.71609162 0.71771465 0.70993021\n",
            " 0.70848291 0.69893068 0.7077799  0.70665307 0.69649092 0.69454736\n",
            " 0.69293468 0.7129799  0.72903467 0.74219487 0.73737739 0.72418619\n",
            " 0.74086124 0.74141953 0.75       0.74387993 0.74185369 0.72390705\n",
            " 0.71300055 0.70881369 0.687652   0.67862696 0.67338567 0.66306839\n",
            " 0.66869226 0.66881629 0.6898953  0.69179751 0.67970215 0.70959938\n",
            " 0.70597076 0.70782129 0.70702525 0.70187698 0.69939588 0.7179421\n",
            " 0.71129479 0.71147055 0.73024423 0.74165728 0.73918653 0.74026166\n",
            " 0.73019254 0.74563738 0.72816629 0.71754923 0.71035408 0.70377915\n",
            " 0.69627381 0.70247656 0.69276927 0.70125671 0.68502618 0.67662142\n",
            " 0.68387866 0.68234861 0.68959551 0.70043997 0.70364473 0.66499126\n",
            " 0.66602505 0.67006719 0.66564258 0.63817513]\n",
            "1 day output [[0.63590854]]\n",
            "2 day input [0.65048718 0.66690377 0.66586998 0.67218646 0.66823735 0.66317177\n",
            " 0.66091813 0.6578271  0.63336757 0.63919815 0.6548291  0.66289268\n",
            " 0.65870582 0.64779932 0.6300181  0.62918071 0.65370228 0.66159009\n",
            " 0.66301671 0.66708989 0.65563544 0.66388513 0.68008462 0.67712797\n",
            " 0.69030881 0.69197323 0.70012984 0.70368612 0.70908248 0.70920656\n",
            " 0.71962716 0.711729   0.71609162 0.71771465 0.70993021 0.70848291\n",
            " 0.69893068 0.7077799  0.70665307 0.69649092 0.69454736 0.69293468\n",
            " 0.7129799  0.72903467 0.74219487 0.73737739 0.72418619 0.74086124\n",
            " 0.74141953 0.75       0.74387993 0.74185369 0.72390705 0.71300055\n",
            " 0.70881369 0.687652   0.67862696 0.67338567 0.66306839 0.66869226\n",
            " 0.66881629 0.6898953  0.69179751 0.67970215 0.70959938 0.70597076\n",
            " 0.70782129 0.70702525 0.70187698 0.69939588 0.7179421  0.71129479\n",
            " 0.71147055 0.73024423 0.74165728 0.73918653 0.74026166 0.73019254\n",
            " 0.74563738 0.72816629 0.71754923 0.71035408 0.70377915 0.69627381\n",
            " 0.70247656 0.69276927 0.70125671 0.68502618 0.67662142 0.68387866\n",
            " 0.68234861 0.68959551 0.70043997 0.70364473 0.66499126 0.66602505\n",
            " 0.67006719 0.66564258 0.63817513 0.63590854]\n",
            "2 day output [[0.632674]]\n",
            "3 day input [0.66690377 0.66586998 0.67218646 0.66823735 0.66317177 0.66091813\n",
            " 0.6578271  0.63336757 0.63919815 0.6548291  0.66289268 0.65870582\n",
            " 0.64779932 0.6300181  0.62918071 0.65370228 0.66159009 0.66301671\n",
            " 0.66708989 0.65563544 0.66388513 0.68008462 0.67712797 0.69030881\n",
            " 0.69197323 0.70012984 0.70368612 0.70908248 0.70920656 0.71962716\n",
            " 0.711729   0.71609162 0.71771465 0.70993021 0.70848291 0.69893068\n",
            " 0.7077799  0.70665307 0.69649092 0.69454736 0.69293468 0.7129799\n",
            " 0.72903467 0.74219487 0.73737739 0.72418619 0.74086124 0.74141953\n",
            " 0.75       0.74387993 0.74185369 0.72390705 0.71300055 0.70881369\n",
            " 0.687652   0.67862696 0.67338567 0.66306839 0.66869226 0.66881629\n",
            " 0.6898953  0.69179751 0.67970215 0.70959938 0.70597076 0.70782129\n",
            " 0.70702525 0.70187698 0.69939588 0.7179421  0.71129479 0.71147055\n",
            " 0.73024423 0.74165728 0.73918653 0.74026166 0.73019254 0.74563738\n",
            " 0.72816629 0.71754923 0.71035408 0.70377915 0.69627381 0.70247656\n",
            " 0.69276927 0.70125671 0.68502618 0.67662142 0.68387866 0.68234861\n",
            " 0.68959551 0.70043997 0.70364473 0.66499126 0.66602505 0.67006719\n",
            " 0.66564258 0.63817513 0.63590854 0.63267398]\n",
            "3 day output [[0.62857175]]\n",
            "4 day input [0.66586998 0.67218646 0.66823735 0.66317177 0.66091813 0.6578271\n",
            " 0.63336757 0.63919815 0.6548291  0.66289268 0.65870582 0.64779932\n",
            " 0.6300181  0.62918071 0.65370228 0.66159009 0.66301671 0.66708989\n",
            " 0.65563544 0.66388513 0.68008462 0.67712797 0.69030881 0.69197323\n",
            " 0.70012984 0.70368612 0.70908248 0.70920656 0.71962716 0.711729\n",
            " 0.71609162 0.71771465 0.70993021 0.70848291 0.69893068 0.7077799\n",
            " 0.70665307 0.69649092 0.69454736 0.69293468 0.7129799  0.72903467\n",
            " 0.74219487 0.73737739 0.72418619 0.74086124 0.74141953 0.75\n",
            " 0.74387993 0.74185369 0.72390705 0.71300055 0.70881369 0.687652\n",
            " 0.67862696 0.67338567 0.66306839 0.66869226 0.66881629 0.6898953\n",
            " 0.69179751 0.67970215 0.70959938 0.70597076 0.70782129 0.70702525\n",
            " 0.70187698 0.69939588 0.7179421  0.71129479 0.71147055 0.73024423\n",
            " 0.74165728 0.73918653 0.74026166 0.73019254 0.74563738 0.72816629\n",
            " 0.71754923 0.71035408 0.70377915 0.69627381 0.70247656 0.69276927\n",
            " 0.70125671 0.68502618 0.67662142 0.68387866 0.68234861 0.68959551\n",
            " 0.70043997 0.70364473 0.66499126 0.66602505 0.67006719 0.66564258\n",
            " 0.63817513 0.63590854 0.63267398 0.62857175]\n",
            "4 day output [[0.62378496]]\n",
            "5 day input [0.67218646 0.66823735 0.66317177 0.66091813 0.6578271  0.63336757\n",
            " 0.63919815 0.6548291  0.66289268 0.65870582 0.64779932 0.6300181\n",
            " 0.62918071 0.65370228 0.66159009 0.66301671 0.66708989 0.65563544\n",
            " 0.66388513 0.68008462 0.67712797 0.69030881 0.69197323 0.70012984\n",
            " 0.70368612 0.70908248 0.70920656 0.71962716 0.711729   0.71609162\n",
            " 0.71771465 0.70993021 0.70848291 0.69893068 0.7077799  0.70665307\n",
            " 0.69649092 0.69454736 0.69293468 0.7129799  0.72903467 0.74219487\n",
            " 0.73737739 0.72418619 0.74086124 0.74141953 0.75       0.74387993\n",
            " 0.74185369 0.72390705 0.71300055 0.70881369 0.687652   0.67862696\n",
            " 0.67338567 0.66306839 0.66869226 0.66881629 0.6898953  0.69179751\n",
            " 0.67970215 0.70959938 0.70597076 0.70782129 0.70702525 0.70187698\n",
            " 0.69939588 0.7179421  0.71129479 0.71147055 0.73024423 0.74165728\n",
            " 0.73918653 0.74026166 0.73019254 0.74563738 0.72816629 0.71754923\n",
            " 0.71035408 0.70377915 0.69627381 0.70247656 0.69276927 0.70125671\n",
            " 0.68502618 0.67662142 0.68387866 0.68234861 0.68959551 0.70043997\n",
            " 0.70364473 0.66499126 0.66602505 0.67006719 0.66564258 0.63817513\n",
            " 0.63590854 0.63267398 0.62857175 0.62378496]\n",
            "5 day output [[0.6185188]]\n",
            "6 day input [0.66823735 0.66317177 0.66091813 0.6578271  0.63336757 0.63919815\n",
            " 0.6548291  0.66289268 0.65870582 0.64779932 0.6300181  0.62918071\n",
            " 0.65370228 0.66159009 0.66301671 0.66708989 0.65563544 0.66388513\n",
            " 0.68008462 0.67712797 0.69030881 0.69197323 0.70012984 0.70368612\n",
            " 0.70908248 0.70920656 0.71962716 0.711729   0.71609162 0.71771465\n",
            " 0.70993021 0.70848291 0.69893068 0.7077799  0.70665307 0.69649092\n",
            " 0.69454736 0.69293468 0.7129799  0.72903467 0.74219487 0.73737739\n",
            " 0.72418619 0.74086124 0.74141953 0.75       0.74387993 0.74185369\n",
            " 0.72390705 0.71300055 0.70881369 0.687652   0.67862696 0.67338567\n",
            " 0.66306839 0.66869226 0.66881629 0.6898953  0.69179751 0.67970215\n",
            " 0.70959938 0.70597076 0.70782129 0.70702525 0.70187698 0.69939588\n",
            " 0.7179421  0.71129479 0.71147055 0.73024423 0.74165728 0.73918653\n",
            " 0.74026166 0.73019254 0.74563738 0.72816629 0.71754923 0.71035408\n",
            " 0.70377915 0.69627381 0.70247656 0.69276927 0.70125671 0.68502618\n",
            " 0.67662142 0.68387866 0.68234861 0.68959551 0.70043997 0.70364473\n",
            " 0.66499126 0.66602505 0.67006719 0.66564258 0.63817513 0.63590854\n",
            " 0.63267398 0.62857175 0.62378496 0.61851883]\n",
            "6 day output [[0.6129667]]\n",
            "7 day input [0.66317177 0.66091813 0.6578271  0.63336757 0.63919815 0.6548291\n",
            " 0.66289268 0.65870582 0.64779932 0.6300181  0.62918071 0.65370228\n",
            " 0.66159009 0.66301671 0.66708989 0.65563544 0.66388513 0.68008462\n",
            " 0.67712797 0.69030881 0.69197323 0.70012984 0.70368612 0.70908248\n",
            " 0.70920656 0.71962716 0.711729   0.71609162 0.71771465 0.70993021\n",
            " 0.70848291 0.69893068 0.7077799  0.70665307 0.69649092 0.69454736\n",
            " 0.69293468 0.7129799  0.72903467 0.74219487 0.73737739 0.72418619\n",
            " 0.74086124 0.74141953 0.75       0.74387993 0.74185369 0.72390705\n",
            " 0.71300055 0.70881369 0.687652   0.67862696 0.67338567 0.66306839\n",
            " 0.66869226 0.66881629 0.6898953  0.69179751 0.67970215 0.70959938\n",
            " 0.70597076 0.70782129 0.70702525 0.70187698 0.69939588 0.7179421\n",
            " 0.71129479 0.71147055 0.73024423 0.74165728 0.73918653 0.74026166\n",
            " 0.73019254 0.74563738 0.72816629 0.71754923 0.71035408 0.70377915\n",
            " 0.69627381 0.70247656 0.69276927 0.70125671 0.68502618 0.67662142\n",
            " 0.68387866 0.68234861 0.68959551 0.70043997 0.70364473 0.66499126\n",
            " 0.66602505 0.67006719 0.66564258 0.63817513 0.63590854 0.63267398\n",
            " 0.62857175 0.62378496 0.61851883 0.61296672]\n",
            "7 day output [[0.6072898]]\n",
            "8 day input [0.66091813 0.6578271  0.63336757 0.63919815 0.6548291  0.66289268\n",
            " 0.65870582 0.64779932 0.6300181  0.62918071 0.65370228 0.66159009\n",
            " 0.66301671 0.66708989 0.65563544 0.66388513 0.68008462 0.67712797\n",
            " 0.69030881 0.69197323 0.70012984 0.70368612 0.70908248 0.70920656\n",
            " 0.71962716 0.711729   0.71609162 0.71771465 0.70993021 0.70848291\n",
            " 0.69893068 0.7077799  0.70665307 0.69649092 0.69454736 0.69293468\n",
            " 0.7129799  0.72903467 0.74219487 0.73737739 0.72418619 0.74086124\n",
            " 0.74141953 0.75       0.74387993 0.74185369 0.72390705 0.71300055\n",
            " 0.70881369 0.687652   0.67862696 0.67338567 0.66306839 0.66869226\n",
            " 0.66881629 0.6898953  0.69179751 0.67970215 0.70959938 0.70597076\n",
            " 0.70782129 0.70702525 0.70187698 0.69939588 0.7179421  0.71129479\n",
            " 0.71147055 0.73024423 0.74165728 0.73918653 0.74026166 0.73019254\n",
            " 0.74563738 0.72816629 0.71754923 0.71035408 0.70377915 0.69627381\n",
            " 0.70247656 0.69276927 0.70125671 0.68502618 0.67662142 0.68387866\n",
            " 0.68234861 0.68959551 0.70043997 0.70364473 0.66499126 0.66602505\n",
            " 0.67006719 0.66564258 0.63817513 0.63590854 0.63267398 0.62857175\n",
            " 0.62378496 0.61851883 0.61296672 0.60728979]\n",
            "8 day output [[0.6016132]]\n",
            "9 day input [0.6578271  0.63336757 0.63919815 0.6548291  0.66289268 0.65870582\n",
            " 0.64779932 0.6300181  0.62918071 0.65370228 0.66159009 0.66301671\n",
            " 0.66708989 0.65563544 0.66388513 0.68008462 0.67712797 0.69030881\n",
            " 0.69197323 0.70012984 0.70368612 0.70908248 0.70920656 0.71962716\n",
            " 0.711729   0.71609162 0.71771465 0.70993021 0.70848291 0.69893068\n",
            " 0.7077799  0.70665307 0.69649092 0.69454736 0.69293468 0.7129799\n",
            " 0.72903467 0.74219487 0.73737739 0.72418619 0.74086124 0.74141953\n",
            " 0.75       0.74387993 0.74185369 0.72390705 0.71300055 0.70881369\n",
            " 0.687652   0.67862696 0.67338567 0.66306839 0.66869226 0.66881629\n",
            " 0.6898953  0.69179751 0.67970215 0.70959938 0.70597076 0.70782129\n",
            " 0.70702525 0.70187698 0.69939588 0.7179421  0.71129479 0.71147055\n",
            " 0.73024423 0.74165728 0.73918653 0.74026166 0.73019254 0.74563738\n",
            " 0.72816629 0.71754923 0.71035408 0.70377915 0.69627381 0.70247656\n",
            " 0.69276927 0.70125671 0.68502618 0.67662142 0.68387866 0.68234861\n",
            " 0.68959551 0.70043997 0.70364473 0.66499126 0.66602505 0.67006719\n",
            " 0.66564258 0.63817513 0.63590854 0.63267398 0.62857175 0.62378496\n",
            " 0.61851883 0.61296672 0.60728979 0.60161322]\n",
            "9 day output [[0.5960268]]\n",
            "10 day input [0.63336757 0.63919815 0.6548291  0.66289268 0.65870582 0.64779932\n",
            " 0.6300181  0.62918071 0.65370228 0.66159009 0.66301671 0.66708989\n",
            " 0.65563544 0.66388513 0.68008462 0.67712797 0.69030881 0.69197323\n",
            " 0.70012984 0.70368612 0.70908248 0.70920656 0.71962716 0.711729\n",
            " 0.71609162 0.71771465 0.70993021 0.70848291 0.69893068 0.7077799\n",
            " 0.70665307 0.69649092 0.69454736 0.69293468 0.7129799  0.72903467\n",
            " 0.74219487 0.73737739 0.72418619 0.74086124 0.74141953 0.75\n",
            " 0.74387993 0.74185369 0.72390705 0.71300055 0.70881369 0.687652\n",
            " 0.67862696 0.67338567 0.66306839 0.66869226 0.66881629 0.6898953\n",
            " 0.69179751 0.67970215 0.70959938 0.70597076 0.70782129 0.70702525\n",
            " 0.70187698 0.69939588 0.7179421  0.71129479 0.71147055 0.73024423\n",
            " 0.74165728 0.73918653 0.74026166 0.73019254 0.74563738 0.72816629\n",
            " 0.71754923 0.71035408 0.70377915 0.69627381 0.70247656 0.69276927\n",
            " 0.70125671 0.68502618 0.67662142 0.68387866 0.68234861 0.68959551\n",
            " 0.70043997 0.70364473 0.66499126 0.66602505 0.67006719 0.66564258\n",
            " 0.63817513 0.63590854 0.63267398 0.62857175 0.62378496 0.61851883\n",
            " 0.61296672 0.60728979 0.60161322 0.59602678]\n",
            "10 day output [[0.5905906]]\n",
            "11 day input [0.63919815 0.6548291  0.66289268 0.65870582 0.64779932 0.6300181\n",
            " 0.62918071 0.65370228 0.66159009 0.66301671 0.66708989 0.65563544\n",
            " 0.66388513 0.68008462 0.67712797 0.69030881 0.69197323 0.70012984\n",
            " 0.70368612 0.70908248 0.70920656 0.71962716 0.711729   0.71609162\n",
            " 0.71771465 0.70993021 0.70848291 0.69893068 0.7077799  0.70665307\n",
            " 0.69649092 0.69454736 0.69293468 0.7129799  0.72903467 0.74219487\n",
            " 0.73737739 0.72418619 0.74086124 0.74141953 0.75       0.74387993\n",
            " 0.74185369 0.72390705 0.71300055 0.70881369 0.687652   0.67862696\n",
            " 0.67338567 0.66306839 0.66869226 0.66881629 0.6898953  0.69179751\n",
            " 0.67970215 0.70959938 0.70597076 0.70782129 0.70702525 0.70187698\n",
            " 0.69939588 0.7179421  0.71129479 0.71147055 0.73024423 0.74165728\n",
            " 0.73918653 0.74026166 0.73019254 0.74563738 0.72816629 0.71754923\n",
            " 0.71035408 0.70377915 0.69627381 0.70247656 0.69276927 0.70125671\n",
            " 0.68502618 0.67662142 0.68387866 0.68234861 0.68959551 0.70043997\n",
            " 0.70364473 0.66499126 0.66602505 0.67006719 0.66564258 0.63817513\n",
            " 0.63590854 0.63267398 0.62857175 0.62378496 0.61851883 0.61296672\n",
            " 0.60728979 0.60161322 0.59602678 0.5905906 ]\n",
            "11 day output [[0.58534044]]\n",
            "12 day input [0.6548291  0.66289268 0.65870582 0.64779932 0.6300181  0.62918071\n",
            " 0.65370228 0.66159009 0.66301671 0.66708989 0.65563544 0.66388513\n",
            " 0.68008462 0.67712797 0.69030881 0.69197323 0.70012984 0.70368612\n",
            " 0.70908248 0.70920656 0.71962716 0.711729   0.71609162 0.71771465\n",
            " 0.70993021 0.70848291 0.69893068 0.7077799  0.70665307 0.69649092\n",
            " 0.69454736 0.69293468 0.7129799  0.72903467 0.74219487 0.73737739\n",
            " 0.72418619 0.74086124 0.74141953 0.75       0.74387993 0.74185369\n",
            " 0.72390705 0.71300055 0.70881369 0.687652   0.67862696 0.67338567\n",
            " 0.66306839 0.66869226 0.66881629 0.6898953  0.69179751 0.67970215\n",
            " 0.70959938 0.70597076 0.70782129 0.70702525 0.70187698 0.69939588\n",
            " 0.7179421  0.71129479 0.71147055 0.73024423 0.74165728 0.73918653\n",
            " 0.74026166 0.73019254 0.74563738 0.72816629 0.71754923 0.71035408\n",
            " 0.70377915 0.69627381 0.70247656 0.69276927 0.70125671 0.68502618\n",
            " 0.67662142 0.68387866 0.68234861 0.68959551 0.70043997 0.70364473\n",
            " 0.66499126 0.66602505 0.67006719 0.66564258 0.63817513 0.63590854\n",
            " 0.63267398 0.62857175 0.62378496 0.61851883 0.61296672 0.60728979\n",
            " 0.60161322 0.59602678 0.5905906  0.58534044]\n",
            "12 day output [[0.5802953]]\n",
            "13 day input [0.66289268 0.65870582 0.64779932 0.6300181  0.62918071 0.65370228\n",
            " 0.66159009 0.66301671 0.66708989 0.65563544 0.66388513 0.68008462\n",
            " 0.67712797 0.69030881 0.69197323 0.70012984 0.70368612 0.70908248\n",
            " 0.70920656 0.71962716 0.711729   0.71609162 0.71771465 0.70993021\n",
            " 0.70848291 0.69893068 0.7077799  0.70665307 0.69649092 0.69454736\n",
            " 0.69293468 0.7129799  0.72903467 0.74219487 0.73737739 0.72418619\n",
            " 0.74086124 0.74141953 0.75       0.74387993 0.74185369 0.72390705\n",
            " 0.71300055 0.70881369 0.687652   0.67862696 0.67338567 0.66306839\n",
            " 0.66869226 0.66881629 0.6898953  0.69179751 0.67970215 0.70959938\n",
            " 0.70597076 0.70782129 0.70702525 0.70187698 0.69939588 0.7179421\n",
            " 0.71129479 0.71147055 0.73024423 0.74165728 0.73918653 0.74026166\n",
            " 0.73019254 0.74563738 0.72816629 0.71754923 0.71035408 0.70377915\n",
            " 0.69627381 0.70247656 0.69276927 0.70125671 0.68502618 0.67662142\n",
            " 0.68387866 0.68234861 0.68959551 0.70043997 0.70364473 0.66499126\n",
            " 0.66602505 0.67006719 0.66564258 0.63817513 0.63590854 0.63267398\n",
            " 0.62857175 0.62378496 0.61851883 0.61296672 0.60728979 0.60161322\n",
            " 0.59602678 0.5905906  0.58534044 0.58029532]\n",
            "13 day output [[0.57546246]]\n",
            "14 day input [0.65870582 0.64779932 0.6300181  0.62918071 0.65370228 0.66159009\n",
            " 0.66301671 0.66708989 0.65563544 0.66388513 0.68008462 0.67712797\n",
            " 0.69030881 0.69197323 0.70012984 0.70368612 0.70908248 0.70920656\n",
            " 0.71962716 0.711729   0.71609162 0.71771465 0.70993021 0.70848291\n",
            " 0.69893068 0.7077799  0.70665307 0.69649092 0.69454736 0.69293468\n",
            " 0.7129799  0.72903467 0.74219487 0.73737739 0.72418619 0.74086124\n",
            " 0.74141953 0.75       0.74387993 0.74185369 0.72390705 0.71300055\n",
            " 0.70881369 0.687652   0.67862696 0.67338567 0.66306839 0.66869226\n",
            " 0.66881629 0.6898953  0.69179751 0.67970215 0.70959938 0.70597076\n",
            " 0.70782129 0.70702525 0.70187698 0.69939588 0.7179421  0.71129479\n",
            " 0.71147055 0.73024423 0.74165728 0.73918653 0.74026166 0.73019254\n",
            " 0.74563738 0.72816629 0.71754923 0.71035408 0.70377915 0.69627381\n",
            " 0.70247656 0.69276927 0.70125671 0.68502618 0.67662142 0.68387866\n",
            " 0.68234861 0.68959551 0.70043997 0.70364473 0.66499126 0.66602505\n",
            " 0.67006719 0.66564258 0.63817513 0.63590854 0.63267398 0.62857175\n",
            " 0.62378496 0.61851883 0.61296672 0.60728979 0.60161322 0.59602678\n",
            " 0.5905906  0.58534044 0.58029532 0.57546246]\n",
            "14 day output [[0.57084084]]\n",
            "15 day input [0.64779932 0.6300181  0.62918071 0.65370228 0.66159009 0.66301671\n",
            " 0.66708989 0.65563544 0.66388513 0.68008462 0.67712797 0.69030881\n",
            " 0.69197323 0.70012984 0.70368612 0.70908248 0.70920656 0.71962716\n",
            " 0.711729   0.71609162 0.71771465 0.70993021 0.70848291 0.69893068\n",
            " 0.7077799  0.70665307 0.69649092 0.69454736 0.69293468 0.7129799\n",
            " 0.72903467 0.74219487 0.73737739 0.72418619 0.74086124 0.74141953\n",
            " 0.75       0.74387993 0.74185369 0.72390705 0.71300055 0.70881369\n",
            " 0.687652   0.67862696 0.67338567 0.66306839 0.66869226 0.66881629\n",
            " 0.6898953  0.69179751 0.67970215 0.70959938 0.70597076 0.70782129\n",
            " 0.70702525 0.70187698 0.69939588 0.7179421  0.71129479 0.71147055\n",
            " 0.73024423 0.74165728 0.73918653 0.74026166 0.73019254 0.74563738\n",
            " 0.72816629 0.71754923 0.71035408 0.70377915 0.69627381 0.70247656\n",
            " 0.69276927 0.70125671 0.68502618 0.67662142 0.68387866 0.68234861\n",
            " 0.68959551 0.70043997 0.70364473 0.66499126 0.66602505 0.67006719\n",
            " 0.66564258 0.63817513 0.63590854 0.63267398 0.62857175 0.62378496\n",
            " 0.61851883 0.61296672 0.60728979 0.60161322 0.59602678 0.5905906\n",
            " 0.58534044 0.58029532 0.57546246 0.57084084]\n",
            "15 day output [[0.56642556]]\n",
            "16 day input [0.6300181  0.62918071 0.65370228 0.66159009 0.66301671 0.66708989\n",
            " 0.65563544 0.66388513 0.68008462 0.67712797 0.69030881 0.69197323\n",
            " 0.70012984 0.70368612 0.70908248 0.70920656 0.71962716 0.711729\n",
            " 0.71609162 0.71771465 0.70993021 0.70848291 0.69893068 0.7077799\n",
            " 0.70665307 0.69649092 0.69454736 0.69293468 0.7129799  0.72903467\n",
            " 0.74219487 0.73737739 0.72418619 0.74086124 0.74141953 0.75\n",
            " 0.74387993 0.74185369 0.72390705 0.71300055 0.70881369 0.687652\n",
            " 0.67862696 0.67338567 0.66306839 0.66869226 0.66881629 0.6898953\n",
            " 0.69179751 0.67970215 0.70959938 0.70597076 0.70782129 0.70702525\n",
            " 0.70187698 0.69939588 0.7179421  0.71129479 0.71147055 0.73024423\n",
            " 0.74165728 0.73918653 0.74026166 0.73019254 0.74563738 0.72816629\n",
            " 0.71754923 0.71035408 0.70377915 0.69627381 0.70247656 0.69276927\n",
            " 0.70125671 0.68502618 0.67662142 0.68387866 0.68234861 0.68959551\n",
            " 0.70043997 0.70364473 0.66499126 0.66602505 0.67006719 0.66564258\n",
            " 0.63817513 0.63590854 0.63267398 0.62857175 0.62378496 0.61851883\n",
            " 0.61296672 0.60728979 0.60161322 0.59602678 0.5905906  0.58534044\n",
            " 0.58029532 0.57546246 0.57084084 0.56642556]\n",
            "16 day output [[0.56220907]]\n",
            "17 day input [0.62918071 0.65370228 0.66159009 0.66301671 0.66708989 0.65563544\n",
            " 0.66388513 0.68008462 0.67712797 0.69030881 0.69197323 0.70012984\n",
            " 0.70368612 0.70908248 0.70920656 0.71962716 0.711729   0.71609162\n",
            " 0.71771465 0.70993021 0.70848291 0.69893068 0.7077799  0.70665307\n",
            " 0.69649092 0.69454736 0.69293468 0.7129799  0.72903467 0.74219487\n",
            " 0.73737739 0.72418619 0.74086124 0.74141953 0.75       0.74387993\n",
            " 0.74185369 0.72390705 0.71300055 0.70881369 0.687652   0.67862696\n",
            " 0.67338567 0.66306839 0.66869226 0.66881629 0.6898953  0.69179751\n",
            " 0.67970215 0.70959938 0.70597076 0.70782129 0.70702525 0.70187698\n",
            " 0.69939588 0.7179421  0.71129479 0.71147055 0.73024423 0.74165728\n",
            " 0.73918653 0.74026166 0.73019254 0.74563738 0.72816629 0.71754923\n",
            " 0.71035408 0.70377915 0.69627381 0.70247656 0.69276927 0.70125671\n",
            " 0.68502618 0.67662142 0.68387866 0.68234861 0.68959551 0.70043997\n",
            " 0.70364473 0.66499126 0.66602505 0.67006719 0.66564258 0.63817513\n",
            " 0.63590854 0.63267398 0.62857175 0.62378496 0.61851883 0.61296672\n",
            " 0.60728979 0.60161322 0.59602678 0.5905906  0.58534044 0.58029532\n",
            " 0.57546246 0.57084084 0.56642556 0.56220907]\n",
            "17 day output [[0.55818266]]\n",
            "18 day input [0.65370228 0.66159009 0.66301671 0.66708989 0.65563544 0.66388513\n",
            " 0.68008462 0.67712797 0.69030881 0.69197323 0.70012984 0.70368612\n",
            " 0.70908248 0.70920656 0.71962716 0.711729   0.71609162 0.71771465\n",
            " 0.70993021 0.70848291 0.69893068 0.7077799  0.70665307 0.69649092\n",
            " 0.69454736 0.69293468 0.7129799  0.72903467 0.74219487 0.73737739\n",
            " 0.72418619 0.74086124 0.74141953 0.75       0.74387993 0.74185369\n",
            " 0.72390705 0.71300055 0.70881369 0.687652   0.67862696 0.67338567\n",
            " 0.66306839 0.66869226 0.66881629 0.6898953  0.69179751 0.67970215\n",
            " 0.70959938 0.70597076 0.70782129 0.70702525 0.70187698 0.69939588\n",
            " 0.7179421  0.71129479 0.71147055 0.73024423 0.74165728 0.73918653\n",
            " 0.74026166 0.73019254 0.74563738 0.72816629 0.71754923 0.71035408\n",
            " 0.70377915 0.69627381 0.70247656 0.69276927 0.70125671 0.68502618\n",
            " 0.67662142 0.68387866 0.68234861 0.68959551 0.70043997 0.70364473\n",
            " 0.66499126 0.66602505 0.67006719 0.66564258 0.63817513 0.63590854\n",
            " 0.63267398 0.62857175 0.62378496 0.61851883 0.61296672 0.60728979\n",
            " 0.60161322 0.59602678 0.5905906  0.58534044 0.58029532 0.57546246\n",
            " 0.57084084 0.56642556 0.56220907 0.55818266]\n",
            "18 day output [[0.5543376]]\n",
            "19 day input [0.66159009 0.66301671 0.66708989 0.65563544 0.66388513 0.68008462\n",
            " 0.67712797 0.69030881 0.69197323 0.70012984 0.70368612 0.70908248\n",
            " 0.70920656 0.71962716 0.711729   0.71609162 0.71771465 0.70993021\n",
            " 0.70848291 0.69893068 0.7077799  0.70665307 0.69649092 0.69454736\n",
            " 0.69293468 0.7129799  0.72903467 0.74219487 0.73737739 0.72418619\n",
            " 0.74086124 0.74141953 0.75       0.74387993 0.74185369 0.72390705\n",
            " 0.71300055 0.70881369 0.687652   0.67862696 0.67338567 0.66306839\n",
            " 0.66869226 0.66881629 0.6898953  0.69179751 0.67970215 0.70959938\n",
            " 0.70597076 0.70782129 0.70702525 0.70187698 0.69939588 0.7179421\n",
            " 0.71129479 0.71147055 0.73024423 0.74165728 0.73918653 0.74026166\n",
            " 0.73019254 0.74563738 0.72816629 0.71754923 0.71035408 0.70377915\n",
            " 0.69627381 0.70247656 0.69276927 0.70125671 0.68502618 0.67662142\n",
            " 0.68387866 0.68234861 0.68959551 0.70043997 0.70364473 0.66499126\n",
            " 0.66602505 0.67006719 0.66564258 0.63817513 0.63590854 0.63267398\n",
            " 0.62857175 0.62378496 0.61851883 0.61296672 0.60728979 0.60161322\n",
            " 0.59602678 0.5905906  0.58534044 0.58029532 0.57546246 0.57084084\n",
            " 0.56642556 0.56220907 0.55818266 0.55433762]\n",
            "19 day output [[0.550665]]\n",
            "20 day input [0.66301671 0.66708989 0.65563544 0.66388513 0.68008462 0.67712797\n",
            " 0.69030881 0.69197323 0.70012984 0.70368612 0.70908248 0.70920656\n",
            " 0.71962716 0.711729   0.71609162 0.71771465 0.70993021 0.70848291\n",
            " 0.69893068 0.7077799  0.70665307 0.69649092 0.69454736 0.69293468\n",
            " 0.7129799  0.72903467 0.74219487 0.73737739 0.72418619 0.74086124\n",
            " 0.74141953 0.75       0.74387993 0.74185369 0.72390705 0.71300055\n",
            " 0.70881369 0.687652   0.67862696 0.67338567 0.66306839 0.66869226\n",
            " 0.66881629 0.6898953  0.69179751 0.67970215 0.70959938 0.70597076\n",
            " 0.70782129 0.70702525 0.70187698 0.69939588 0.7179421  0.71129479\n",
            " 0.71147055 0.73024423 0.74165728 0.73918653 0.74026166 0.73019254\n",
            " 0.74563738 0.72816629 0.71754923 0.71035408 0.70377915 0.69627381\n",
            " 0.70247656 0.69276927 0.70125671 0.68502618 0.67662142 0.68387866\n",
            " 0.68234861 0.68959551 0.70043997 0.70364473 0.66499126 0.66602505\n",
            " 0.67006719 0.66564258 0.63817513 0.63590854 0.63267398 0.62857175\n",
            " 0.62378496 0.61851883 0.61296672 0.60728979 0.60161322 0.59602678\n",
            " 0.5905906  0.58534044 0.58029532 0.57546246 0.57084084 0.56642556\n",
            " 0.56220907 0.55818266 0.55433762 0.55066502]\n",
            "20 day output [[0.54715616]]\n",
            "21 day input [0.66708989 0.65563544 0.66388513 0.68008462 0.67712797 0.69030881\n",
            " 0.69197323 0.70012984 0.70368612 0.70908248 0.70920656 0.71962716\n",
            " 0.711729   0.71609162 0.71771465 0.70993021 0.70848291 0.69893068\n",
            " 0.7077799  0.70665307 0.69649092 0.69454736 0.69293468 0.7129799\n",
            " 0.72903467 0.74219487 0.73737739 0.72418619 0.74086124 0.74141953\n",
            " 0.75       0.74387993 0.74185369 0.72390705 0.71300055 0.70881369\n",
            " 0.687652   0.67862696 0.67338567 0.66306839 0.66869226 0.66881629\n",
            " 0.6898953  0.69179751 0.67970215 0.70959938 0.70597076 0.70782129\n",
            " 0.70702525 0.70187698 0.69939588 0.7179421  0.71129479 0.71147055\n",
            " 0.73024423 0.74165728 0.73918653 0.74026166 0.73019254 0.74563738\n",
            " 0.72816629 0.71754923 0.71035408 0.70377915 0.69627381 0.70247656\n",
            " 0.69276927 0.70125671 0.68502618 0.67662142 0.68387866 0.68234861\n",
            " 0.68959551 0.70043997 0.70364473 0.66499126 0.66602505 0.67006719\n",
            " 0.66564258 0.63817513 0.63590854 0.63267398 0.62857175 0.62378496\n",
            " 0.61851883 0.61296672 0.60728979 0.60161322 0.59602678 0.5905906\n",
            " 0.58534044 0.58029532 0.57546246 0.57084084 0.56642556 0.56220907\n",
            " 0.55818266 0.55433762 0.55066502 0.54715616]\n",
            "21 day output [[0.54380304]]\n",
            "22 day input [0.65563544 0.66388513 0.68008462 0.67712797 0.69030881 0.69197323\n",
            " 0.70012984 0.70368612 0.70908248 0.70920656 0.71962716 0.711729\n",
            " 0.71609162 0.71771465 0.70993021 0.70848291 0.69893068 0.7077799\n",
            " 0.70665307 0.69649092 0.69454736 0.69293468 0.7129799  0.72903467\n",
            " 0.74219487 0.73737739 0.72418619 0.74086124 0.74141953 0.75\n",
            " 0.74387993 0.74185369 0.72390705 0.71300055 0.70881369 0.687652\n",
            " 0.67862696 0.67338567 0.66306839 0.66869226 0.66881629 0.6898953\n",
            " 0.69179751 0.67970215 0.70959938 0.70597076 0.70782129 0.70702525\n",
            " 0.70187698 0.69939588 0.7179421  0.71129479 0.71147055 0.73024423\n",
            " 0.74165728 0.73918653 0.74026166 0.73019254 0.74563738 0.72816629\n",
            " 0.71754923 0.71035408 0.70377915 0.69627381 0.70247656 0.69276927\n",
            " 0.70125671 0.68502618 0.67662142 0.68387866 0.68234861 0.68959551\n",
            " 0.70043997 0.70364473 0.66499126 0.66602505 0.67006719 0.66564258\n",
            " 0.63817513 0.63590854 0.63267398 0.62857175 0.62378496 0.61851883\n",
            " 0.61296672 0.60728979 0.60161322 0.59602678 0.5905906  0.58534044\n",
            " 0.58029532 0.57546246 0.57084084 0.56642556 0.56220907 0.55818266\n",
            " 0.55433762 0.55066502 0.54715616 0.54380304]\n",
            "22 day output [[0.54059696]]\n",
            "23 day input [0.66388513 0.68008462 0.67712797 0.69030881 0.69197323 0.70012984\n",
            " 0.70368612 0.70908248 0.70920656 0.71962716 0.711729   0.71609162\n",
            " 0.71771465 0.70993021 0.70848291 0.69893068 0.7077799  0.70665307\n",
            " 0.69649092 0.69454736 0.69293468 0.7129799  0.72903467 0.74219487\n",
            " 0.73737739 0.72418619 0.74086124 0.74141953 0.75       0.74387993\n",
            " 0.74185369 0.72390705 0.71300055 0.70881369 0.687652   0.67862696\n",
            " 0.67338567 0.66306839 0.66869226 0.66881629 0.6898953  0.69179751\n",
            " 0.67970215 0.70959938 0.70597076 0.70782129 0.70702525 0.70187698\n",
            " 0.69939588 0.7179421  0.71129479 0.71147055 0.73024423 0.74165728\n",
            " 0.73918653 0.74026166 0.73019254 0.74563738 0.72816629 0.71754923\n",
            " 0.71035408 0.70377915 0.69627381 0.70247656 0.69276927 0.70125671\n",
            " 0.68502618 0.67662142 0.68387866 0.68234861 0.68959551 0.70043997\n",
            " 0.70364473 0.66499126 0.66602505 0.67006719 0.66564258 0.63817513\n",
            " 0.63590854 0.63267398 0.62857175 0.62378496 0.61851883 0.61296672\n",
            " 0.60728979 0.60161322 0.59602678 0.5905906  0.58534044 0.58029532\n",
            " 0.57546246 0.57084084 0.56642556 0.56220907 0.55818266 0.55433762\n",
            " 0.55066502 0.54715616 0.54380304 0.54059696]\n",
            "23 day output [[0.53753024]]\n",
            "24 day input [0.68008462 0.67712797 0.69030881 0.69197323 0.70012984 0.70368612\n",
            " 0.70908248 0.70920656 0.71962716 0.711729   0.71609162 0.71771465\n",
            " 0.70993021 0.70848291 0.69893068 0.7077799  0.70665307 0.69649092\n",
            " 0.69454736 0.69293468 0.7129799  0.72903467 0.74219487 0.73737739\n",
            " 0.72418619 0.74086124 0.74141953 0.75       0.74387993 0.74185369\n",
            " 0.72390705 0.71300055 0.70881369 0.687652   0.67862696 0.67338567\n",
            " 0.66306839 0.66869226 0.66881629 0.6898953  0.69179751 0.67970215\n",
            " 0.70959938 0.70597076 0.70782129 0.70702525 0.70187698 0.69939588\n",
            " 0.7179421  0.71129479 0.71147055 0.73024423 0.74165728 0.73918653\n",
            " 0.74026166 0.73019254 0.74563738 0.72816629 0.71754923 0.71035408\n",
            " 0.70377915 0.69627381 0.70247656 0.69276927 0.70125671 0.68502618\n",
            " 0.67662142 0.68387866 0.68234861 0.68959551 0.70043997 0.70364473\n",
            " 0.66499126 0.66602505 0.67006719 0.66564258 0.63817513 0.63590854\n",
            " 0.63267398 0.62857175 0.62378496 0.61851883 0.61296672 0.60728979\n",
            " 0.60161322 0.59602678 0.5905906  0.58534044 0.58029532 0.57546246\n",
            " 0.57084084 0.56642556 0.56220907 0.55818266 0.55433762 0.55066502\n",
            " 0.54715616 0.54380304 0.54059696 0.53753024]\n",
            "24 day output [[0.5345949]]\n",
            "25 day input [0.67712797 0.69030881 0.69197323 0.70012984 0.70368612 0.70908248\n",
            " 0.70920656 0.71962716 0.711729   0.71609162 0.71771465 0.70993021\n",
            " 0.70848291 0.69893068 0.7077799  0.70665307 0.69649092 0.69454736\n",
            " 0.69293468 0.7129799  0.72903467 0.74219487 0.73737739 0.72418619\n",
            " 0.74086124 0.74141953 0.75       0.74387993 0.74185369 0.72390705\n",
            " 0.71300055 0.70881369 0.687652   0.67862696 0.67338567 0.66306839\n",
            " 0.66869226 0.66881629 0.6898953  0.69179751 0.67970215 0.70959938\n",
            " 0.70597076 0.70782129 0.70702525 0.70187698 0.69939588 0.7179421\n",
            " 0.71129479 0.71147055 0.73024423 0.74165728 0.73918653 0.74026166\n",
            " 0.73019254 0.74563738 0.72816629 0.71754923 0.71035408 0.70377915\n",
            " 0.69627381 0.70247656 0.69276927 0.70125671 0.68502618 0.67662142\n",
            " 0.68387866 0.68234861 0.68959551 0.70043997 0.70364473 0.66499126\n",
            " 0.66602505 0.67006719 0.66564258 0.63817513 0.63590854 0.63267398\n",
            " 0.62857175 0.62378496 0.61851883 0.61296672 0.60728979 0.60161322\n",
            " 0.59602678 0.5905906  0.58534044 0.58029532 0.57546246 0.57084084\n",
            " 0.56642556 0.56220907 0.55818266 0.55433762 0.55066502 0.54715616\n",
            " 0.54380304 0.54059696 0.53753024 0.53459489]\n",
            "25 day output [[0.53178304]]\n",
            "26 day input [0.69030881 0.69197323 0.70012984 0.70368612 0.70908248 0.70920656\n",
            " 0.71962716 0.711729   0.71609162 0.71771465 0.70993021 0.70848291\n",
            " 0.69893068 0.7077799  0.70665307 0.69649092 0.69454736 0.69293468\n",
            " 0.7129799  0.72903467 0.74219487 0.73737739 0.72418619 0.74086124\n",
            " 0.74141953 0.75       0.74387993 0.74185369 0.72390705 0.71300055\n",
            " 0.70881369 0.687652   0.67862696 0.67338567 0.66306839 0.66869226\n",
            " 0.66881629 0.6898953  0.69179751 0.67970215 0.70959938 0.70597076\n",
            " 0.70782129 0.70702525 0.70187698 0.69939588 0.7179421  0.71129479\n",
            " 0.71147055 0.73024423 0.74165728 0.73918653 0.74026166 0.73019254\n",
            " 0.74563738 0.72816629 0.71754923 0.71035408 0.70377915 0.69627381\n",
            " 0.70247656 0.69276927 0.70125671 0.68502618 0.67662142 0.68387866\n",
            " 0.68234861 0.68959551 0.70043997 0.70364473 0.66499126 0.66602505\n",
            " 0.67006719 0.66564258 0.63817513 0.63590854 0.63267398 0.62857175\n",
            " 0.62378496 0.61851883 0.61296672 0.60728979 0.60161322 0.59602678\n",
            " 0.5905906  0.58534044 0.58029532 0.57546246 0.57084084 0.56642556\n",
            " 0.56220907 0.55818266 0.55433762 0.55066502 0.54715616 0.54380304\n",
            " 0.54059696 0.53753024 0.53459489 0.53178304]\n",
            "26 day output [[0.52908725]]\n",
            "27 day input [0.69197323 0.70012984 0.70368612 0.70908248 0.70920656 0.71962716\n",
            " 0.711729   0.71609162 0.71771465 0.70993021 0.70848291 0.69893068\n",
            " 0.7077799  0.70665307 0.69649092 0.69454736 0.69293468 0.7129799\n",
            " 0.72903467 0.74219487 0.73737739 0.72418619 0.74086124 0.74141953\n",
            " 0.75       0.74387993 0.74185369 0.72390705 0.71300055 0.70881369\n",
            " 0.687652   0.67862696 0.67338567 0.66306839 0.66869226 0.66881629\n",
            " 0.6898953  0.69179751 0.67970215 0.70959938 0.70597076 0.70782129\n",
            " 0.70702525 0.70187698 0.69939588 0.7179421  0.71129479 0.71147055\n",
            " 0.73024423 0.74165728 0.73918653 0.74026166 0.73019254 0.74563738\n",
            " 0.72816629 0.71754923 0.71035408 0.70377915 0.69627381 0.70247656\n",
            " 0.69276927 0.70125671 0.68502618 0.67662142 0.68387866 0.68234861\n",
            " 0.68959551 0.70043997 0.70364473 0.66499126 0.66602505 0.67006719\n",
            " 0.66564258 0.63817513 0.63590854 0.63267398 0.62857175 0.62378496\n",
            " 0.61851883 0.61296672 0.60728979 0.60161322 0.59602678 0.5905906\n",
            " 0.58534044 0.58029532 0.57546246 0.57084084 0.56642556 0.56220907\n",
            " 0.55818266 0.55433762 0.55066502 0.54715616 0.54380304 0.54059696\n",
            " 0.53753024 0.53459489 0.53178304 0.52908725]\n",
            "27 day output [[0.5265001]]\n",
            "28 day input [0.70012984 0.70368612 0.70908248 0.70920656 0.71962716 0.711729\n",
            " 0.71609162 0.71771465 0.70993021 0.70848291 0.69893068 0.7077799\n",
            " 0.70665307 0.69649092 0.69454736 0.69293468 0.7129799  0.72903467\n",
            " 0.74219487 0.73737739 0.72418619 0.74086124 0.74141953 0.75\n",
            " 0.74387993 0.74185369 0.72390705 0.71300055 0.70881369 0.687652\n",
            " 0.67862696 0.67338567 0.66306839 0.66869226 0.66881629 0.6898953\n",
            " 0.69179751 0.67970215 0.70959938 0.70597076 0.70782129 0.70702525\n",
            " 0.70187698 0.69939588 0.7179421  0.71129479 0.71147055 0.73024423\n",
            " 0.74165728 0.73918653 0.74026166 0.73019254 0.74563738 0.72816629\n",
            " 0.71754923 0.71035408 0.70377915 0.69627381 0.70247656 0.69276927\n",
            " 0.70125671 0.68502618 0.67662142 0.68387866 0.68234861 0.68959551\n",
            " 0.70043997 0.70364473 0.66499126 0.66602505 0.67006719 0.66564258\n",
            " 0.63817513 0.63590854 0.63267398 0.62857175 0.62378496 0.61851883\n",
            " 0.61296672 0.60728979 0.60161322 0.59602678 0.5905906  0.58534044\n",
            " 0.58029532 0.57546246 0.57084084 0.56642556 0.56220907 0.55818266\n",
            " 0.55433762 0.55066502 0.54715616 0.54380304 0.54059696 0.53753024\n",
            " 0.53459489 0.53178304 0.52908725 0.52650011]\n",
            "28 day output [[0.52401453]]\n",
            "29 day input [0.70368612 0.70908248 0.70920656 0.71962716 0.711729   0.71609162\n",
            " 0.71771465 0.70993021 0.70848291 0.69893068 0.7077799  0.70665307\n",
            " 0.69649092 0.69454736 0.69293468 0.7129799  0.72903467 0.74219487\n",
            " 0.73737739 0.72418619 0.74086124 0.74141953 0.75       0.74387993\n",
            " 0.74185369 0.72390705 0.71300055 0.70881369 0.687652   0.67862696\n",
            " 0.67338567 0.66306839 0.66869226 0.66881629 0.6898953  0.69179751\n",
            " 0.67970215 0.70959938 0.70597076 0.70782129 0.70702525 0.70187698\n",
            " 0.69939588 0.7179421  0.71129479 0.71147055 0.73024423 0.74165728\n",
            " 0.73918653 0.74026166 0.73019254 0.74563738 0.72816629 0.71754923\n",
            " 0.71035408 0.70377915 0.69627381 0.70247656 0.69276927 0.70125671\n",
            " 0.68502618 0.67662142 0.68387866 0.68234861 0.68959551 0.70043997\n",
            " 0.70364473 0.66499126 0.66602505 0.67006719 0.66564258 0.63817513\n",
            " 0.63590854 0.63267398 0.62857175 0.62378496 0.61851883 0.61296672\n",
            " 0.60728979 0.60161322 0.59602678 0.5905906  0.58534044 0.58029532\n",
            " 0.57546246 0.57084084 0.56642556 0.56220907 0.55818266 0.55433762\n",
            " 0.55066502 0.54715616 0.54380304 0.54059696 0.53753024 0.53459489\n",
            " 0.53178304 0.52908725 0.52650011 0.52401453]\n",
            "29 day output [[0.5216236]]\n"
          ]
        }
      ]
    },
    {
      "cell_type": "code",
      "source": [
        "day_new=np.arange(1,101)\n",
        "day_pred=np.arange(101,131)"
      ],
      "metadata": {
        "id": "4kz4su-5Z9m2"
      },
      "execution_count": null,
      "outputs": []
    },
    {
      "cell_type": "code",
      "source": [
        "import matplotlib.pyplot as plt"
      ],
      "metadata": {
        "id": "qoPmmedRah_g"
      },
      "execution_count": null,
      "outputs": []
    },
    {
      "cell_type": "code",
      "source": [
        "plt.plot(day_new,scaler.inverse_transform(df1[len(df1)-100:]))\n",
        "plt.plot(day_pred,scaler.inverse_transform(lst_output))"
      ],
      "metadata": {
        "colab": {
          "base_uri": "https://localhost:8080/",
          "height": 282
        },
        "id": "MgVv6aZ8bDy0",
        "outputId": "98e227df-fa46-49f0-81fe-f4ab02f257d4"
      },
      "execution_count": null,
      "outputs": [
        {
          "output_type": "execute_result",
          "data": {
            "text/plain": [
              "[<matplotlib.lines.Line2D at 0x7fd2eadc26d0>]"
            ]
          },
          "metadata": {},
          "execution_count": 142
        },
        {
          "output_type": "display_data",
          "data": {
            "text/plain": [
              "<Figure size 432x288 with 1 Axes>"
            ],
            "image/png": "[encoded data removed]"
          },
          "metadata": {
            "needs_background": "light"
          }
        }
      ]
    },
    {
      "cell_type": "code",
      "source": [],
      "metadata": {
        "id": "pbHFtP2Ebpve"
      },
      "execution_count": null,
      "outputs": []
    }
  ]
}