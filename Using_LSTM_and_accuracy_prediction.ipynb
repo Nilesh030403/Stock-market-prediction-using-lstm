{
  "nbformat": 4,
  "nbformat_minor": 0,
  "metadata": {
    "colab": {
      "provenance": [],
      "authorship_tag": "ABX9TyO8BpbMfNWUVUANLXP8TWl4",
      "include_colab_link": true
    },
    "kernelspec": {
      "name": "python3",
      "display_name": "Python 3"
    },
    "language_info": {
      "name": "python"
    }
  },
  "cells": [
    {
      "cell_type": "markdown",
      "metadata": {
        "id": "view-in-github",
        "colab_type": "text"
      },
      "source": [
        "<a href=\"https://colab.research.google.com/github/AdarshNagpure/Stock-Market-Prediction-using-RNN/blob/main/Using_LSTM_and_accuracy_prediction.ipynb\" target=\"_parent\"><img src=\"https://colab.research.google.com/assets/colab-badge.svg\" alt=\"Open In Colab\"/></a>"
      ]
    },
    {
      "cell_type": "code",
      "execution_count": 7,
      "metadata": {
        "colab": {
          "base_uri": "https://localhost:8080/"
        },
        "id": "R-bBSwchqOhf",
        "outputId": "ffe7f011-54bc-4935-8632-1dde18ca8c64"
      },
      "outputs": [
        {
          "output_type": "stream",
          "name": "stdout",
          "text": [
            "Looking in indexes: https://pypi.org/simple, https://us-python.pkg.dev/colab-wheels/public/simple/\n",
            "Requirement already satisfied: yfinance in /usr/local/lib/python3.10/dist-packages (0.2.18)\n",
            "Requirement already satisfied: pandas>=1.3.0 in /usr/local/lib/python3.10/dist-packages (from yfinance) (1.5.3)\n",
            "Requirement already satisfied: numpy>=1.16.5 in /usr/local/lib/python3.10/dist-packages (from yfinance) (1.22.4)\n",
            "Requirement already satisfied: requests>=2.26 in /usr/local/lib/python3.10/dist-packages (from yfinance) (2.27.1)\n",
            "Requirement already satisfied: multitasking>=0.0.7 in /usr/local/lib/python3.10/dist-packages (from yfinance) (0.0.11)\n",
            "Requirement already satisfied: lxml>=4.9.1 in /usr/local/lib/python3.10/dist-packages (from yfinance) (4.9.2)\n",
            "Requirement already satisfied: appdirs>=1.4.4 in /usr/local/lib/python3.10/dist-packages (from yfinance) (1.4.4)\n",
            "Requirement already satisfied: pytz>=2022.5 in /usr/local/lib/python3.10/dist-packages (from yfinance) (2022.7.1)\n",
            "Requirement already satisfied: frozendict>=2.3.4 in /usr/local/lib/python3.10/dist-packages (from yfinance) (2.3.7)\n",
            "Requirement already satisfied: cryptography>=3.3.2 in /usr/local/lib/python3.10/dist-packages (from yfinance) (40.0.2)\n",
            "Requirement already satisfied: beautifulsoup4>=4.11.1 in /usr/local/lib/python3.10/dist-packages (from yfinance) (4.11.2)\n",
            "Requirement already satisfied: html5lib>=1.1 in /usr/local/lib/python3.10/dist-packages (from yfinance) (1.1)\n",
            "Requirement already satisfied: soupsieve>1.2 in /usr/local/lib/python3.10/dist-packages (from beautifulsoup4>=4.11.1->yfinance) (2.4.1)\n",
            "Requirement already satisfied: cffi>=1.12 in /usr/local/lib/python3.10/dist-packages (from cryptography>=3.3.2->yfinance) (1.15.1)\n",
            "Requirement already satisfied: six>=1.9 in /usr/local/lib/python3.10/dist-packages (from html5lib>=1.1->yfinance) (1.16.0)\n",
            "Requirement already satisfied: webencodings in /usr/local/lib/python3.10/dist-packages (from html5lib>=1.1->yfinance) (0.5.1)\n",
            "Requirement already satisfied: python-dateutil>=2.8.1 in /usr/local/lib/python3.10/dist-packages (from pandas>=1.3.0->yfinance) (2.8.2)\n",
            "Requirement already satisfied: urllib3<1.27,>=1.21.1 in /usr/local/lib/python3.10/dist-packages (from requests>=2.26->yfinance) (1.26.15)\n",
            "Requirement already satisfied: certifi>=2017.4.17 in /usr/local/lib/python3.10/dist-packages (from requests>=2.26->yfinance) (2022.12.7)\n",
            "Requirement already satisfied: charset-normalizer~=2.0.0 in /usr/local/lib/python3.10/dist-packages (from requests>=2.26->yfinance) (2.0.12)\n",
            "Requirement already satisfied: idna<4,>=2.5 in /usr/local/lib/python3.10/dist-packages (from requests>=2.26->yfinance) (3.4)\n",
            "Requirement already satisfied: pycparser in /usr/local/lib/python3.10/dist-packages (from cffi>=1.12->cryptography>=3.3.2->yfinance) (2.21)\n"
          ]
        }
      ],
      "source": [
        "pip install yfinance --upgrade --no-cache-dir \n"
      ]
    },
    {
      "cell_type": "code",
      "source": [
        "pip install yfinance\n"
      ],
      "metadata": {
        "colab": {
          "base_uri": "https://localhost:8080/"
        },
        "id": "tGQoRpmErOqn",
        "outputId": "080542c3-94e3-4850-c847-b3cb185d88a6"
      },
      "execution_count": 8,
      "outputs": [
        {
          "output_type": "stream",
          "name": "stdout",
          "text": [
            "Looking in indexes: https://pypi.org/simple, https://us-python.pkg.dev/colab-wheels/public/simple/\n",
            "Requirement already satisfied: yfinance in /usr/local/lib/python3.10/dist-packages (0.2.18)\n",
            "Requirement already satisfied: pandas>=1.3.0 in /usr/local/lib/python3.10/dist-packages (from yfinance) (1.5.3)\n",
            "Requirement already satisfied: numpy>=1.16.5 in /usr/local/lib/python3.10/dist-packages (from yfinance) (1.22.4)\n",
            "Requirement already satisfied: requests>=2.26 in /usr/local/lib/python3.10/dist-packages (from yfinance) (2.27.1)\n",
            "Requirement already satisfied: multitasking>=0.0.7 in /usr/local/lib/python3.10/dist-packages (from yfinance) (0.0.11)\n",
            "Requirement already satisfied: lxml>=4.9.1 in /usr/local/lib/python3.10/dist-packages (from yfinance) (4.9.2)\n",
            "Requirement already satisfied: appdirs>=1.4.4 in /usr/local/lib/python3.10/dist-packages (from yfinance) (1.4.4)\n",
            "Requirement already satisfied: pytz>=2022.5 in /usr/local/lib/python3.10/dist-packages (from yfinance) (2022.7.1)\n",
            "Requirement already satisfied: frozendict>=2.3.4 in /usr/local/lib/python3.10/dist-packages (from yfinance) (2.3.7)\n",
            "Requirement already satisfied: cryptography>=3.3.2 in /usr/local/lib/python3.10/dist-packages (from yfinance) (40.0.2)\n",
            "Requirement already satisfied: beautifulsoup4>=4.11.1 in /usr/local/lib/python3.10/dist-packages (from yfinance) (4.11.2)\n",
            "Requirement already satisfied: html5lib>=1.1 in /usr/local/lib/python3.10/dist-packages (from yfinance) (1.1)\n",
            "Requirement already satisfied: soupsieve>1.2 in /usr/local/lib/python3.10/dist-packages (from beautifulsoup4>=4.11.1->yfinance) (2.4.1)\n",
            "Requirement already satisfied: cffi>=1.12 in /usr/local/lib/python3.10/dist-packages (from cryptography>=3.3.2->yfinance) (1.15.1)\n",
            "Requirement already satisfied: six>=1.9 in /usr/local/lib/python3.10/dist-packages (from html5lib>=1.1->yfinance) (1.16.0)\n",
            "Requirement already satisfied: webencodings in /usr/local/lib/python3.10/dist-packages (from html5lib>=1.1->yfinance) (0.5.1)\n",
            "Requirement already satisfied: python-dateutil>=2.8.1 in /usr/local/lib/python3.10/dist-packages (from pandas>=1.3.0->yfinance) (2.8.2)\n",
            "Requirement already satisfied: urllib3<1.27,>=1.21.1 in /usr/local/lib/python3.10/dist-packages (from requests>=2.26->yfinance) (1.26.15)\n",
            "Requirement already satisfied: certifi>=2017.4.17 in /usr/local/lib/python3.10/dist-packages (from requests>=2.26->yfinance) (2022.12.7)\n",
            "Requirement already satisfied: charset-normalizer~=2.0.0 in /usr/local/lib/python3.10/dist-packages (from requests>=2.26->yfinance) (2.0.12)\n",
            "Requirement already satisfied: idna<4,>=2.5 in /usr/local/lib/python3.10/dist-packages (from requests>=2.26->yfinance) (3.4)\n",
            "Requirement already satisfied: pycparser in /usr/local/lib/python3.10/dist-packages (from cffi>=1.12->cryptography>=3.3.2->yfinance) (2.21)\n"
          ]
        }
      ]
    },
    {
      "cell_type": "code",
      "source": [
        "import yfinance as yf\n",
        "df= yf.download('RELIANCE.NS', period='2000d', interval='1d')"
      ],
      "metadata": {
        "colab": {
          "base_uri": "https://localhost:8080/"
        },
        "id": "-Nj7lVLorNjr",
        "outputId": "2360cd04-cdc8-4965-a614-86a576c2f7d7"
      },
      "execution_count": 10,
      "outputs": [
        {
          "output_type": "stream",
          "name": "stdout",
          "text": [
            "\r[*********************100%***********************]  1 of 1 completed\n"
          ]
        }
      ]
    },
    {
      "cell_type": "code",
      "source": [
        "df"
      ],
      "metadata": {
        "colab": {
          "base_uri": "https://localhost:8080/",
          "height": 455
        },
        "id": "ycteT7Srr8oM",
        "outputId": "45936429-058c-41b5-fa21-e539564ff8ea"
      },
      "execution_count": 11,
      "outputs": [
        {
          "output_type": "execute_result",
          "data": {
            "text/plain": [
              "                   Open         High          Low        Close    Adj Close  \\\n",
              "Date                                                                          \n",
              "2015-04-23   437.775330   440.524261   430.444824   434.407257   412.881165   \n",
              "2015-04-24   434.382477   438.072510   430.246704   435.323578   413.752014   \n",
              "2015-04-27   435.893158   439.583191   431.633545   433.540466   412.057312   \n",
              "2015-04-28   433.243286   436.859009   425.244110   428.537903   407.302612   \n",
              "2015-04-29   426.952911   431.187775   419.721466   421.009247   400.147034   \n",
              "...                 ...          ...          ...          ...          ...   \n",
              "2023-05-22  2435.000000  2466.000000  2432.350098  2455.000000  2455.000000   \n",
              "2023-05-23  2460.649902  2468.000000  2451.449951  2454.550049  2454.550049   \n",
              "2023-05-24  2445.899902  2464.000000  2433.449951  2440.250000  2440.250000   \n",
              "2023-05-25  2433.899902  2449.000000  2416.050049  2439.949951  2439.949951   \n",
              "2023-05-26  2458.000000  2509.000000  2450.750000  2506.500000  2506.500000   \n",
              "\n",
              "             Volume  \n",
              "Date                 \n",
              "2015-04-23  6155401  \n",
              "2015-04-24  5865595  \n",
              "2015-04-27  5096308  \n",
              "2015-04-28  6778219  \n",
              "2015-04-29  7563040  \n",
              "...             ...  \n",
              "2023-05-22  3431208  \n",
              "2023-05-23  2811473  \n",
              "2023-05-24  3743804  \n",
              "2023-05-25  5301647  \n",
              "2023-05-26  5827017  \n",
              "\n",
              "[2000 rows x 6 columns]"
            ],
            "text/html": [
              "\n",
              "  <div id=\"df-279d20a5-5784-4329-b5cb-22622e2fbb38\">\n",
              "    <div class=\"colab-df-container\">\n",
              "      <div>\n",
              "<style scoped>\n",
              "    .dataframe tbody tr th:only-of-type {\n",
              "        vertical-align: middle;\n",
              "    }\n",
              "\n",
              "    .dataframe tbody tr th {\n",
              "        vertical-align: top;\n",
              "    }\n",
              "\n",
              "    .dataframe thead th {\n",
              "        text-align: right;\n",
              "    }\n",
              "</style>\n",
              "<table border=\"1\" class=\"dataframe\">\n",
              "  <thead>\n",
              "    <tr style=\"text-align: right;\">\n",
              "      <th></th>\n",
              "      <th>Open</th>\n",
              "      <th>High</th>\n",
              "      <th>Low</th>\n",
              "      <th>Close</th>\n",
              "      <th>Adj Close</th>\n",
              "      <th>Volume</th>\n",
              "    </tr>\n",
              "    <tr>\n",
              "      <th>Date</th>\n",
              "      <th></th>\n",
              "      <th></th>\n",
              "      <th></th>\n",
              "      <th></th>\n",
              "      <th></th>\n",
              "      <th></th>\n",
              "    </tr>\n",
              "  </thead>\n",
              "  <tbody>\n",
              "    <tr>\n",
              "      <th>2015-04-23</th>\n",
              "      <td>437.775330</td>\n",
              "      <td>440.524261</td>\n",
              "      <td>430.444824</td>\n",
              "      <td>434.407257</td>\n",
              "      <td>412.881165</td>\n",
              "      <td>6155401</td>\n",
              "    </tr>\n",
              "    <tr>\n",
              "      <th>2015-04-24</th>\n",
              "      <td>434.382477</td>\n",
              "      <td>438.072510</td>\n",
              "      <td>430.246704</td>\n",
              "      <td>435.323578</td>\n",
              "      <td>413.752014</td>\n",
              "      <td>5865595</td>\n",
              "    </tr>\n",
              "    <tr>\n",
              "      <th>2015-04-27</th>\n",
              "      <td>435.893158</td>\n",
              "      <td>439.583191</td>\n",
              "      <td>431.633545</td>\n",
              "      <td>433.540466</td>\n",
              "      <td>412.057312</td>\n",
              "      <td>5096308</td>\n",
              "    </tr>\n",
              "    <tr>\n",
              "      <th>2015-04-28</th>\n",
              "      <td>433.243286</td>\n",
              "      <td>436.859009</td>\n",
              "      <td>425.244110</td>\n",
              "      <td>428.537903</td>\n",
              "      <td>407.302612</td>\n",
              "      <td>6778219</td>\n",
              "    </tr>\n",
              "    <tr>\n",
              "      <th>2015-04-29</th>\n",
              "      <td>426.952911</td>\n",
              "      <td>431.187775</td>\n",
              "      <td>419.721466</td>\n",
              "      <td>421.009247</td>\n",
              "      <td>400.147034</td>\n",
              "      <td>7563040</td>\n",
              "    </tr>\n",
              "    <tr>\n",
              "      <th>...</th>\n",
              "      <td>...</td>\n",
              "      <td>...</td>\n",
              "      <td>...</td>\n",
              "      <td>...</td>\n",
              "      <td>...</td>\n",
              "      <td>...</td>\n",
              "    </tr>\n",
              "    <tr>\n",
              "      <th>2023-05-22</th>\n",
              "      <td>2435.000000</td>\n",
              "      <td>2466.000000</td>\n",
              "      <td>2432.350098</td>\n",
              "      <td>2455.000000</td>\n",
              "      <td>2455.000000</td>\n",
              "      <td>3431208</td>\n",
              "    </tr>\n",
              "    <tr>\n",
              "      <th>2023-05-23</th>\n",
              "      <td>2460.649902</td>\n",
              "      <td>2468.000000</td>\n",
              "      <td>2451.449951</td>\n",
              "      <td>2454.550049</td>\n",
              "      <td>2454.550049</td>\n",
              "      <td>2811473</td>\n",
              "    </tr>\n",
              "    <tr>\n",
              "      <th>2023-05-24</th>\n",
              "      <td>2445.899902</td>\n",
              "      <td>2464.000000</td>\n",
              "      <td>2433.449951</td>\n",
              "      <td>2440.250000</td>\n",
              "      <td>2440.250000</td>\n",
              "      <td>3743804</td>\n",
              "    </tr>\n",
              "    <tr>\n",
              "      <th>2023-05-25</th>\n",
              "      <td>2433.899902</td>\n",
              "      <td>2449.000000</td>\n",
              "      <td>2416.050049</td>\n",
              "      <td>2439.949951</td>\n",
              "      <td>2439.949951</td>\n",
              "      <td>5301647</td>\n",
              "    </tr>\n",
              "    <tr>\n",
              "      <th>2023-05-26</th>\n",
              "      <td>2458.000000</td>\n",
              "      <td>2509.000000</td>\n",
              "      <td>2450.750000</td>\n",
              "      <td>2506.500000</td>\n",
              "      <td>2506.500000</td>\n",
              "      <td>5827017</td>\n",
              "    </tr>\n",
              "  </tbody>\n",
              "</table>\n",
              "<p>2000 rows × 6 columns</p>\n",
              "</div>\n",
              "      <button class=\"colab-df-convert\" onclick=\"convertToInteractive('df-279d20a5-5784-4329-b5cb-22622e2fbb38')\"\n",
              "              title=\"Convert this dataframe to an interactive table.\"\n",
              "              style=\"display:none;\">\n",
              "        \n",
              "  <svg xmlns=\"http://www.w3.org/2000/svg\" height=\"24px\"viewBox=\"0 0 24 24\"\n",
              "       width=\"24px\">\n",
              "    <path d=\"M0 0h24v24H0V0z\" fill=\"none\"/>\n",
              "    <path d=\"M18.56 5.44l.94 2.06.94-2.06 2.06-.94-2.06-.94-.94-2.06-.94 2.06-2.06.94zm-11 1L8.5 8.5l.94-2.06 2.06-.94-2.06-.94L8.5 2.5l-.94 2.06-2.06.94zm10 10l.94 2.06.94-2.06 2.06-.94-2.06-.94-.94-2.06-.94 2.06-2.06.94z\"/><path d=\"M17.41 7.96l-1.37-1.37c-.4-.4-.92-.59-1.43-.59-.52 0-1.04.2-1.43.59L10.3 9.45l-7.72 7.72c-.78.78-.78 2.05 0 2.83L4 21.41c.39.39.9.59 1.41.59.51 0 1.02-.2 1.41-.59l7.78-7.78 2.81-2.81c.8-.78.8-2.07 0-2.86zM5.41 20L4 18.59l7.72-7.72 1.47 1.35L5.41 20z\"/>\n",
              "  </svg>\n",
              "      </button>\n",
              "      \n",
              "  <style>\n",
              "    .colab-df-container {\n",
              "      display:flex;\n",
              "      flex-wrap:wrap;\n",
              "      gap: 12px;\n",
              "    }\n",
              "\n",
              "    .colab-df-convert {\n",
              "      background-color: #E8F0FE;\n",
              "      border: none;\n",
              "      border-radius: 50%;\n",
              "      cursor: pointer;\n",
              "      display: none;\n",
              "      fill: #1967D2;\n",
              "      height: 32px;\n",
              "      padding: 0 0 0 0;\n",
              "      width: 32px;\n",
              "    }\n",
              "\n",
              "    .colab-df-convert:hover {\n",
              "      background-color: #E2EBFA;\n",
              "      box-shadow: 0px 1px 2px rgba(60, 64, 67, 0.3), 0px 1px 3px 1px rgba(60, 64, 67, 0.15);\n",
              "      fill: #174EA6;\n",
              "    }\n",
              "\n",
              "    [theme=dark] .colab-df-convert {\n",
              "      background-color: #3B4455;\n",
              "      fill: #D2E3FC;\n",
              "    }\n",
              "\n",
              "    [theme=dark] .colab-df-convert:hover {\n",
              "      background-color: #434B5C;\n",
              "      box-shadow: 0px 1px 3px 1px rgba(0, 0, 0, 0.15);\n",
              "      filter: drop-shadow(0px 1px 2px rgba(0, 0, 0, 0.3));\n",
              "      fill: #FFFFFF;\n",
              "    }\n",
              "  </style>\n",
              "\n",
              "      <script>\n",
              "        const buttonEl =\n",
              "          document.querySelector('#df-279d20a5-5784-4329-b5cb-22622e2fbb38 button.colab-df-convert');\n",
              "        buttonEl.style.display =\n",
              "          google.colab.kernel.accessAllowed ? 'block' : 'none';\n",
              "\n",
              "        async function convertToInteractive(key) {\n",
              "          const element = document.querySelector('#df-279d20a5-5784-4329-b5cb-22622e2fbb38');\n",
              "          const dataTable =\n",
              "            await google.colab.kernel.invokeFunction('convertToInteractive',\n",
              "                                                     [key], {});\n",
              "          if (!dataTable) return;\n",
              "\n",
              "          const docLinkHtml = 'Like what you see? Visit the ' +\n",
              "            '<a target=\"_blank\" href=https://colab.research.google.com/notebooks/data_table.ipynb>data table notebook</a>'\n",
              "            + ' to learn more about interactive tables.';\n",
              "          element.innerHTML = '';\n",
              "          dataTable['output_type'] = 'display_data';\n",
              "          await google.colab.output.renderOutput(dataTable, element);\n",
              "          const docLink = document.createElement('div');\n",
              "          docLink.innerHTML = docLinkHtml;\n",
              "          element.appendChild(docLink);\n",
              "        }\n",
              "      </script>\n",
              "    </div>\n",
              "  </div>\n",
              "  "
            ]
          },
          "metadata": {},
          "execution_count": 11
        }
      ]
    },
    {
      "cell_type": "code",
      "source": [
        "df1=df.reset_index().Close"
      ],
      "metadata": {
        "id": "0Eb-TjLdr8qt"
      },
      "execution_count": 12,
      "outputs": []
    },
    {
      "cell_type": "code",
      "source": [
        "import matplotlib.pyplot as plt\n",
        "plt.plot(df1)"
      ],
      "metadata": {
        "colab": {
          "base_uri": "https://localhost:8080/",
          "height": 447
        },
        "id": "8yIIhmsir8tJ",
        "outputId": "bdf42568-2123-4429-812f-43ac9130b5f6"
      },
      "execution_count": 13,
      "outputs": [
        {
          "output_type": "execute_result",
          "data": {
            "text/plain": [
              "[<matplotlib.lines.Line2D at 0x7f03d5c4acb0>]"
            ]
          },
          "metadata": {},
          "execution_count": 13
        },
        {
          "output_type": "display_data",
          "data": {
            "text/plain": [
              "<Figure size 640x480 with 1 Axes>"
            ],
            "image/png": "[encoded data removed]"
          },
          "metadata": {}
        }
      ]
    },
    {
      "cell_type": "code",
      "source": [
        "df1.shape"
      ],
      "metadata": {
        "colab": {
          "base_uri": "https://localhost:8080/"
        },
        "id": "fwxUM_Qir8vf",
        "outputId": "348e7422-5971-4405-c82e-3d303db45ebe"
      },
      "execution_count": 14,
      "outputs": [
        {
          "output_type": "execute_result",
          "data": {
            "text/plain": [
              "(2000,)"
            ]
          },
          "metadata": {},
          "execution_count": 14
        }
      ]
    },
    {
      "cell_type": "code",
      "source": [
        "import numpy as np\n",
        "from sklearn.preprocessing import MinMaxScaler #LSTM sensitive to scale of data\n",
        "scaler= MinMaxScaler(feature_range=(0.25,0.75))\n",
        "df1= scaler.fit_transform(np.array(df1).reshape(-1,1))"
      ],
      "metadata": {
        "id": "u_zTGtzrr8zA"
      },
      "execution_count": 15,
      "outputs": []
    },
    {
      "cell_type": "code",
      "source": [
        "df1.shape\n"
      ],
      "metadata": {
        "colab": {
          "base_uri": "https://localhost:8080/"
        },
        "id": "wOAP70iWsGvG",
        "outputId": "f802a1df-e473-4f1d-a90f-120a7cf700bd"
      },
      "execution_count": 18,
      "outputs": [
        {
          "output_type": "execute_result",
          "data": {
            "text/plain": [
              "(2000, 1)"
            ]
          },
          "metadata": {},
          "execution_count": 18
        }
      ]
    },
    {
      "cell_type": "code",
      "source": [
        "training_size= int(len(df1)*0.65)\n",
        "test_size=len(df)-training_size\n",
        "train_data, test_data= df1[0:training_size,:], df1[training_size:len(df1),:]"
      ],
      "metadata": {
        "id": "unGLP1eKsGxj"
      },
      "execution_count": 19,
      "outputs": []
    },
    {
      "cell_type": "code",
      "source": [
        "import numpy\n",
        "def create_dataset(dataset, time_step=1):\n",
        "\tdataX, dataY = [], []\n",
        "\tfor i in range(len(dataset)-time_step-1):\n",
        "\t\ta = dataset[i:(i+time_step), 0]   ###i=0, 0,1,2,3-----99   100 \n",
        "\t\tdataX.append(a)\n",
        "\t\tdataY.append(dataset[i + time_step, 0])\n",
        "\treturn numpy.array(dataX), numpy.array(dataY)"
      ],
      "metadata": {
        "id": "TFwnQYyNsG0N"
      },
      "execution_count": 20,
      "outputs": []
    },
    {
      "cell_type": "code",
      "source": [
        "time_step = 100\n",
        "X_train, y_train = create_dataset(train_data, time_step)\n",
        "X_test, ytest = create_dataset(test_data, time_step)"
      ],
      "metadata": {
        "id": "X1WRcsOqsG2l"
      },
      "execution_count": 21,
      "outputs": []
    },
    {
      "cell_type": "code",
      "source": [
        "X_train.shape, y_train.shape"
      ],
      "metadata": {
        "colab": {
          "base_uri": "https://localhost:8080/"
        },
        "id": "f1pVbvvrsG6K",
        "outputId": "32f65bd1-0410-4c77-9728-334ae0b18e48"
      },
      "execution_count": 22,
      "outputs": [
        {
          "output_type": "execute_result",
          "data": {
            "text/plain": [
              "((1199, 100), (1199,))"
            ]
          },
          "metadata": {},
          "execution_count": 22
        }
      ]
    },
    {
      "cell_type": "code",
      "source": [
        "X_test.shape"
      ],
      "metadata": {
        "colab": {
          "base_uri": "https://localhost:8080/"
        },
        "id": "pkD7MT39sa5b",
        "outputId": "117714d9-c3d1-439f-8372-30d402f75382"
      },
      "execution_count": 23,
      "outputs": [
        {
          "output_type": "execute_result",
          "data": {
            "text/plain": [
              "(599, 100)"
            ]
          },
          "metadata": {},
          "execution_count": 23
        }
      ]
    },
    {
      "cell_type": "code",
      "source": [
        "X_train"
      ],
      "metadata": {
        "colab": {
          "base_uri": "https://localhost:8080/"
        },
        "id": "sPVkMQi7sa8G",
        "outputId": "895d8ea0-005c-4044-f9a1-651c653c53cc"
      },
      "execution_count": 24,
      "outputs": [
        {
          "output_type": "execute_result",
          "data": {
            "text/plain": [
              "array([[0.2548832 , 0.25507339, 0.25470329, ..., 0.25195842, 0.25457479,\n",
              "        0.25385002],\n",
              "       [0.25507339, 0.25470329, 0.25366497, ..., 0.25457479, 0.25385002,\n",
              "        0.25322805],\n",
              "       [0.25470329, 0.25366497, 0.25210234, ..., 0.25385002, 0.25322805,\n",
              "        0.25352619],\n",
              "       ...,\n",
              "       [0.43790058, 0.43533049, 0.44082022, ..., 0.59183072, 0.6101684 ,\n",
              "        0.61225437],\n",
              "       [0.43533049, 0.44082022, 0.44017257, ..., 0.6101684 , 0.61225437,\n",
              "        0.61671686],\n",
              "       [0.44082022, 0.44017257, 0.43430243, ..., 0.61225437, 0.61671686,\n",
              "        0.5998943 ]])"
            ]
          },
          "metadata": {},
          "execution_count": 24
        }
      ]
    },
    {
      "cell_type": "code",
      "source": [
        "X_train =X_train.reshape(X_train.shape[0],X_train.shape[1] , 1)\n",
        "X_test = X_test.reshape(X_test.shape[0],X_test.shape[1] , 1)\n",
        "#For LSTM"
      ],
      "metadata": {
        "id": "giIOvXiGsa-0"
      },
      "execution_count": 25,
      "outputs": []
    },
    {
      "cell_type": "code",
      "source": [
        "!pip install tensorflow\n",
        "\n",
        "from tensorflow.keras.models import Sequential\n",
        "from tensorflow.keras.layers import Dense\n",
        "from tensorflow.keras.layers import LSTM"
      ],
      "metadata": {
        "colab": {
          "base_uri": "https://localhost:8080/"
        },
        "id": "LVhyO-WBsbBR",
        "outputId": "309f0dd5-e02b-4068-d21c-a125a2dca3c3"
      },
      "execution_count": 26,
      "outputs": [
        {
          "output_type": "stream",
          "name": "stdout",
          "text": [
            "Looking in indexes: https://pypi.org/simple, https://us-python.pkg.dev/colab-wheels/public/simple/\n",
            "Requirement already satisfied: tensorflow in /usr/local/lib/python3.10/dist-packages (2.12.0)\n",
            "Requirement already satisfied: absl-py>=1.0.0 in /usr/local/lib/python3.10/dist-packages (from tensorflow) (1.4.0)\n",
            "Requirement already satisfied: astunparse>=1.6.0 in /usr/local/lib/python3.10/dist-packages (from tensorflow) (1.6.3)\n",
            "Requirement already satisfied: flatbuffers>=2.0 in /usr/local/lib/python3.10/dist-packages (from tensorflow) (23.3.3)\n",
            "Requirement already satisfied: gast<=0.4.0,>=0.2.1 in /usr/local/lib/python3.10/dist-packages (from tensorflow) (0.4.0)\n",
            "Requirement already satisfied: google-pasta>=0.1.1 in /usr/local/lib/python3.10/dist-packages (from tensorflow) (0.2.0)\n",
            "Requirement already satisfied: grpcio<2.0,>=1.24.3 in /usr/local/lib/python3.10/dist-packages (from tensorflow) (1.54.0)\n",
            "Requirement already satisfied: h5py>=2.9.0 in /usr/local/lib/python3.10/dist-packages (from tensorflow) (3.8.0)\n",
            "Requirement already satisfied: jax>=0.3.15 in /usr/local/lib/python3.10/dist-packages (from tensorflow) (0.4.10)\n",
            "Requirement already satisfied: keras<2.13,>=2.12.0 in /usr/local/lib/python3.10/dist-packages (from tensorflow) (2.12.0)\n",
            "Requirement already satisfied: libclang>=13.0.0 in /usr/local/lib/python3.10/dist-packages (from tensorflow) (16.0.0)\n",
            "Requirement already satisfied: numpy<1.24,>=1.22 in /usr/local/lib/python3.10/dist-packages (from tensorflow) (1.22.4)\n",
            "Requirement already satisfied: opt-einsum>=2.3.2 in /usr/local/lib/python3.10/dist-packages (from tensorflow) (3.3.0)\n",
            "Requirement already satisfied: packaging in /usr/local/lib/python3.10/dist-packages (from tensorflow) (23.1)\n",
            "Requirement already satisfied: protobuf!=4.21.0,!=4.21.1,!=4.21.2,!=4.21.3,!=4.21.4,!=4.21.5,<5.0.0dev,>=3.20.3 in /usr/local/lib/python3.10/dist-packages (from tensorflow) (3.20.3)\n",
            "Requirement already satisfied: setuptools in /usr/local/lib/python3.10/dist-packages (from tensorflow) (67.7.2)\n",
            "Requirement already satisfied: six>=1.12.0 in /usr/local/lib/python3.10/dist-packages (from tensorflow) (1.16.0)\n",
            "Requirement already satisfied: tensorboard<2.13,>=2.12 in /usr/local/lib/python3.10/dist-packages (from tensorflow) (2.12.2)\n",
            "Requirement already satisfied: tensorflow-estimator<2.13,>=2.12.0 in /usr/local/lib/python3.10/dist-packages (from tensorflow) (2.12.0)\n",
            "Requirement already satisfied: termcolor>=1.1.0 in /usr/local/lib/python3.10/dist-packages (from tensorflow) (2.3.0)\n",
            "Requirement already satisfied: typing-extensions>=3.6.6 in /usr/local/lib/python3.10/dist-packages (from tensorflow) (4.5.0)\n",
            "Requirement already satisfied: wrapt<1.15,>=1.11.0 in /usr/local/lib/python3.10/dist-packages (from tensorflow) (1.14.1)\n",
            "Requirement already satisfied: tensorflow-io-gcs-filesystem>=0.23.1 in /usr/local/lib/python3.10/dist-packages (from tensorflow) (0.32.0)\n",
            "Requirement already satisfied: wheel<1.0,>=0.23.0 in /usr/local/lib/python3.10/dist-packages (from astunparse>=1.6.0->tensorflow) (0.40.0)\n",
            "Requirement already satisfied: ml-dtypes>=0.1.0 in /usr/local/lib/python3.10/dist-packages (from jax>=0.3.15->tensorflow) (0.1.0)\n",
            "Requirement already satisfied: scipy>=1.7 in /usr/local/lib/python3.10/dist-packages (from jax>=0.3.15->tensorflow) (1.10.1)\n",
            "Requirement already satisfied: google-auth<3,>=1.6.3 in /usr/local/lib/python3.10/dist-packages (from tensorboard<2.13,>=2.12->tensorflow) (2.17.3)\n",
            "Requirement already satisfied: google-auth-oauthlib<1.1,>=0.5 in /usr/local/lib/python3.10/dist-packages (from tensorboard<2.13,>=2.12->tensorflow) (1.0.0)\n",
            "Requirement already satisfied: markdown>=2.6.8 in /usr/local/lib/python3.10/dist-packages (from tensorboard<2.13,>=2.12->tensorflow) (3.4.3)\n",
            "Requirement already satisfied: requests<3,>=2.21.0 in /usr/local/lib/python3.10/dist-packages (from tensorboard<2.13,>=2.12->tensorflow) (2.27.1)\n",
            "Requirement already satisfied: tensorboard-data-server<0.8.0,>=0.7.0 in /usr/local/lib/python3.10/dist-packages (from tensorboard<2.13,>=2.12->tensorflow) (0.7.0)\n",
            "Requirement already satisfied: tensorboard-plugin-wit>=1.6.0 in /usr/local/lib/python3.10/dist-packages (from tensorboard<2.13,>=2.12->tensorflow) (1.8.1)\n",
            "Requirement already satisfied: werkzeug>=1.0.1 in /usr/local/lib/python3.10/dist-packages (from tensorboard<2.13,>=2.12->tensorflow) (2.3.0)\n",
            "Requirement already satisfied: cachetools<6.0,>=2.0.0 in /usr/local/lib/python3.10/dist-packages (from google-auth<3,>=1.6.3->tensorboard<2.13,>=2.12->tensorflow) (5.3.0)\n",
            "Requirement already satisfied: pyasn1-modules>=0.2.1 in /usr/local/lib/python3.10/dist-packages (from google-auth<3,>=1.6.3->tensorboard<2.13,>=2.12->tensorflow) (0.3.0)\n",
            "Requirement already satisfied: rsa<5,>=3.1.4 in /usr/local/lib/python3.10/dist-packages (from google-auth<3,>=1.6.3->tensorboard<2.13,>=2.12->tensorflow) (4.9)\n",
            "Requirement already satisfied: requests-oauthlib>=0.7.0 in /usr/local/lib/python3.10/dist-packages (from google-auth-oauthlib<1.1,>=0.5->tensorboard<2.13,>=2.12->tensorflow) (1.3.1)\n",
            "Requirement already satisfied: urllib3<1.27,>=1.21.1 in /usr/local/lib/python3.10/dist-packages (from requests<3,>=2.21.0->tensorboard<2.13,>=2.12->tensorflow) (1.26.15)\n",
            "Requirement already satisfied: certifi>=2017.4.17 in /usr/local/lib/python3.10/dist-packages (from requests<3,>=2.21.0->tensorboard<2.13,>=2.12->tensorflow) (2022.12.7)\n",
            "Requirement already satisfied: charset-normalizer~=2.0.0 in /usr/local/lib/python3.10/dist-packages (from requests<3,>=2.21.0->tensorboard<2.13,>=2.12->tensorflow) (2.0.12)\n",
            "Requirement already satisfied: idna<4,>=2.5 in /usr/local/lib/python3.10/dist-packages (from requests<3,>=2.21.0->tensorboard<2.13,>=2.12->tensorflow) (3.4)\n",
            "Requirement already satisfied: MarkupSafe>=2.1.1 in /usr/local/lib/python3.10/dist-packages (from werkzeug>=1.0.1->tensorboard<2.13,>=2.12->tensorflow) (2.1.2)\n",
            "Requirement already satisfied: pyasn1<0.6.0,>=0.4.6 in /usr/local/lib/python3.10/dist-packages (from pyasn1-modules>=0.2.1->google-auth<3,>=1.6.3->tensorboard<2.13,>=2.12->tensorflow) (0.5.0)\n",
            "Requirement already satisfied: oauthlib>=3.0.0 in /usr/local/lib/python3.10/dist-packages (from requests-oauthlib>=0.7.0->google-auth-oauthlib<1.1,>=0.5->tensorboard<2.13,>=2.12->tensorflow) (3.2.2)\n"
          ]
        }
      ]
    },
    {
      "cell_type": "code",
      "source": [
        "model=Sequential()\n",
        "model.add(LSTM(50,return_sequences=True,input_shape=(100,1)))\n",
        "model.add(LSTM(50,return_sequences=True))\n",
        "model.add(LSTM(50))\n",
        "model.add(Dense(1))\n",
        "model.compile(loss='mean_squared_error',optimizer='adam')"
      ],
      "metadata": {
        "id": "rgTUCGR8sjoB"
      },
      "execution_count": 27,
      "outputs": []
    },
    {
      "cell_type": "code",
      "source": [
        "model.fit(X_train,y_train,validation_data=(X_test,ytest),epochs=100,batch_size=64,verbose=1)"
      ],
      "metadata": {
        "colab": {
          "base_uri": "https://localhost:8080/"
        },
        "id": "UJo9246Xsjqk",
        "outputId": "18dcbc69-260d-4907-96b1-617eebee3f3d"
      },
      "execution_count": 28,
      "outputs": [
        {
          "output_type": "stream",
          "name": "stdout",
          "text": [
            "Epoch 1/100\n",
            "19/19 [==============================] - 18s 393ms/step - loss: 0.0239 - val_loss: 0.0233\n",
            "Epoch 2/100\n",
            "19/19 [==============================] - 4s 224ms/step - loss: 0.0020 - val_loss: 0.0149\n",
            "Epoch 3/100\n",
            "19/19 [==============================] - 5s 261ms/step - loss: 0.0011 - val_loss: 0.0075\n",
            "Epoch 4/100\n",
            "19/19 [==============================] - 5s 249ms/step - loss: 6.4954e-04 - val_loss: 0.0032\n",
            "Epoch 5/100\n",
            "19/19 [==============================] - 4s 224ms/step - loss: 3.5542e-04 - val_loss: 0.0012\n",
            "Epoch 6/100\n",
            "19/19 [==============================] - 7s 392ms/step - loss: 2.2674e-04 - val_loss: 4.7339e-04\n",
            "Epoch 7/100\n",
            "19/19 [==============================] - 7s 354ms/step - loss: 1.9340e-04 - val_loss: 7.3150e-04\n",
            "Epoch 8/100\n",
            "19/19 [==============================] - 6s 335ms/step - loss: 1.9004e-04 - val_loss: 6.1398e-04\n",
            "Epoch 9/100\n",
            "19/19 [==============================] - 5s 263ms/step - loss: 1.8746e-04 - val_loss: 6.6796e-04\n",
            "Epoch 10/100\n",
            "19/19 [==============================] - 5s 261ms/step - loss: 1.8948e-04 - val_loss: 4.8971e-04\n",
            "Epoch 11/100\n",
            "19/19 [==============================] - 5s 265ms/step - loss: 1.9406e-04 - val_loss: 4.9995e-04\n",
            "Epoch 12/100\n",
            "19/19 [==============================] - 5s 256ms/step - loss: 1.8933e-04 - val_loss: 6.4567e-04\n",
            "Epoch 13/100\n",
            "19/19 [==============================] - 6s 299ms/step - loss: 1.8590e-04 - val_loss: 8.2666e-04\n",
            "Epoch 14/100\n",
            "19/19 [==============================] - 4s 225ms/step - loss: 1.8428e-04 - val_loss: 9.5866e-04\n",
            "Epoch 15/100\n",
            "19/19 [==============================] - 5s 257ms/step - loss: 1.7840e-04 - val_loss: 4.6610e-04\n",
            "Epoch 16/100\n",
            "19/19 [==============================] - 5s 287ms/step - loss: 1.8336e-04 - val_loss: 6.3116e-04\n",
            "Epoch 17/100\n",
            "19/19 [==============================] - 5s 276ms/step - loss: 1.7180e-04 - val_loss: 6.0072e-04\n",
            "Epoch 18/100\n",
            "19/19 [==============================] - 7s 395ms/step - loss: 1.8233e-04 - val_loss: 7.9650e-04\n",
            "Epoch 19/100\n",
            "19/19 [==============================] - 7s 342ms/step - loss: 1.7167e-04 - val_loss: 6.0070e-04\n",
            "Epoch 20/100\n",
            "19/19 [==============================] - 5s 293ms/step - loss: 1.6625e-04 - val_loss: 5.4084e-04\n",
            "Epoch 21/100\n",
            "19/19 [==============================] - 6s 315ms/step - loss: 1.7772e-04 - val_loss: 7.3570e-04\n",
            "Epoch 22/100\n",
            "19/19 [==============================] - 5s 277ms/step - loss: 1.6523e-04 - val_loss: 4.7212e-04\n",
            "Epoch 23/100\n",
            "19/19 [==============================] - 5s 260ms/step - loss: 1.6056e-04 - val_loss: 4.6687e-04\n",
            "Epoch 24/100\n",
            "19/19 [==============================] - 4s 231ms/step - loss: 1.6594e-04 - val_loss: 5.9858e-04\n",
            "Epoch 25/100\n",
            "19/19 [==============================] - 6s 296ms/step - loss: 1.6652e-04 - val_loss: 5.6485e-04\n",
            "Epoch 26/100\n",
            "19/19 [==============================] - 4s 225ms/step - loss: 1.5685e-04 - val_loss: 8.8206e-04\n",
            "Epoch 27/100\n",
            "19/19 [==============================] - 4s 227ms/step - loss: 1.6977e-04 - val_loss: 5.7927e-04\n",
            "Epoch 28/100\n",
            "19/19 [==============================] - 6s 298ms/step - loss: 1.9732e-04 - val_loss: 5.0722e-04\n",
            "Epoch 29/100\n",
            "19/19 [==============================] - 4s 231ms/step - loss: 1.8032e-04 - val_loss: 4.1825e-04\n",
            "Epoch 30/100\n",
            "19/19 [==============================] - 5s 272ms/step - loss: 1.8314e-04 - val_loss: 5.0559e-04\n",
            "Epoch 31/100\n",
            "19/19 [==============================] - 5s 254ms/step - loss: 1.4825e-04 - val_loss: 6.8279e-04\n",
            "Epoch 32/100\n",
            "19/19 [==============================] - 6s 290ms/step - loss: 1.4994e-04 - val_loss: 6.9413e-04\n",
            "Epoch 33/100\n",
            "19/19 [==============================] - 6s 306ms/step - loss: 1.4506e-04 - val_loss: 7.2809e-04\n",
            "Epoch 34/100\n",
            "19/19 [==============================] - 4s 222ms/step - loss: 1.4565e-04 - val_loss: 5.3012e-04\n",
            "Epoch 35/100\n",
            "19/19 [==============================] - 4s 231ms/step - loss: 1.4741e-04 - val_loss: 4.0575e-04\n",
            "Epoch 36/100\n",
            "19/19 [==============================] - 5s 275ms/step - loss: 1.4325e-04 - val_loss: 4.7466e-04\n",
            "Epoch 37/100\n",
            "19/19 [==============================] - 4s 228ms/step - loss: 1.4952e-04 - val_loss: 8.0250e-04\n",
            "Epoch 38/100\n",
            "19/19 [==============================] - 5s 263ms/step - loss: 1.4561e-04 - val_loss: 7.1160e-04\n",
            "Epoch 39/100\n",
            "19/19 [==============================] - 5s 242ms/step - loss: 1.4051e-04 - val_loss: 6.0227e-04\n",
            "Epoch 40/100\n",
            "19/19 [==============================] - 5s 245ms/step - loss: 1.3039e-04 - val_loss: 4.7914e-04\n",
            "Epoch 41/100\n",
            "19/19 [==============================] - 5s 295ms/step - loss: 1.4992e-04 - val_loss: 5.8033e-04\n",
            "Epoch 42/100\n",
            "19/19 [==============================] - 4s 223ms/step - loss: 1.5698e-04 - val_loss: 5.5128e-04\n",
            "Epoch 43/100\n",
            "19/19 [==============================] - 4s 226ms/step - loss: 1.2473e-04 - val_loss: 4.1985e-04\n",
            "Epoch 44/100\n",
            "19/19 [==============================] - 6s 296ms/step - loss: 1.2703e-04 - val_loss: 7.2538e-04\n",
            "Epoch 45/100\n",
            "19/19 [==============================] - 4s 225ms/step - loss: 1.2357e-04 - val_loss: 4.1172e-04\n",
            "Epoch 46/100\n",
            "19/19 [==============================] - 5s 263ms/step - loss: 1.1730e-04 - val_loss: 3.3732e-04\n",
            "Epoch 47/100\n",
            "19/19 [==============================] - 5s 254ms/step - loss: 1.2528e-04 - val_loss: 3.9267e-04\n",
            "Epoch 48/100\n",
            "19/19 [==============================] - 6s 318ms/step - loss: 1.2202e-04 - val_loss: 8.9215e-04\n",
            "Epoch 49/100\n",
            "19/19 [==============================] - 6s 297ms/step - loss: 1.5672e-04 - val_loss: 3.8143e-04\n",
            "Epoch 50/100\n",
            "19/19 [==============================] - 4s 223ms/step - loss: 1.1791e-04 - val_loss: 4.3172e-04\n",
            "Epoch 51/100\n",
            "19/19 [==============================] - 5s 262ms/step - loss: 1.5187e-04 - val_loss: 4.4574e-04\n",
            "Epoch 52/100\n",
            "19/19 [==============================] - 5s 254ms/step - loss: 1.1962e-04 - val_loss: 4.9860e-04\n",
            "Epoch 53/100\n",
            "19/19 [==============================] - 4s 223ms/step - loss: 1.1263e-04 - val_loss: 3.6741e-04\n",
            "Epoch 54/100\n",
            "19/19 [==============================] - 6s 313ms/step - loss: 1.1123e-04 - val_loss: 3.7078e-04\n",
            "Epoch 55/100\n",
            "19/19 [==============================] - 4s 227ms/step - loss: 1.2281e-04 - val_loss: 3.1617e-04\n",
            "Epoch 56/100\n",
            "19/19 [==============================] - 4s 230ms/step - loss: 1.1649e-04 - val_loss: 5.3577e-04\n",
            "Epoch 57/100\n",
            "19/19 [==============================] - 6s 295ms/step - loss: 1.1652e-04 - val_loss: 3.1511e-04\n",
            "Epoch 58/100\n",
            "19/19 [==============================] - 4s 224ms/step - loss: 1.1698e-04 - val_loss: 3.5869e-04\n",
            "Epoch 59/100\n",
            "19/19 [==============================] - 4s 233ms/step - loss: 1.1144e-04 - val_loss: 6.1805e-04\n",
            "Epoch 60/100\n",
            "19/19 [==============================] - 5s 284ms/step - loss: 1.6304e-04 - val_loss: 3.2985e-04\n",
            "Epoch 61/100\n",
            "19/19 [==============================] - 4s 224ms/step - loss: 1.2681e-04 - val_loss: 3.7993e-04\n",
            "Epoch 62/100\n",
            "19/19 [==============================] - 5s 289ms/step - loss: 1.0925e-04 - val_loss: 3.4878e-04\n",
            "Epoch 63/100\n",
            "19/19 [==============================] - 5s 237ms/step - loss: 1.1243e-04 - val_loss: 3.1535e-04\n",
            "Epoch 64/100\n",
            "19/19 [==============================] - 4s 227ms/step - loss: 9.6471e-05 - val_loss: 3.4251e-04\n",
            "Epoch 65/100\n",
            "19/19 [==============================] - 5s 295ms/step - loss: 1.0119e-04 - val_loss: 3.0435e-04\n",
            "Epoch 66/100\n",
            "19/19 [==============================] - 4s 229ms/step - loss: 9.6014e-05 - val_loss: 2.9586e-04\n",
            "Epoch 67/100\n",
            "19/19 [==============================] - 4s 230ms/step - loss: 9.7074e-05 - val_loss: 4.0003e-04\n",
            "Epoch 68/100\n",
            "19/19 [==============================] - 6s 296ms/step - loss: 1.0163e-04 - val_loss: 4.8568e-04\n",
            "Epoch 69/100\n",
            "19/19 [==============================] - 4s 226ms/step - loss: 1.2051e-04 - val_loss: 3.0211e-04\n",
            "Epoch 70/100\n",
            "19/19 [==============================] - 5s 265ms/step - loss: 9.7626e-05 - val_loss: 3.2308e-04\n",
            "Epoch 71/100\n",
            "19/19 [==============================] - 6s 322ms/step - loss: 9.9637e-05 - val_loss: 6.4950e-04\n",
            "Epoch 72/100\n",
            "19/19 [==============================] - 4s 223ms/step - loss: 9.6109e-05 - val_loss: 3.9621e-04\n",
            "Epoch 73/100\n",
            "19/19 [==============================] - 6s 295ms/step - loss: 9.2539e-05 - val_loss: 4.6783e-04\n",
            "Epoch 74/100\n",
            "19/19 [==============================] - 4s 224ms/step - loss: 8.7518e-05 - val_loss: 3.6042e-04\n",
            "Epoch 75/100\n",
            "19/19 [==============================] - 4s 231ms/step - loss: 8.5892e-05 - val_loss: 2.9933e-04\n",
            "Epoch 76/100\n",
            "19/19 [==============================] - 6s 290ms/step - loss: 8.7164e-05 - val_loss: 5.2216e-04\n",
            "Epoch 77/100\n",
            "19/19 [==============================] - 4s 223ms/step - loss: 8.6560e-05 - val_loss: 5.3370e-04\n",
            "Epoch 78/100\n",
            "19/19 [==============================] - 5s 277ms/step - loss: 8.7954e-05 - val_loss: 3.3340e-04\n",
            "Epoch 79/100\n",
            "19/19 [==============================] - 5s 241ms/step - loss: 9.0120e-05 - val_loss: 2.9029e-04\n",
            "Epoch 80/100\n",
            "19/19 [==============================] - 4s 229ms/step - loss: 9.0889e-05 - val_loss: 3.8250e-04\n",
            "Epoch 81/100\n",
            "19/19 [==============================] - 6s 298ms/step - loss: 8.5302e-05 - val_loss: 2.7756e-04\n",
            "Epoch 82/100\n",
            "19/19 [==============================] - 4s 226ms/step - loss: 8.8641e-05 - val_loss: 5.9245e-04\n",
            "Epoch 83/100\n",
            "19/19 [==============================] - 4s 225ms/step - loss: 9.1278e-05 - val_loss: 2.7084e-04\n",
            "Epoch 84/100\n",
            "19/19 [==============================] - 6s 297ms/step - loss: 8.7793e-05 - val_loss: 3.7707e-04\n",
            "Epoch 85/100\n",
            "19/19 [==============================] - 4s 224ms/step - loss: 7.8927e-05 - val_loss: 3.4477e-04\n",
            "Epoch 86/100\n",
            "19/19 [==============================] - 4s 233ms/step - loss: 9.6143e-05 - val_loss: 3.0147e-04\n",
            "Epoch 87/100\n",
            "19/19 [==============================] - 5s 275ms/step - loss: 1.0282e-04 - val_loss: 3.9717e-04\n",
            "Epoch 88/100\n",
            "19/19 [==============================] - 4s 225ms/step - loss: 8.5993e-05 - val_loss: 2.6234e-04\n",
            "Epoch 89/100\n",
            "19/19 [==============================] - 5s 294ms/step - loss: 8.3283e-05 - val_loss: 3.1907e-04\n",
            "Epoch 90/100\n",
            "19/19 [==============================] - 4s 227ms/step - loss: 8.2844e-05 - val_loss: 5.8939e-04\n",
            "Epoch 91/100\n",
            "19/19 [==============================] - 4s 223ms/step - loss: 9.6358e-05 - val_loss: 2.6470e-04\n",
            "Epoch 92/100\n",
            "19/19 [==============================] - 6s 297ms/step - loss: 7.7468e-05 - val_loss: 3.5798e-04\n",
            "Epoch 93/100\n",
            "19/19 [==============================] - 4s 224ms/step - loss: 7.6647e-05 - val_loss: 2.6541e-04\n",
            "Epoch 94/100\n",
            "19/19 [==============================] - 4s 225ms/step - loss: 7.0530e-05 - val_loss: 4.7964e-04\n",
            "Epoch 95/100\n",
            "19/19 [==============================] - 5s 292ms/step - loss: 7.8408e-05 - val_loss: 2.8107e-04\n",
            "Epoch 96/100\n",
            "19/19 [==============================] - 4s 225ms/step - loss: 7.6871e-05 - val_loss: 3.2363e-04\n",
            "Epoch 97/100\n",
            "19/19 [==============================] - 4s 229ms/step - loss: 7.0175e-05 - val_loss: 3.6473e-04\n",
            "Epoch 98/100\n",
            "19/19 [==============================] - 5s 275ms/step - loss: 7.6643e-05 - val_loss: 2.9697e-04\n",
            "Epoch 99/100\n",
            "19/19 [==============================] - 4s 226ms/step - loss: 7.7511e-05 - val_loss: 3.3661e-04\n",
            "Epoch 100/100\n",
            "19/19 [==============================] - 5s 269ms/step - loss: 7.5858e-05 - val_loss: 9.2901e-04\n"
          ]
        },
        {
          "output_type": "execute_result",
          "data": {
            "text/plain": [
              "<keras.callbacks.History at 0x7f03e2ee6b90>"
            ]
          },
          "metadata": {},
          "execution_count": 28
        }
      ]
    },
    {
      "cell_type": "code",
      "source": [
        "train_predict=model.predict(X_train)\n",
        "test_predict= model.predict(X_test)"
      ],
      "metadata": {
        "colab": {
          "base_uri": "https://localhost:8080/"
        },
        "id": "FIP7DZGwsjs0",
        "outputId": "660dcaf4-c10e-40eb-9e00-e7537418e0e2"
      },
      "execution_count": 29,
      "outputs": [
        {
          "output_type": "stream",
          "name": "stdout",
          "text": [
            "38/38 [==============================] - 4s 66ms/step\n",
            "19/19 [==============================] - 1s 78ms/step\n"
          ]
        }
      ]
    },
    {
      "cell_type": "code",
      "source": [
        "train_predict=scaler.inverse_transform(train_predict)\n",
        "test_predict=scaler.inverse_transform(test_predict)"
      ],
      "metadata": {
        "id": "do7vYPoNsbDp"
      },
      "execution_count": 30,
      "outputs": []
    },
    {
      "cell_type": "code",
      "source": [
        "import math\n",
        "from sklearn.metrics import mean_squared_error\n",
        "math.sqrt(mean_squared_error(y_train,train_predict))"
      ],
      "metadata": {
        "colab": {
          "base_uri": "https://localhost:8080/"
        },
        "id": "AtY3Uw2Ls1rC",
        "outputId": "3c13b8b8-7211-45c3-b7d3-2786a8312d3c"
      },
      "execution_count": 31,
      "outputs": [
        {
          "output_type": "execute_result",
          "data": {
            "text/plain": [
              "1059.1136158322734"
            ]
          },
          "metadata": {},
          "execution_count": 31
        }
      ]
    },
    {
      "cell_type": "code",
      "source": [
        "math.sqrt(mean_squared_error(ytest,test_predict))"
      ],
      "metadata": {
        "colab": {
          "base_uri": "https://localhost:8080/"
        },
        "id": "BK75du0Qs1tl",
        "outputId": "3929b5d2-4c22-4228-c324-1688a94a4557"
      },
      "execution_count": 32,
      "outputs": [
        {
          "output_type": "execute_result",
          "data": {
            "text/plain": [
              "2499.5558649827253"
            ]
          },
          "metadata": {},
          "execution_count": 32
        }
      ]
    },
    {
      "cell_type": "code",
      "source": [
        "### Plotting \n",
        "# shift train predictions for plotting\n",
        "look_back=100\n",
        "trainPredictPlot = numpy.empty_like(df1)\n",
        "trainPredictPlot[:, :] = np.nan\n",
        "trainPredictPlot[look_back:len(train_predict)+look_back, :] = train_predict\n",
        "# shift test predictions for plotting\n",
        "testPredictPlot = numpy.empty_like(df1)\n",
        "testPredictPlot[:, :] = numpy.nan\n",
        "testPredictPlot[len(train_predict)+(look_back*2)+1:len(df1)-1, :] = test_predict\n",
        "# plot baseline and predictions\n",
        "plt.plot(scaler.inverse_transform(df1), color=\"green\")\n",
        "plt.plot(trainPredictPlot, color=\"blue\")\n",
        "plt.plot(testPredictPlot, color=\"red\")\n",
        "plt.show()"
      ],
      "metadata": {
        "colab": {
          "base_uri": "https://localhost:8080/",
          "height": 430
        },
        "id": "VnjPA3IXs1wH",
        "outputId": "5844480e-86de-40d5-c5c3-38bb371ba06c"
      },
      "execution_count": 36,
      "outputs": [
        {
          "output_type": "display_data",
          "data": {
            "text/plain": [
              "<Figure size 640x480 with 1 Axes>"
            ],
            "image/png": "[encoded data removed]"
          },
          "metadata": {}
        }
      ]
    },
    {
      "cell_type": "code",
      "source": [
        "len(test_data)"
      ],
      "metadata": {
        "colab": {
          "base_uri": "https://localhost:8080/"
        },
        "id": "4PvYu4kns5Go",
        "outputId": "bfaed272-ac3f-48c1-b536-66c308148f72"
      },
      "execution_count": 37,
      "outputs": [
        {
          "output_type": "execute_result",
          "data": {
            "text/plain": [
              "700"
            ]
          },
          "metadata": {},
          "execution_count": 37
        }
      ]
    },
    {
      "cell_type": "code",
      "source": [
        "x_input=test_data[len(test_data)-100:].reshape(1,-1)\n",
        "x_input.shape"
      ],
      "metadata": {
        "colab": {
          "base_uri": "https://localhost:8080/"
        },
        "id": "26vsONx3s5I6",
        "outputId": "8491b4d4-5f4f-4c3e-c06b-6c8d3a16af92"
      },
      "execution_count": 38,
      "outputs": [
        {
          "output_type": "execute_result",
          "data": {
            "text/plain": [
              "(1, 100)"
            ]
          },
          "metadata": {},
          "execution_count": 38
        }
      ]
    },
    {
      "cell_type": "code",
      "source": [
        "temp_input=list(x_input)\n",
        "temp_input=temp_input[0].tolist()"
      ],
      "metadata": {
        "id": "E7Z80LGBs5LL"
      },
      "execution_count": 39,
      "outputs": []
    },
    {
      "cell_type": "code",
      "source": [
        "temp_input"
      ],
      "metadata": {
        "colab": {
          "base_uri": "https://localhost:8080/"
        },
        "id": "z2zOSUIHs5Op",
        "outputId": "136b2245-eb53-43a7-cfa2-6e1bfa1802f5"
      },
      "execution_count": 40,
      "outputs": [
        {
          "output_type": "execute_result",
          "data": {
            "text/plain": [
              "[0.6925999348874166,\n",
              " 0.693409389267962,\n",
              " 0.6993662823257443,\n",
              " 0.6954538519221178,\n",
              " 0.6874628842249546,\n",
              " 0.6865288750135978,\n",
              " 0.6912715358273192,\n",
              " 0.7037042666224358,\n",
              " 0.695734024281579,\n",
              " 0.6890402916001892,\n",
              " 0.6777180649211145,\n",
              " 0.6768878345110196,\n",
              " 0.6720102308517122,\n",
              " 0.6792124695246367,\n",
              " 0.6783614630849923,\n",
              " 0.6778114557076016,\n",
              " 0.6717092317894586,\n",
              " 0.6691459258022363,\n",
              " 0.6661674539367237,\n",
              " 0.6592350502817287,\n",
              " 0.6498534567823051,\n",
              " 0.6545027268095394,\n",
              " 0.6532781572239464,\n",
              " 0.6503826881301463,\n",
              " 0.6476948273121127,\n",
              " 0.648120330531935,\n",
              " 0.644477684472995,\n",
              " 0.6433257296443398,\n",
              " 0.6528837673752057,\n",
              " 0.65373477381485,\n",
              " 0.6497081259219442,\n",
              " 0.646947650346973,\n",
              " 0.6583114290851466,\n",
              " 0.6694883755771033,\n",
              " 0.6690940364016054,\n",
              " 0.671200725797924,\n",
              " 0.6658457295181635,\n",
              " 0.6699346548264751,\n",
              " 0.6584774346285713,\n",
              " 0.6561112982290982,\n",
              " 0.6594737212553339,\n",
              " 0.6561839636592786,\n",
              " 0.6467815941303054,\n",
              " 0.6512129185402412,\n",
              " 0.6475080457391384,\n",
              " 0.6598265590449756,\n",
              " 0.6646626613184268,\n",
              " 0.6664580649842027,\n",
              " 0.6543989480082775,\n",
              " 0.646812707501387,\n",
              " 0.6388840172196293,\n",
              " 0.637109389583403,\n",
              " 0.6290354191145273,\n",
              " 0.6267211214424422,\n",
              " 0.6261400006939701,\n",
              " 0.6216048468095297,\n",
              " 0.6358121545676297,\n",
              " 0.6372443324289891,\n",
              " 0.6312666633416574,\n",
              " 0.6220303500293518,\n",
              " 0.6291391979157892,\n",
              " 0.6313081647275136,\n",
              " 0.6285476384792995,\n",
              " 0.6485458337517571,\n",
              " 0.6486288365234695,\n",
              " 0.6474665443532823,\n",
              " 0.6507044125487067,\n",
              " 0.6472589867507585,\n",
              " 0.6496458991797813,\n",
              " 0.6517837019471815,\n",
              " 0.6536206069988135,\n",
              " 0.6561009102143234,\n",
              " 0.6504761295898762,\n",
              " 0.6528941553899805,\n",
              " 0.6516591977896129,\n",
              " 0.6522714825824093,\n",
              " 0.6541395010051227,\n",
              " 0.6578859258653245,\n",
              " 0.6549905074447672,\n",
              " 0.6580934834678482,\n",
              " 0.6671118511628553,\n",
              " 0.6713771700293663,\n",
              " 0.6670288483911428,\n",
              " 0.6728196852322577,\n",
              " 0.6715224502164843,\n",
              " 0.6777802916632774,\n",
              " 0.6793681377265295,\n",
              " 0.6829070049842074,\n",
              " 0.6795238059284223,\n",
              " 0.680364424353292,\n",
              " 0.6813814363363611,\n",
              " 0.6740235294615438,\n",
              " 0.6710139442249499,\n",
              " 0.6699242668117003,\n",
              " 0.6715639516023406,\n",
              " 0.6742725884499237,\n",
              " 0.6741791976634366,\n",
              " 0.6712111138126988,\n",
              " 0.6711488363972931,\n",
              " 0.6849618049798951]"
            ]
          },
          "metadata": {},
          "execution_count": 40
        }
      ]
    },
    {
      "cell_type": "code",
      "source": [
        "from numpy import array\n",
        "\n",
        "lst_output=[]\n",
        "n_steps=100\n",
        "i=0\n",
        "while(i<30):\n",
        "    \n",
        "    if(len(temp_input)>100):\n",
        "        #print(temp_input)\n",
        "        x_input=np.array(temp_input[1:])\n",
        "        print(\"{} day input {}\".format(i,x_input))\n",
        "        x_input=x_input.reshape(1,-1)\n",
        "        x_input = x_input.reshape((1, n_steps, 1))  # reshaped, 1 means batch size, n_steps means time steps, 1 means number\n",
        "                                                    # of features\n",
        "        \n",
        "        #print(x_input)\n",
        "        yhat = model.predict(x_input, verbose=0)\n",
        "        print(\"{} day output {}\".format(i,yhat))\n",
        "        temp_input.extend(yhat[0].tolist())\n",
        "        temp_input=temp_input[1:]\n",
        "        #print(temp_input)\n",
        "        lst_output.extend(yhat.tolist())\n",
        "        i=i+1\n",
        "    else:\n",
        "        x_input = x_input.reshape((1, n_steps,1))\n",
        "        yhat = model.predict(x_input, verbose=0)\n",
        "        print(yhat[0])\n",
        "        temp_input.extend(yhat[0].tolist())\n",
        "        print(len(temp_input))\n",
        "        lst_output.extend(yhat.tolist())\n",
        "        i=i+1"
      ],
      "metadata": {
        "colab": {
          "base_uri": "https://localhost:8080/"
        },
        "id": "l7miWKPms1zj",
        "outputId": "691cc373-dc0c-4a82-d96b-dbd73d835b09"
      },
      "execution_count": 41,
      "outputs": [
        {
          "output_type": "stream",
          "name": "stdout",
          "text": [
            "[0.6946379]\n",
            "101\n",
            "1 day input [0.69340939 0.69936628 0.69545385 0.68746288 0.68652888 0.69127154\n",
            " 0.70370427 0.69573402 0.68904029 0.67771806 0.67688783 0.67201023\n",
            " 0.67921247 0.67836146 0.67781146 0.67170923 0.66914593 0.66616745\n",
            " 0.65923505 0.64985346 0.65450273 0.65327816 0.65038269 0.64769483\n",
            " 0.64812033 0.64447768 0.64332573 0.65288377 0.65373477 0.64970813\n",
            " 0.64694765 0.65831143 0.66948838 0.66909404 0.67120073 0.66584573\n",
            " 0.66993465 0.65847743 0.6561113  0.65947372 0.65618396 0.64678159\n",
            " 0.65121292 0.64750805 0.65982656 0.66466266 0.66645806 0.65439895\n",
            " 0.64681271 0.63888402 0.63710939 0.62903542 0.62672112 0.62614\n",
            " 0.62160485 0.63581215 0.63724433 0.63126666 0.62203035 0.6291392\n",
            " 0.63130816 0.62854764 0.64854583 0.64862884 0.64746654 0.65070441\n",
            " 0.64725899 0.6496459  0.6517837  0.65362061 0.65610091 0.65047613\n",
            " 0.65289416 0.6516592  0.65227148 0.6541395  0.65788593 0.65499051\n",
            " 0.65809348 0.66711185 0.67137717 0.66702885 0.67281969 0.67152245\n",
            " 0.67778029 0.67936814 0.682907   0.67952381 0.68036442 0.68138144\n",
            " 0.67402353 0.67101394 0.66992427 0.67156395 0.67427259 0.6741792\n",
            " 0.67121111 0.67114884 0.6849618  0.69463789]\n",
            "1 day output [[0.6972959]]\n",
            "2 day input [0.69936628 0.69545385 0.68746288 0.68652888 0.69127154 0.70370427\n",
            " 0.69573402 0.68904029 0.67771806 0.67688783 0.67201023 0.67921247\n",
            " 0.67836146 0.67781146 0.67170923 0.66914593 0.66616745 0.65923505\n",
            " 0.64985346 0.65450273 0.65327816 0.65038269 0.64769483 0.64812033\n",
            " 0.64447768 0.64332573 0.65288377 0.65373477 0.64970813 0.64694765\n",
            " 0.65831143 0.66948838 0.66909404 0.67120073 0.66584573 0.66993465\n",
            " 0.65847743 0.6561113  0.65947372 0.65618396 0.64678159 0.65121292\n",
            " 0.64750805 0.65982656 0.66466266 0.66645806 0.65439895 0.64681271\n",
            " 0.63888402 0.63710939 0.62903542 0.62672112 0.62614    0.62160485\n",
            " 0.63581215 0.63724433 0.63126666 0.62203035 0.6291392  0.63130816\n",
            " 0.62854764 0.64854583 0.64862884 0.64746654 0.65070441 0.64725899\n",
            " 0.6496459  0.6517837  0.65362061 0.65610091 0.65047613 0.65289416\n",
            " 0.6516592  0.65227148 0.6541395  0.65788593 0.65499051 0.65809348\n",
            " 0.66711185 0.67137717 0.66702885 0.67281969 0.67152245 0.67778029\n",
            " 0.67936814 0.682907   0.67952381 0.68036442 0.68138144 0.67402353\n",
            " 0.67101394 0.66992427 0.67156395 0.67427259 0.6741792  0.67121111\n",
            " 0.67114884 0.6849618  0.69463789 0.6972959 ]\n",
            "2 day output [[0.7024427]]\n",
            "3 day input [0.69545385 0.68746288 0.68652888 0.69127154 0.70370427 0.69573402\n",
            " 0.68904029 0.67771806 0.67688783 0.67201023 0.67921247 0.67836146\n",
            " 0.67781146 0.67170923 0.66914593 0.66616745 0.65923505 0.64985346\n",
            " 0.65450273 0.65327816 0.65038269 0.64769483 0.64812033 0.64447768\n",
            " 0.64332573 0.65288377 0.65373477 0.64970813 0.64694765 0.65831143\n",
            " 0.66948838 0.66909404 0.67120073 0.66584573 0.66993465 0.65847743\n",
            " 0.6561113  0.65947372 0.65618396 0.64678159 0.65121292 0.64750805\n",
            " 0.65982656 0.66466266 0.66645806 0.65439895 0.64681271 0.63888402\n",
            " 0.63710939 0.62903542 0.62672112 0.62614    0.62160485 0.63581215\n",
            " 0.63724433 0.63126666 0.62203035 0.6291392  0.63130816 0.62854764\n",
            " 0.64854583 0.64862884 0.64746654 0.65070441 0.64725899 0.6496459\n",
            " 0.6517837  0.65362061 0.65610091 0.65047613 0.65289416 0.6516592\n",
            " 0.65227148 0.6541395  0.65788593 0.65499051 0.65809348 0.66711185\n",
            " 0.67137717 0.66702885 0.67281969 0.67152245 0.67778029 0.67936814\n",
            " 0.682907   0.67952381 0.68036442 0.68138144 0.67402353 0.67101394\n",
            " 0.66992427 0.67156395 0.67427259 0.6741792  0.67121111 0.67114884\n",
            " 0.6849618  0.69463789 0.6972959  0.70244271]\n",
            "3 day output [[0.7096667]]\n",
            "4 day input [0.68746288 0.68652888 0.69127154 0.70370427 0.69573402 0.68904029\n",
            " 0.67771806 0.67688783 0.67201023 0.67921247 0.67836146 0.67781146\n",
            " 0.67170923 0.66914593 0.66616745 0.65923505 0.64985346 0.65450273\n",
            " 0.65327816 0.65038269 0.64769483 0.64812033 0.64447768 0.64332573\n",
            " 0.65288377 0.65373477 0.64970813 0.64694765 0.65831143 0.66948838\n",
            " 0.66909404 0.67120073 0.66584573 0.66993465 0.65847743 0.6561113\n",
            " 0.65947372 0.65618396 0.64678159 0.65121292 0.64750805 0.65982656\n",
            " 0.66466266 0.66645806 0.65439895 0.64681271 0.63888402 0.63710939\n",
            " 0.62903542 0.62672112 0.62614    0.62160485 0.63581215 0.63724433\n",
            " 0.63126666 0.62203035 0.6291392  0.63130816 0.62854764 0.64854583\n",
            " 0.64862884 0.64746654 0.65070441 0.64725899 0.6496459  0.6517837\n",
            " 0.65362061 0.65610091 0.65047613 0.65289416 0.6516592  0.65227148\n",
            " 0.6541395  0.65788593 0.65499051 0.65809348 0.66711185 0.67137717\n",
            " 0.66702885 0.67281969 0.67152245 0.67778029 0.67936814 0.682907\n",
            " 0.67952381 0.68036442 0.68138144 0.67402353 0.67101394 0.66992427\n",
            " 0.67156395 0.67427259 0.6741792  0.67121111 0.67114884 0.6849618\n",
            " 0.69463789 0.6972959  0.70244271 0.70966673]\n",
            "4 day output [[0.7185649]]\n",
            "5 day input [0.68652888 0.69127154 0.70370427 0.69573402 0.68904029 0.67771806\n",
            " 0.67688783 0.67201023 0.67921247 0.67836146 0.67781146 0.67170923\n",
            " 0.66914593 0.66616745 0.65923505 0.64985346 0.65450273 0.65327816\n",
            " 0.65038269 0.64769483 0.64812033 0.64447768 0.64332573 0.65288377\n",
            " 0.65373477 0.64970813 0.64694765 0.65831143 0.66948838 0.66909404\n",
            " 0.67120073 0.66584573 0.66993465 0.65847743 0.6561113  0.65947372\n",
            " 0.65618396 0.64678159 0.65121292 0.64750805 0.65982656 0.66466266\n",
            " 0.66645806 0.65439895 0.64681271 0.63888402 0.63710939 0.62903542\n",
            " 0.62672112 0.62614    0.62160485 0.63581215 0.63724433 0.63126666\n",
            " 0.62203035 0.6291392  0.63130816 0.62854764 0.64854583 0.64862884\n",
            " 0.64746654 0.65070441 0.64725899 0.6496459  0.6517837  0.65362061\n",
            " 0.65610091 0.65047613 0.65289416 0.6516592  0.65227148 0.6541395\n",
            " 0.65788593 0.65499051 0.65809348 0.66711185 0.67137717 0.66702885\n",
            " 0.67281969 0.67152245 0.67778029 0.67936814 0.682907   0.67952381\n",
            " 0.68036442 0.68138144 0.67402353 0.67101394 0.66992427 0.67156395\n",
            " 0.67427259 0.6741792  0.67121111 0.67114884 0.6849618  0.69463789\n",
            " 0.6972959  0.70244271 0.70966673 0.71856493]\n",
            "5 day output [[0.7288414]]\n",
            "6 day input [0.69127154 0.70370427 0.69573402 0.68904029 0.67771806 0.67688783\n",
            " 0.67201023 0.67921247 0.67836146 0.67781146 0.67170923 0.66914593\n",
            " 0.66616745 0.65923505 0.64985346 0.65450273 0.65327816 0.65038269\n",
            " 0.64769483 0.64812033 0.64447768 0.64332573 0.65288377 0.65373477\n",
            " 0.64970813 0.64694765 0.65831143 0.66948838 0.66909404 0.67120073\n",
            " 0.66584573 0.66993465 0.65847743 0.6561113  0.65947372 0.65618396\n",
            " 0.64678159 0.65121292 0.64750805 0.65982656 0.66466266 0.66645806\n",
            " 0.65439895 0.64681271 0.63888402 0.63710939 0.62903542 0.62672112\n",
            " 0.62614    0.62160485 0.63581215 0.63724433 0.63126666 0.62203035\n",
            " 0.6291392  0.63130816 0.62854764 0.64854583 0.64862884 0.64746654\n",
            " 0.65070441 0.64725899 0.6496459  0.6517837  0.65362061 0.65610091\n",
            " 0.65047613 0.65289416 0.6516592  0.65227148 0.6541395  0.65788593\n",
            " 0.65499051 0.65809348 0.66711185 0.67137717 0.66702885 0.67281969\n",
            " 0.67152245 0.67778029 0.67936814 0.682907   0.67952381 0.68036442\n",
            " 0.68138144 0.67402353 0.67101394 0.66992427 0.67156395 0.67427259\n",
            " 0.6741792  0.67121111 0.67114884 0.6849618  0.69463789 0.6972959\n",
            " 0.70244271 0.70966673 0.71856493 0.72884142]\n",
            "6 day output [[0.74032414]]\n",
            "7 day input [0.70370427 0.69573402 0.68904029 0.67771806 0.67688783 0.67201023\n",
            " 0.67921247 0.67836146 0.67781146 0.67170923 0.66914593 0.66616745\n",
            " 0.65923505 0.64985346 0.65450273 0.65327816 0.65038269 0.64769483\n",
            " 0.64812033 0.64447768 0.64332573 0.65288377 0.65373477 0.64970813\n",
            " 0.64694765 0.65831143 0.66948838 0.66909404 0.67120073 0.66584573\n",
            " 0.66993465 0.65847743 0.6561113  0.65947372 0.65618396 0.64678159\n",
            " 0.65121292 0.64750805 0.65982656 0.66466266 0.66645806 0.65439895\n",
            " 0.64681271 0.63888402 0.63710939 0.62903542 0.62672112 0.62614\n",
            " 0.62160485 0.63581215 0.63724433 0.63126666 0.62203035 0.6291392\n",
            " 0.63130816 0.62854764 0.64854583 0.64862884 0.64746654 0.65070441\n",
            " 0.64725899 0.6496459  0.6517837  0.65362061 0.65610091 0.65047613\n",
            " 0.65289416 0.6516592  0.65227148 0.6541395  0.65788593 0.65499051\n",
            " 0.65809348 0.66711185 0.67137717 0.66702885 0.67281969 0.67152245\n",
            " 0.67778029 0.67936814 0.682907   0.67952381 0.68036442 0.68138144\n",
            " 0.67402353 0.67101394 0.66992427 0.67156395 0.67427259 0.6741792\n",
            " 0.67121111 0.67114884 0.6849618  0.69463789 0.6972959  0.70244271\n",
            " 0.70966673 0.71856493 0.72884142 0.74032414]\n",
            "7 day output [[0.75294054]]\n",
            "8 day input [0.69573402 0.68904029 0.67771806 0.67688783 0.67201023 0.67921247\n",
            " 0.67836146 0.67781146 0.67170923 0.66914593 0.66616745 0.65923505\n",
            " 0.64985346 0.65450273 0.65327816 0.65038269 0.64769483 0.64812033\n",
            " 0.64447768 0.64332573 0.65288377 0.65373477 0.64970813 0.64694765\n",
            " 0.65831143 0.66948838 0.66909404 0.67120073 0.66584573 0.66993465\n",
            " 0.65847743 0.6561113  0.65947372 0.65618396 0.64678159 0.65121292\n",
            " 0.64750805 0.65982656 0.66466266 0.66645806 0.65439895 0.64681271\n",
            " 0.63888402 0.63710939 0.62903542 0.62672112 0.62614    0.62160485\n",
            " 0.63581215 0.63724433 0.63126666 0.62203035 0.6291392  0.63130816\n",
            " 0.62854764 0.64854583 0.64862884 0.64746654 0.65070441 0.64725899\n",
            " 0.6496459  0.6517837  0.65362061 0.65610091 0.65047613 0.65289416\n",
            " 0.6516592  0.65227148 0.6541395  0.65788593 0.65499051 0.65809348\n",
            " 0.66711185 0.67137717 0.66702885 0.67281969 0.67152245 0.67778029\n",
            " 0.67936814 0.682907   0.67952381 0.68036442 0.68138144 0.67402353\n",
            " 0.67101394 0.66992427 0.67156395 0.67427259 0.6741792  0.67121111\n",
            " 0.67114884 0.6849618  0.69463789 0.6972959  0.70244271 0.70966673\n",
            " 0.71856493 0.72884142 0.74032414 0.75294054]\n",
            "8 day output [[0.76668674]]\n",
            "9 day input [0.68904029 0.67771806 0.67688783 0.67201023 0.67921247 0.67836146\n",
            " 0.67781146 0.67170923 0.66914593 0.66616745 0.65923505 0.64985346\n",
            " 0.65450273 0.65327816 0.65038269 0.64769483 0.64812033 0.64447768\n",
            " 0.64332573 0.65288377 0.65373477 0.64970813 0.64694765 0.65831143\n",
            " 0.66948838 0.66909404 0.67120073 0.66584573 0.66993465 0.65847743\n",
            " 0.6561113  0.65947372 0.65618396 0.64678159 0.65121292 0.64750805\n",
            " 0.65982656 0.66466266 0.66645806 0.65439895 0.64681271 0.63888402\n",
            " 0.63710939 0.62903542 0.62672112 0.62614    0.62160485 0.63581215\n",
            " 0.63724433 0.63126666 0.62203035 0.6291392  0.63130816 0.62854764\n",
            " 0.64854583 0.64862884 0.64746654 0.65070441 0.64725899 0.6496459\n",
            " 0.6517837  0.65362061 0.65610091 0.65047613 0.65289416 0.6516592\n",
            " 0.65227148 0.6541395  0.65788593 0.65499051 0.65809348 0.66711185\n",
            " 0.67137717 0.66702885 0.67281969 0.67152245 0.67778029 0.67936814\n",
            " 0.682907   0.67952381 0.68036442 0.68138144 0.67402353 0.67101394\n",
            " 0.66992427 0.67156395 0.67427259 0.6741792  0.67121111 0.67114884\n",
            " 0.6849618  0.69463789 0.6972959  0.70244271 0.70966673 0.71856493\n",
            " 0.72884142 0.74032414 0.75294054 0.76668674]\n",
            "9 day output [[0.7815982]]\n",
            "10 day input [0.67771806 0.67688783 0.67201023 0.67921247 0.67836146 0.67781146\n",
            " 0.67170923 0.66914593 0.66616745 0.65923505 0.64985346 0.65450273\n",
            " 0.65327816 0.65038269 0.64769483 0.64812033 0.64447768 0.64332573\n",
            " 0.65288377 0.65373477 0.64970813 0.64694765 0.65831143 0.66948838\n",
            " 0.66909404 0.67120073 0.66584573 0.66993465 0.65847743 0.6561113\n",
            " 0.65947372 0.65618396 0.64678159 0.65121292 0.64750805 0.65982656\n",
            " 0.66466266 0.66645806 0.65439895 0.64681271 0.63888402 0.63710939\n",
            " 0.62903542 0.62672112 0.62614    0.62160485 0.63581215 0.63724433\n",
            " 0.63126666 0.62203035 0.6291392  0.63130816 0.62854764 0.64854583\n",
            " 0.64862884 0.64746654 0.65070441 0.64725899 0.6496459  0.6517837\n",
            " 0.65362061 0.65610091 0.65047613 0.65289416 0.6516592  0.65227148\n",
            " 0.6541395  0.65788593 0.65499051 0.65809348 0.66711185 0.67137717\n",
            " 0.66702885 0.67281969 0.67152245 0.67778029 0.67936814 0.682907\n",
            " 0.67952381 0.68036442 0.68138144 0.67402353 0.67101394 0.66992427\n",
            " 0.67156395 0.67427259 0.6741792  0.67121111 0.67114884 0.6849618\n",
            " 0.69463789 0.6972959  0.70244271 0.70966673 0.71856493 0.72884142\n",
            " 0.74032414 0.75294054 0.76668674 0.78159821]\n",
            "10 day output [[0.7977298]]\n",
            "11 day input [0.67688783 0.67201023 0.67921247 0.67836146 0.67781146 0.67170923\n",
            " 0.66914593 0.66616745 0.65923505 0.64985346 0.65450273 0.65327816\n",
            " 0.65038269 0.64769483 0.64812033 0.64447768 0.64332573 0.65288377\n",
            " 0.65373477 0.64970813 0.64694765 0.65831143 0.66948838 0.66909404\n",
            " 0.67120073 0.66584573 0.66993465 0.65847743 0.6561113  0.65947372\n",
            " 0.65618396 0.64678159 0.65121292 0.64750805 0.65982656 0.66466266\n",
            " 0.66645806 0.65439895 0.64681271 0.63888402 0.63710939 0.62903542\n",
            " 0.62672112 0.62614    0.62160485 0.63581215 0.63724433 0.63126666\n",
            " 0.62203035 0.6291392  0.63130816 0.62854764 0.64854583 0.64862884\n",
            " 0.64746654 0.65070441 0.64725899 0.6496459  0.6517837  0.65362061\n",
            " 0.65610091 0.65047613 0.65289416 0.6516592  0.65227148 0.6541395\n",
            " 0.65788593 0.65499051 0.65809348 0.66711185 0.67137717 0.66702885\n",
            " 0.67281969 0.67152245 0.67778029 0.67936814 0.682907   0.67952381\n",
            " 0.68036442 0.68138144 0.67402353 0.67101394 0.66992427 0.67156395\n",
            " 0.67427259 0.6741792  0.67121111 0.67114884 0.6849618  0.69463789\n",
            " 0.6972959  0.70244271 0.70966673 0.71856493 0.72884142 0.74032414\n",
            " 0.75294054 0.76668674 0.78159821 0.79772979]\n",
            "11 day output [[0.8151462]]\n",
            "12 day input [0.67201023 0.67921247 0.67836146 0.67781146 0.67170923 0.66914593\n",
            " 0.66616745 0.65923505 0.64985346 0.65450273 0.65327816 0.65038269\n",
            " 0.64769483 0.64812033 0.64447768 0.64332573 0.65288377 0.65373477\n",
            " 0.64970813 0.64694765 0.65831143 0.66948838 0.66909404 0.67120073\n",
            " 0.66584573 0.66993465 0.65847743 0.6561113  0.65947372 0.65618396\n",
            " 0.64678159 0.65121292 0.64750805 0.65982656 0.66466266 0.66645806\n",
            " 0.65439895 0.64681271 0.63888402 0.63710939 0.62903542 0.62672112\n",
            " 0.62614    0.62160485 0.63581215 0.63724433 0.63126666 0.62203035\n",
            " 0.6291392  0.63130816 0.62854764 0.64854583 0.64862884 0.64746654\n",
            " 0.65070441 0.64725899 0.6496459  0.6517837  0.65362061 0.65610091\n",
            " 0.65047613 0.65289416 0.6516592  0.65227148 0.6541395  0.65788593\n",
            " 0.65499051 0.65809348 0.66711185 0.67137717 0.66702885 0.67281969\n",
            " 0.67152245 0.67778029 0.67936814 0.682907   0.67952381 0.68036442\n",
            " 0.68138144 0.67402353 0.67101394 0.66992427 0.67156395 0.67427259\n",
            " 0.6741792  0.67121111 0.67114884 0.6849618  0.69463789 0.6972959\n",
            " 0.70244271 0.70966673 0.71856493 0.72884142 0.74032414 0.75294054\n",
            " 0.76668674 0.78159821 0.79772979 0.81514621]\n",
            "12 day output [[0.83391654]]\n",
            "13 day input [0.67921247 0.67836146 0.67781146 0.67170923 0.66914593 0.66616745\n",
            " 0.65923505 0.64985346 0.65450273 0.65327816 0.65038269 0.64769483\n",
            " 0.64812033 0.64447768 0.64332573 0.65288377 0.65373477 0.64970813\n",
            " 0.64694765 0.65831143 0.66948838 0.66909404 0.67120073 0.66584573\n",
            " 0.66993465 0.65847743 0.6561113  0.65947372 0.65618396 0.64678159\n",
            " 0.65121292 0.64750805 0.65982656 0.66466266 0.66645806 0.65439895\n",
            " 0.64681271 0.63888402 0.63710939 0.62903542 0.62672112 0.62614\n",
            " 0.62160485 0.63581215 0.63724433 0.63126666 0.62203035 0.6291392\n",
            " 0.63130816 0.62854764 0.64854583 0.64862884 0.64746654 0.65070441\n",
            " 0.64725899 0.6496459  0.6517837  0.65362061 0.65610091 0.65047613\n",
            " 0.65289416 0.6516592  0.65227148 0.6541395  0.65788593 0.65499051\n",
            " 0.65809348 0.66711185 0.67137717 0.66702885 0.67281969 0.67152245\n",
            " 0.67778029 0.67936814 0.682907   0.67952381 0.68036442 0.68138144\n",
            " 0.67402353 0.67101394 0.66992427 0.67156395 0.67427259 0.6741792\n",
            " 0.67121111 0.67114884 0.6849618  0.69463789 0.6972959  0.70244271\n",
            " 0.70966673 0.71856493 0.72884142 0.74032414 0.75294054 0.76668674\n",
            " 0.78159821 0.79772979 0.81514621 0.83391654]\n",
            "13 day output [[0.85411376]]\n",
            "14 day input [0.67836146 0.67781146 0.67170923 0.66914593 0.66616745 0.65923505\n",
            " 0.64985346 0.65450273 0.65327816 0.65038269 0.64769483 0.64812033\n",
            " 0.64447768 0.64332573 0.65288377 0.65373477 0.64970813 0.64694765\n",
            " 0.65831143 0.66948838 0.66909404 0.67120073 0.66584573 0.66993465\n",
            " 0.65847743 0.6561113  0.65947372 0.65618396 0.64678159 0.65121292\n",
            " 0.64750805 0.65982656 0.66466266 0.66645806 0.65439895 0.64681271\n",
            " 0.63888402 0.63710939 0.62903542 0.62672112 0.62614    0.62160485\n",
            " 0.63581215 0.63724433 0.63126666 0.62203035 0.6291392  0.63130816\n",
            " 0.62854764 0.64854583 0.64862884 0.64746654 0.65070441 0.64725899\n",
            " 0.6496459  0.6517837  0.65362061 0.65610091 0.65047613 0.65289416\n",
            " 0.6516592  0.65227148 0.6541395  0.65788593 0.65499051 0.65809348\n",
            " 0.66711185 0.67137717 0.66702885 0.67281969 0.67152245 0.67778029\n",
            " 0.67936814 0.682907   0.67952381 0.68036442 0.68138144 0.67402353\n",
            " 0.67101394 0.66992427 0.67156395 0.67427259 0.6741792  0.67121111\n",
            " 0.67114884 0.6849618  0.69463789 0.6972959  0.70244271 0.70966673\n",
            " 0.71856493 0.72884142 0.74032414 0.75294054 0.76668674 0.78159821\n",
            " 0.79772979 0.81514621 0.83391654 0.85411376]\n",
            "14 day output [[0.8758157]]\n",
            "15 day input [0.67781146 0.67170923 0.66914593 0.66616745 0.65923505 0.64985346\n",
            " 0.65450273 0.65327816 0.65038269 0.64769483 0.64812033 0.64447768\n",
            " 0.64332573 0.65288377 0.65373477 0.64970813 0.64694765 0.65831143\n",
            " 0.66948838 0.66909404 0.67120073 0.66584573 0.66993465 0.65847743\n",
            " 0.6561113  0.65947372 0.65618396 0.64678159 0.65121292 0.64750805\n",
            " 0.65982656 0.66466266 0.66645806 0.65439895 0.64681271 0.63888402\n",
            " 0.63710939 0.62903542 0.62672112 0.62614    0.62160485 0.63581215\n",
            " 0.63724433 0.63126666 0.62203035 0.6291392  0.63130816 0.62854764\n",
            " 0.64854583 0.64862884 0.64746654 0.65070441 0.64725899 0.6496459\n",
            " 0.6517837  0.65362061 0.65610091 0.65047613 0.65289416 0.6516592\n",
            " 0.65227148 0.6541395  0.65788593 0.65499051 0.65809348 0.66711185\n",
            " 0.67137717 0.66702885 0.67281969 0.67152245 0.67778029 0.67936814\n",
            " 0.682907   0.67952381 0.68036442 0.68138144 0.67402353 0.67101394\n",
            " 0.66992427 0.67156395 0.67427259 0.6741792  0.67121111 0.67114884\n",
            " 0.6849618  0.69463789 0.6972959  0.70244271 0.70966673 0.71856493\n",
            " 0.72884142 0.74032414 0.75294054 0.76668674 0.78159821 0.79772979\n",
            " 0.81514621 0.83391654 0.85411376 0.87581569]\n",
            "15 day output [[0.8991065]]\n",
            "16 day input [0.67170923 0.66914593 0.66616745 0.65923505 0.64985346 0.65450273\n",
            " 0.65327816 0.65038269 0.64769483 0.64812033 0.64447768 0.64332573\n",
            " 0.65288377 0.65373477 0.64970813 0.64694765 0.65831143 0.66948838\n",
            " 0.66909404 0.67120073 0.66584573 0.66993465 0.65847743 0.6561113\n",
            " 0.65947372 0.65618396 0.64678159 0.65121292 0.64750805 0.65982656\n",
            " 0.66466266 0.66645806 0.65439895 0.64681271 0.63888402 0.63710939\n",
            " 0.62903542 0.62672112 0.62614    0.62160485 0.63581215 0.63724433\n",
            " 0.63126666 0.62203035 0.6291392  0.63130816 0.62854764 0.64854583\n",
            " 0.64862884 0.64746654 0.65070441 0.64725899 0.6496459  0.6517837\n",
            " 0.65362061 0.65610091 0.65047613 0.65289416 0.6516592  0.65227148\n",
            " 0.6541395  0.65788593 0.65499051 0.65809348 0.66711185 0.67137717\n",
            " 0.66702885 0.67281969 0.67152245 0.67778029 0.67936814 0.682907\n",
            " 0.67952381 0.68036442 0.68138144 0.67402353 0.67101394 0.66992427\n",
            " 0.67156395 0.67427259 0.6741792  0.67121111 0.67114884 0.6849618\n",
            " 0.69463789 0.6972959  0.70244271 0.70966673 0.71856493 0.72884142\n",
            " 0.74032414 0.75294054 0.76668674 0.78159821 0.79772979 0.81514621\n",
            " 0.83391654 0.85411376 0.87581569 0.8991065 ]\n",
            "16 day output [[0.92407644]]\n",
            "17 day input [0.66914593 0.66616745 0.65923505 0.64985346 0.65450273 0.65327816\n",
            " 0.65038269 0.64769483 0.64812033 0.64447768 0.64332573 0.65288377\n",
            " 0.65373477 0.64970813 0.64694765 0.65831143 0.66948838 0.66909404\n",
            " 0.67120073 0.66584573 0.66993465 0.65847743 0.6561113  0.65947372\n",
            " 0.65618396 0.64678159 0.65121292 0.64750805 0.65982656 0.66466266\n",
            " 0.66645806 0.65439895 0.64681271 0.63888402 0.63710939 0.62903542\n",
            " 0.62672112 0.62614    0.62160485 0.63581215 0.63724433 0.63126666\n",
            " 0.62203035 0.6291392  0.63130816 0.62854764 0.64854583 0.64862884\n",
            " 0.64746654 0.65070441 0.64725899 0.6496459  0.6517837  0.65362061\n",
            " 0.65610091 0.65047613 0.65289416 0.6516592  0.65227148 0.6541395\n",
            " 0.65788593 0.65499051 0.65809348 0.66711185 0.67137717 0.66702885\n",
            " 0.67281969 0.67152245 0.67778029 0.67936814 0.682907   0.67952381\n",
            " 0.68036442 0.68138144 0.67402353 0.67101394 0.66992427 0.67156395\n",
            " 0.67427259 0.6741792  0.67121111 0.67114884 0.6849618  0.69463789\n",
            " 0.6972959  0.70244271 0.70966673 0.71856493 0.72884142 0.74032414\n",
            " 0.75294054 0.76668674 0.78159821 0.79772979 0.81514621 0.83391654\n",
            " 0.85411376 0.87581569 0.8991065  0.92407644]\n",
            "17 day output [[0.95082265]]\n",
            "18 day input [0.66616745 0.65923505 0.64985346 0.65450273 0.65327816 0.65038269\n",
            " 0.64769483 0.64812033 0.64447768 0.64332573 0.65288377 0.65373477\n",
            " 0.64970813 0.64694765 0.65831143 0.66948838 0.66909404 0.67120073\n",
            " 0.66584573 0.66993465 0.65847743 0.6561113  0.65947372 0.65618396\n",
            " 0.64678159 0.65121292 0.64750805 0.65982656 0.66466266 0.66645806\n",
            " 0.65439895 0.64681271 0.63888402 0.63710939 0.62903542 0.62672112\n",
            " 0.62614    0.62160485 0.63581215 0.63724433 0.63126666 0.62203035\n",
            " 0.6291392  0.63130816 0.62854764 0.64854583 0.64862884 0.64746654\n",
            " 0.65070441 0.64725899 0.6496459  0.6517837  0.65362061 0.65610091\n",
            " 0.65047613 0.65289416 0.6516592  0.65227148 0.6541395  0.65788593\n",
            " 0.65499051 0.65809348 0.66711185 0.67137717 0.66702885 0.67281969\n",
            " 0.67152245 0.67778029 0.67936814 0.682907   0.67952381 0.68036442\n",
            " 0.68138144 0.67402353 0.67101394 0.66992427 0.67156395 0.67427259\n",
            " 0.6741792  0.67121111 0.67114884 0.6849618  0.69463789 0.6972959\n",
            " 0.70244271 0.70966673 0.71856493 0.72884142 0.74032414 0.75294054\n",
            " 0.76668674 0.78159821 0.79772979 0.81514621 0.83391654 0.85411376\n",
            " 0.87581569 0.8991065  0.92407644 0.95082265]\n",
            "18 day output [[0.9794486]]\n",
            "19 day input [0.65923505 0.64985346 0.65450273 0.65327816 0.65038269 0.64769483\n",
            " 0.64812033 0.64447768 0.64332573 0.65288377 0.65373477 0.64970813\n",
            " 0.64694765 0.65831143 0.66948838 0.66909404 0.67120073 0.66584573\n",
            " 0.66993465 0.65847743 0.6561113  0.65947372 0.65618396 0.64678159\n",
            " 0.65121292 0.64750805 0.65982656 0.66466266 0.66645806 0.65439895\n",
            " 0.64681271 0.63888402 0.63710939 0.62903542 0.62672112 0.62614\n",
            " 0.62160485 0.63581215 0.63724433 0.63126666 0.62203035 0.6291392\n",
            " 0.63130816 0.62854764 0.64854583 0.64862884 0.64746654 0.65070441\n",
            " 0.64725899 0.6496459  0.6517837  0.65362061 0.65610091 0.65047613\n",
            " 0.65289416 0.6516592  0.65227148 0.6541395  0.65788593 0.65499051\n",
            " 0.65809348 0.66711185 0.67137717 0.66702885 0.67281969 0.67152245\n",
            " 0.67778029 0.67936814 0.682907   0.67952381 0.68036442 0.68138144\n",
            " 0.67402353 0.67101394 0.66992427 0.67156395 0.67427259 0.6741792\n",
            " 0.67121111 0.67114884 0.6849618  0.69463789 0.6972959  0.70244271\n",
            " 0.70966673 0.71856493 0.72884142 0.74032414 0.75294054 0.76668674\n",
            " 0.78159821 0.79772979 0.81514621 0.83391654 0.85411376 0.87581569\n",
            " 0.8991065  0.92407644 0.95082265 0.97944862]\n",
            "19 day output [[1.0100617]]\n",
            "20 day input [0.64985346 0.65450273 0.65327816 0.65038269 0.64769483 0.64812033\n",
            " 0.64447768 0.64332573 0.65288377 0.65373477 0.64970813 0.64694765\n",
            " 0.65831143 0.66948838 0.66909404 0.67120073 0.66584573 0.66993465\n",
            " 0.65847743 0.6561113  0.65947372 0.65618396 0.64678159 0.65121292\n",
            " 0.64750805 0.65982656 0.66466266 0.66645806 0.65439895 0.64681271\n",
            " 0.63888402 0.63710939 0.62903542 0.62672112 0.62614    0.62160485\n",
            " 0.63581215 0.63724433 0.63126666 0.62203035 0.6291392  0.63130816\n",
            " 0.62854764 0.64854583 0.64862884 0.64746654 0.65070441 0.64725899\n",
            " 0.6496459  0.6517837  0.65362061 0.65610091 0.65047613 0.65289416\n",
            " 0.6516592  0.65227148 0.6541395  0.65788593 0.65499051 0.65809348\n",
            " 0.66711185 0.67137717 0.66702885 0.67281969 0.67152245 0.67778029\n",
            " 0.67936814 0.682907   0.67952381 0.68036442 0.68138144 0.67402353\n",
            " 0.67101394 0.66992427 0.67156395 0.67427259 0.6741792  0.67121111\n",
            " 0.67114884 0.6849618  0.69463789 0.6972959  0.70244271 0.70966673\n",
            " 0.71856493 0.72884142 0.74032414 0.75294054 0.76668674 0.78159821\n",
            " 0.79772979 0.81514621 0.83391654 0.85411376 0.87581569 0.8991065\n",
            " 0.92407644 0.95082265 0.97944862 1.01006174]\n",
            "20 day output [[1.0427719]]\n",
            "21 day input [0.65450273 0.65327816 0.65038269 0.64769483 0.64812033 0.64447768\n",
            " 0.64332573 0.65288377 0.65373477 0.64970813 0.64694765 0.65831143\n",
            " 0.66948838 0.66909404 0.67120073 0.66584573 0.66993465 0.65847743\n",
            " 0.6561113  0.65947372 0.65618396 0.64678159 0.65121292 0.64750805\n",
            " 0.65982656 0.66466266 0.66645806 0.65439895 0.64681271 0.63888402\n",
            " 0.63710939 0.62903542 0.62672112 0.62614    0.62160485 0.63581215\n",
            " 0.63724433 0.63126666 0.62203035 0.6291392  0.63130816 0.62854764\n",
            " 0.64854583 0.64862884 0.64746654 0.65070441 0.64725899 0.6496459\n",
            " 0.6517837  0.65362061 0.65610091 0.65047613 0.65289416 0.6516592\n",
            " 0.65227148 0.6541395  0.65788593 0.65499051 0.65809348 0.66711185\n",
            " 0.67137717 0.66702885 0.67281969 0.67152245 0.67778029 0.67936814\n",
            " 0.682907   0.67952381 0.68036442 0.68138144 0.67402353 0.67101394\n",
            " 0.66992427 0.67156395 0.67427259 0.6741792  0.67121111 0.67114884\n",
            " 0.6849618  0.69463789 0.6972959  0.70244271 0.70966673 0.71856493\n",
            " 0.72884142 0.74032414 0.75294054 0.76668674 0.78159821 0.79772979\n",
            " 0.81514621 0.83391654 0.85411376 0.87581569 0.8991065  0.92407644\n",
            " 0.95082265 0.97944862 1.01006174 1.04277194]\n",
            "21 day output [[1.0776887]]\n",
            "22 day input [0.65327816 0.65038269 0.64769483 0.64812033 0.64447768 0.64332573\n",
            " 0.65288377 0.65373477 0.64970813 0.64694765 0.65831143 0.66948838\n",
            " 0.66909404 0.67120073 0.66584573 0.66993465 0.65847743 0.6561113\n",
            " 0.65947372 0.65618396 0.64678159 0.65121292 0.64750805 0.65982656\n",
            " 0.66466266 0.66645806 0.65439895 0.64681271 0.63888402 0.63710939\n",
            " 0.62903542 0.62672112 0.62614    0.62160485 0.63581215 0.63724433\n",
            " 0.63126666 0.62203035 0.6291392  0.63130816 0.62854764 0.64854583\n",
            " 0.64862884 0.64746654 0.65070441 0.64725899 0.6496459  0.6517837\n",
            " 0.65362061 0.65610091 0.65047613 0.65289416 0.6516592  0.65227148\n",
            " 0.6541395  0.65788593 0.65499051 0.65809348 0.66711185 0.67137717\n",
            " 0.66702885 0.67281969 0.67152245 0.67778029 0.67936814 0.682907\n",
            " 0.67952381 0.68036442 0.68138144 0.67402353 0.67101394 0.66992427\n",
            " 0.67156395 0.67427259 0.6741792  0.67121111 0.67114884 0.6849618\n",
            " 0.69463789 0.6972959  0.70244271 0.70966673 0.71856493 0.72884142\n",
            " 0.74032414 0.75294054 0.76668674 0.78159821 0.79772979 0.81514621\n",
            " 0.83391654 0.85411376 0.87581569 0.8991065  0.92407644 0.95082265\n",
            " 0.97944862 1.01006174 1.04277194 1.07768869]\n",
            "22 day output [[1.1149206]]\n",
            "23 day input [0.65038269 0.64769483 0.64812033 0.64447768 0.64332573 0.65288377\n",
            " 0.65373477 0.64970813 0.64694765 0.65831143 0.66948838 0.66909404\n",
            " 0.67120073 0.66584573 0.66993465 0.65847743 0.6561113  0.65947372\n",
            " 0.65618396 0.64678159 0.65121292 0.64750805 0.65982656 0.66466266\n",
            " 0.66645806 0.65439895 0.64681271 0.63888402 0.63710939 0.62903542\n",
            " 0.62672112 0.62614    0.62160485 0.63581215 0.63724433 0.63126666\n",
            " 0.62203035 0.6291392  0.63130816 0.62854764 0.64854583 0.64862884\n",
            " 0.64746654 0.65070441 0.64725899 0.6496459  0.6517837  0.65362061\n",
            " 0.65610091 0.65047613 0.65289416 0.6516592  0.65227148 0.6541395\n",
            " 0.65788593 0.65499051 0.65809348 0.66711185 0.67137717 0.66702885\n",
            " 0.67281969 0.67152245 0.67778029 0.67936814 0.682907   0.67952381\n",
            " 0.68036442 0.68138144 0.67402353 0.67101394 0.66992427 0.67156395\n",
            " 0.67427259 0.6741792  0.67121111 0.67114884 0.6849618  0.69463789\n",
            " 0.6972959  0.70244271 0.70966673 0.71856493 0.72884142 0.74032414\n",
            " 0.75294054 0.76668674 0.78159821 0.79772979 0.81514621 0.83391654\n",
            " 0.85411376 0.87581569 0.8991065  0.92407644 0.95082265 0.97944862\n",
            " 1.01006174 1.04277194 1.07768869 1.11492062]\n",
            "23 day output [[1.1545708]]\n",
            "24 day input [0.64769483 0.64812033 0.64447768 0.64332573 0.65288377 0.65373477\n",
            " 0.64970813 0.64694765 0.65831143 0.66948838 0.66909404 0.67120073\n",
            " 0.66584573 0.66993465 0.65847743 0.6561113  0.65947372 0.65618396\n",
            " 0.64678159 0.65121292 0.64750805 0.65982656 0.66466266 0.66645806\n",
            " 0.65439895 0.64681271 0.63888402 0.63710939 0.62903542 0.62672112\n",
            " 0.62614    0.62160485 0.63581215 0.63724433 0.63126666 0.62203035\n",
            " 0.6291392  0.63130816 0.62854764 0.64854583 0.64862884 0.64746654\n",
            " 0.65070441 0.64725899 0.6496459  0.6517837  0.65362061 0.65610091\n",
            " 0.65047613 0.65289416 0.6516592  0.65227148 0.6541395  0.65788593\n",
            " 0.65499051 0.65809348 0.66711185 0.67137717 0.66702885 0.67281969\n",
            " 0.67152245 0.67778029 0.67936814 0.682907   0.67952381 0.68036442\n",
            " 0.68138144 0.67402353 0.67101394 0.66992427 0.67156395 0.67427259\n",
            " 0.6741792  0.67121111 0.67114884 0.6849618  0.69463789 0.6972959\n",
            " 0.70244271 0.70966673 0.71856493 0.72884142 0.74032414 0.75294054\n",
            " 0.76668674 0.78159821 0.79772979 0.81514621 0.83391654 0.85411376\n",
            " 0.87581569 0.8991065  0.92407644 0.95082265 0.97944862 1.01006174\n",
            " 1.04277194 1.07768869 1.11492062 1.15457082]\n",
            "24 day output [[1.1967373]]\n",
            "25 day input [0.64812033 0.64447768 0.64332573 0.65288377 0.65373477 0.64970813\n",
            " 0.64694765 0.65831143 0.66948838 0.66909404 0.67120073 0.66584573\n",
            " 0.66993465 0.65847743 0.6561113  0.65947372 0.65618396 0.64678159\n",
            " 0.65121292 0.64750805 0.65982656 0.66466266 0.66645806 0.65439895\n",
            " 0.64681271 0.63888402 0.63710939 0.62903542 0.62672112 0.62614\n",
            " 0.62160485 0.63581215 0.63724433 0.63126666 0.62203035 0.6291392\n",
            " 0.63130816 0.62854764 0.64854583 0.64862884 0.64746654 0.65070441\n",
            " 0.64725899 0.6496459  0.6517837  0.65362061 0.65610091 0.65047613\n",
            " 0.65289416 0.6516592  0.65227148 0.6541395  0.65788593 0.65499051\n",
            " 0.65809348 0.66711185 0.67137717 0.66702885 0.67281969 0.67152245\n",
            " 0.67778029 0.67936814 0.682907   0.67952381 0.68036442 0.68138144\n",
            " 0.67402353 0.67101394 0.66992427 0.67156395 0.67427259 0.6741792\n",
            " 0.67121111 0.67114884 0.6849618  0.69463789 0.6972959  0.70244271\n",
            " 0.70966673 0.71856493 0.72884142 0.74032414 0.75294054 0.76668674\n",
            " 0.78159821 0.79772979 0.81514621 0.83391654 0.85411376 0.87581569\n",
            " 0.8991065  0.92407644 0.95082265 0.97944862 1.01006174 1.04277194\n",
            " 1.07768869 1.11492062 1.15457082 1.19673729]\n",
            "25 day output [[1.241514]]\n",
            "26 day input [0.64447768 0.64332573 0.65288377 0.65373477 0.64970813 0.64694765\n",
            " 0.65831143 0.66948838 0.66909404 0.67120073 0.66584573 0.66993465\n",
            " 0.65847743 0.6561113  0.65947372 0.65618396 0.64678159 0.65121292\n",
            " 0.64750805 0.65982656 0.66466266 0.66645806 0.65439895 0.64681271\n",
            " 0.63888402 0.63710939 0.62903542 0.62672112 0.62614    0.62160485\n",
            " 0.63581215 0.63724433 0.63126666 0.62203035 0.6291392  0.63130816\n",
            " 0.62854764 0.64854583 0.64862884 0.64746654 0.65070441 0.64725899\n",
            " 0.6496459  0.6517837  0.65362061 0.65610091 0.65047613 0.65289416\n",
            " 0.6516592  0.65227148 0.6541395  0.65788593 0.65499051 0.65809348\n",
            " 0.66711185 0.67137717 0.66702885 0.67281969 0.67152245 0.67778029\n",
            " 0.67936814 0.682907   0.67952381 0.68036442 0.68138144 0.67402353\n",
            " 0.67101394 0.66992427 0.67156395 0.67427259 0.6741792  0.67121111\n",
            " 0.67114884 0.6849618  0.69463789 0.6972959  0.70244271 0.70966673\n",
            " 0.71856493 0.72884142 0.74032414 0.75294054 0.76668674 0.78159821\n",
            " 0.79772979 0.81514621 0.83391654 0.85411376 0.87581569 0.8991065\n",
            " 0.92407644 0.95082265 0.97944862 1.01006174 1.04277194 1.07768869\n",
            " 1.11492062 1.15457082 1.19673729 1.24151397]\n",
            "26 day output [[1.2889919]]\n",
            "27 day input [0.64332573 0.65288377 0.65373477 0.64970813 0.64694765 0.65831143\n",
            " 0.66948838 0.66909404 0.67120073 0.66584573 0.66993465 0.65847743\n",
            " 0.6561113  0.65947372 0.65618396 0.64678159 0.65121292 0.64750805\n",
            " 0.65982656 0.66466266 0.66645806 0.65439895 0.64681271 0.63888402\n",
            " 0.63710939 0.62903542 0.62672112 0.62614    0.62160485 0.63581215\n",
            " 0.63724433 0.63126666 0.62203035 0.6291392  0.63130816 0.62854764\n",
            " 0.64854583 0.64862884 0.64746654 0.65070441 0.64725899 0.6496459\n",
            " 0.6517837  0.65362061 0.65610091 0.65047613 0.65289416 0.6516592\n",
            " 0.65227148 0.6541395  0.65788593 0.65499051 0.65809348 0.66711185\n",
            " 0.67137717 0.66702885 0.67281969 0.67152245 0.67778029 0.67936814\n",
            " 0.682907   0.67952381 0.68036442 0.68138144 0.67402353 0.67101394\n",
            " 0.66992427 0.67156395 0.67427259 0.6741792  0.67121111 0.67114884\n",
            " 0.6849618  0.69463789 0.6972959  0.70244271 0.70966673 0.71856493\n",
            " 0.72884142 0.74032414 0.75294054 0.76668674 0.78159821 0.79772979\n",
            " 0.81514621 0.83391654 0.85411376 0.87581569 0.8991065  0.92407644\n",
            " 0.95082265 0.97944862 1.01006174 1.04277194 1.07768869 1.11492062\n",
            " 1.15457082 1.19673729 1.24151397 1.28899193]\n",
            "27 day output [[1.339264]]\n",
            "28 day input [0.65288377 0.65373477 0.64970813 0.64694765 0.65831143 0.66948838\n",
            " 0.66909404 0.67120073 0.66584573 0.66993465 0.65847743 0.6561113\n",
            " 0.65947372 0.65618396 0.64678159 0.65121292 0.64750805 0.65982656\n",
            " 0.66466266 0.66645806 0.65439895 0.64681271 0.63888402 0.63710939\n",
            " 0.62903542 0.62672112 0.62614    0.62160485 0.63581215 0.63724433\n",
            " 0.63126666 0.62203035 0.6291392  0.63130816 0.62854764 0.64854583\n",
            " 0.64862884 0.64746654 0.65070441 0.64725899 0.6496459  0.6517837\n",
            " 0.65362061 0.65610091 0.65047613 0.65289416 0.6516592  0.65227148\n",
            " 0.6541395  0.65788593 0.65499051 0.65809348 0.66711185 0.67137717\n",
            " 0.66702885 0.67281969 0.67152245 0.67778029 0.67936814 0.682907\n",
            " 0.67952381 0.68036442 0.68138144 0.67402353 0.67101394 0.66992427\n",
            " 0.67156395 0.67427259 0.6741792  0.67121111 0.67114884 0.6849618\n",
            " 0.69463789 0.6972959  0.70244271 0.70966673 0.71856493 0.72884142\n",
            " 0.74032414 0.75294054 0.76668674 0.78159821 0.79772979 0.81514621\n",
            " 0.83391654 0.85411376 0.87581569 0.8991065  0.92407644 0.95082265\n",
            " 0.97944862 1.01006174 1.04277194 1.07768869 1.11492062 1.15457082\n",
            " 1.19673729 1.24151397 1.28899193 1.33926404]\n",
            "28 day output [[1.3924298]]\n",
            "29 day input [0.65373477 0.64970813 0.64694765 0.65831143 0.66948838 0.66909404\n",
            " 0.67120073 0.66584573 0.66993465 0.65847743 0.6561113  0.65947372\n",
            " 0.65618396 0.64678159 0.65121292 0.64750805 0.65982656 0.66466266\n",
            " 0.66645806 0.65439895 0.64681271 0.63888402 0.63710939 0.62903542\n",
            " 0.62672112 0.62614    0.62160485 0.63581215 0.63724433 0.63126666\n",
            " 0.62203035 0.6291392  0.63130816 0.62854764 0.64854583 0.64862884\n",
            " 0.64746654 0.65070441 0.64725899 0.6496459  0.6517837  0.65362061\n",
            " 0.65610091 0.65047613 0.65289416 0.6516592  0.65227148 0.6541395\n",
            " 0.65788593 0.65499051 0.65809348 0.66711185 0.67137717 0.66702885\n",
            " 0.67281969 0.67152245 0.67778029 0.67936814 0.682907   0.67952381\n",
            " 0.68036442 0.68138144 0.67402353 0.67101394 0.66992427 0.67156395\n",
            " 0.67427259 0.6741792  0.67121111 0.67114884 0.6849618  0.69463789\n",
            " 0.6972959  0.70244271 0.70966673 0.71856493 0.72884142 0.74032414\n",
            " 0.75294054 0.76668674 0.78159821 0.79772979 0.81514621 0.83391654\n",
            " 0.85411376 0.87581569 0.8991065  0.92407644 0.95082265 0.97944862\n",
            " 1.01006174 1.04277194 1.07768869 1.11492062 1.15457082 1.19673729\n",
            " 1.24151397 1.28899193 1.33926404 1.39242983]\n",
            "29 day output [[1.4486046]]\n"
          ]
        }
      ]
    },
    {
      "cell_type": "code",
      "source": [
        "day_new=np.arange(1,101)\n",
        "day_pred=np.arange(101,131)"
      ],
      "metadata": {
        "id": "jpL6CeZysbHG"
      },
      "execution_count": 42,
      "outputs": []
    },
    {
      "cell_type": "code",
      "source": [
        "import matplotlib.pyplot as plt"
      ],
      "metadata": {
        "id": "NqVx1HsCtIhn"
      },
      "execution_count": 43,
      "outputs": []
    },
    {
      "cell_type": "code",
      "source": [
        "loss = model.evaluate(X_test, ytest)\n",
        "accuracy = 1 - loss  # Assuming you are using a loss function where a lower value indicates better performance\n",
        "\n",
        "print(\"Accuracy: {:.2f}%\".format(accuracy * 100))\n"
      ],
      "metadata": {
        "colab": {
          "base_uri": "https://localhost:8080/"
        },
        "id": "xPPuFdPsqnoZ",
        "outputId": "3a375a83-3fde-468f-fd88-d4c53a40f4d5"
      },
      "execution_count": 46,
      "outputs": [
        {
          "output_type": "stream",
          "name": "stdout",
          "text": [
            "19/19 [==============================] - 2s 82ms/step - loss: 9.2901e-04\n",
            "Accuracy: 99.91%\n"
          ]
        }
      ]
    },
    {
      "cell_type": "code",
      "source": [
        "plt.plot(day_new,scaler.inverse_transform(df1[len(df1)-100:]))\n",
        "plt.plot(day_pred,scaler.inverse_transform(lst_output))"
      ],
      "metadata": {
        "colab": {
          "base_uri": "https://localhost:8080/",
          "height": 447
        },
        "id": "w_c8NSq_rBzu",
        "outputId": "22c968f5-498b-4e5c-f1ec-1da997f5458e"
      },
      "execution_count": 47,
      "outputs": [
        {
          "output_type": "execute_result",
          "data": {
            "text/plain": [
              "[<matplotlib.lines.Line2D at 0x7f03d3c355d0>]"
            ]
          },
          "metadata": {},
          "execution_count": 47
        },
        {
          "output_type": "display_data",
          "data": {
            "text/plain": [
              "<Figure size 640x480 with 1 Axes>"
            ],
            "image/png": "[encoded data removed]"
          },
          "metadata": {}
        }
      ]
    },
    {
      "cell_type": "code",
      "source": [],
      "metadata": {
        "id": "5gCbG1JkwFW5"
      },
      "execution_count": null,
      "outputs": []
    }
  ]
}